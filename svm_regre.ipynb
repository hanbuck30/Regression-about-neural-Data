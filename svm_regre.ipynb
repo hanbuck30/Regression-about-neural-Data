{
  "nbformat": 4,
  "nbformat_minor": 0,
  "metadata": {
    "colab": {
      "provenance": [],
      "authorship_tag": "ABX9TyNf87xR2zqc+bwRY0nBTUhQ",
      "include_colab_link": true
    },
    "kernelspec": {
      "name": "python3",
      "display_name": "Python 3"
    },
    "language_info": {
      "name": "python"
    },
    "accelerator": "GPU",
    "gpuClass": "standard"
  },
  "cells": [
    {
      "cell_type": "markdown",
      "metadata": {
        "id": "view-in-github",
        "colab_type": "text"
      },
      "source": [
        "<a href=\"https://colab.research.google.com/github/hanbuck30/myrepo/blob/main/svm_regre.ipynb\" target=\"_parent\"><img src=\"https://colab.research.google.com/assets/colab-badge.svg\" alt=\"Open In Colab\"/></a>"
      ]
    },
    {
      "cell_type": "code",
      "execution_count": 1,
      "metadata": {
        "id": "MJHzOBPF4Av8"
      },
      "outputs": [],
      "source": [
        "from sklearn import svm\n",
        "from sklearn.ensemble import GradientBoostingRegressor\n",
        "from sklearn.metrics import mean_squared_error\n",
        "import pandas as pd\n",
        "import numpy as np\n",
        "import matplotlib.pyplot as plt"
      ]
    },
    {
      "cell_type": "markdown",
      "source": [
        "Dataset 준비"
      ],
      "metadata": {
        "id": "ukH-n2ocHlfQ"
      }
    },
    {
      "cell_type": "code",
      "source": [
        "df=pd.read_csv(\"Data.csv\",encoding='CP949')\n",
        "df"
      ],
      "metadata": {
        "colab": {
          "base_uri": "https://localhost:8080/",
          "height": 731
        },
        "id": "dYYnVkBf4vPJ",
        "outputId": "d17051a9-2b94-49cc-b6b7-846b1747680c"
      },
      "execution_count": 6,
      "outputs": [
        {
          "output_type": "execute_result",
          "data": {
            "text/plain": [
              "     PSS(지각된 스트레스 척도)   코르티솔  심박수  산소포화도  심박변이   0_Fp1_δ (0)   0_Fp2_δ (1)  \\\n",
              "0                  16  0.088   83     97    31  1.260000e-12  7.450000e-13   \n",
              "1                  18  0.171   72     98    37  2.100000e-13  3.350000e-13   \n",
              "2                  26  0.122   92     97    24  2.230000e-40  9.940000e-41   \n",
              "3                  17  0.124   76     97    45  1.010000e-13  4.240000e-14   \n",
              "4                  15  0.128   75     48    38  9.830000e-16  9.980000e-15   \n",
              "..                ...    ...  ...    ...   ...           ...           ...   \n",
              "175                27  0.112   85     98    32  2.770000e-14  8.590000e-14   \n",
              "176                23  0.134   92     98    14  4.570000e-14  1.400000e-13   \n",
              "177                10  0.151   68     98    41  5.440000e-42  4.330000e-42   \n",
              "178                10  0.107   83     98    31  6.060000e-13  2.660000e-13   \n",
              "179                12  0.182   74     98    38  1.920000e-13  4.000000e-15   \n",
              "\n",
              "       0_F3_δ (2)    0_F4_δ (3)    0_F7_δ (4)  ...  3_T7_Alpha Peak_w (712)  \\\n",
              "0    4.130000e-14  5.580000e-13  2.570000e-13  ...                    -4.35   \n",
              "1    4.840000e-14  2.730000e-14  2.280000e-15  ...                     0.40   \n",
              "2    7.800000e-42  1.470000e-41  5.450000e-41  ...                    -2.95   \n",
              "3    5.350000e-13  3.600000e-13  5.650000e-14  ...                     0.90   \n",
              "4    3.030000e-13  6.670000e-14  7.040000e-15  ...                     0.00   \n",
              "..            ...           ...           ...  ...                      ...   \n",
              "175  1.760000e-13  5.310000e-15  9.760000e-13  ...                     7.90   \n",
              "176  1.630000e-14  4.280000e-14  1.480000e-13  ...                     0.45   \n",
              "177  4.980000e-40  5.050000e-40  4.560000e-41  ...                    -0.60   \n",
              "178  4.220000e-13  1.460000e-14  1.890000e-14  ...                    -4.10   \n",
              "179  2.680000e-13  3.430000e-13  3.490000e-13  ...                    -0.35   \n",
              "\n",
              "     3_T8_Alpha Peak_w (713)  3_Cz_Alpha Peak_w (714)  \\\n",
              "0                      -3.35                    -3.40   \n",
              "1                       4.15                    -3.80   \n",
              "2                      -3.15                    -3.00   \n",
              "3                       2.00                     0.95   \n",
              "4                      -0.25                    -0.20   \n",
              "..                       ...                      ...   \n",
              "175                     3.90                    -0.05   \n",
              "176                    -2.75                    -3.35   \n",
              "177                    -0.60                    -2.85   \n",
              "178                    -2.10                     2.35   \n",
              "179                    -0.35                    -0.45   \n",
              "\n",
              "     3_P3_Alpha Peak_w (715)  3_P4_Alpha Peak_w (716)  \\\n",
              "0                      -4.35                    -3.45   \n",
              "1                      -0.30                     3.20   \n",
              "2                      -2.85                    -2.80   \n",
              "3                      -0.25                     1.90   \n",
              "4                       0.00                     2.85   \n",
              "..                       ...                      ...   \n",
              "175                     4.00                     0.00   \n",
              "176                    -3.15                     1.10   \n",
              "177                    -0.60                    -2.85   \n",
              "178                    -2.25                     0.40   \n",
              "179                    -0.35                    -0.40   \n",
              "\n",
              "     3_P7_Alpha Peak_w (717)  3_P8_Alpha Peak_w (718)  \\\n",
              "0                      -3.40                    -4.25   \n",
              "1                       0.15                     3.60   \n",
              "2                      -3.10                    -2.85   \n",
              "3                      -0.20                     1.70   \n",
              "4                       0.00                    -0.25   \n",
              "..                       ...                      ...   \n",
              "175                     3.60                     3.65   \n",
              "176                     0.55                    -0.10   \n",
              "177                    -3.45                    -3.60   \n",
              "178                     2.40                    -0.50   \n",
              "179                    -0.35                    -0.30   \n",
              "\n",
              "     3_Pz_Alpha Peak_w (719)  3_O1_Alpha Peak_w (720)  3_O2_Alpha Peak_w (721)  \n",
              "0                      -4.35                    -3.40                    -3.45  \n",
              "1                       0.50                     3.20                     2.90  \n",
              "2                      -2.85                    -2.65                    -2.75  \n",
              "3                       1.80                    -0.15                    -0.20  \n",
              "4                      -0.15                    -0.10                     0.00  \n",
              "..                       ...                      ...                      ...  \n",
              "175                     4.45                     3.80                     3.70  \n",
              "176                     0.65                     0.60                     1.20  \n",
              "177                    -0.60                    -2.80                    -2.80  \n",
              "178                    -0.45                     2.50                     2.35  \n",
              "179                    -0.40                    -0.40                    -0.30  \n",
              "\n",
              "[180 rows x 3805 columns]"
            ],
            "text/html": [
              "\n",
              "  <div id=\"df-5ef2104c-e6ea-40cd-b588-e882b289c466\">\n",
              "    <div class=\"colab-df-container\">\n",
              "      <div>\n",
              "<style scoped>\n",
              "    .dataframe tbody tr th:only-of-type {\n",
              "        vertical-align: middle;\n",
              "    }\n",
              "\n",
              "    .dataframe tbody tr th {\n",
              "        vertical-align: top;\n",
              "    }\n",
              "\n",
              "    .dataframe thead th {\n",
              "        text-align: right;\n",
              "    }\n",
              "</style>\n",
              "<table border=\"1\" class=\"dataframe\">\n",
              "  <thead>\n",
              "    <tr style=\"text-align: right;\">\n",
              "      <th></th>\n",
              "      <th>PSS(지각된 스트레스 척도)</th>\n",
              "      <th>코르티솔</th>\n",
              "      <th>심박수</th>\n",
              "      <th>산소포화도</th>\n",
              "      <th>심박변이</th>\n",
              "      <th>0_Fp1_δ (0)</th>\n",
              "      <th>0_Fp2_δ (1)</th>\n",
              "      <th>0_F3_δ (2)</th>\n",
              "      <th>0_F4_δ (3)</th>\n",
              "      <th>0_F7_δ (4)</th>\n",
              "      <th>...</th>\n",
              "      <th>3_T7_Alpha Peak_w (712)</th>\n",
              "      <th>3_T8_Alpha Peak_w (713)</th>\n",
              "      <th>3_Cz_Alpha Peak_w (714)</th>\n",
              "      <th>3_P3_Alpha Peak_w (715)</th>\n",
              "      <th>3_P4_Alpha Peak_w (716)</th>\n",
              "      <th>3_P7_Alpha Peak_w (717)</th>\n",
              "      <th>3_P8_Alpha Peak_w (718)</th>\n",
              "      <th>3_Pz_Alpha Peak_w (719)</th>\n",
              "      <th>3_O1_Alpha Peak_w (720)</th>\n",
              "      <th>3_O2_Alpha Peak_w (721)</th>\n",
              "    </tr>\n",
              "  </thead>\n",
              "  <tbody>\n",
              "    <tr>\n",
              "      <th>0</th>\n",
              "      <td>16</td>\n",
              "      <td>0.088</td>\n",
              "      <td>83</td>\n",
              "      <td>97</td>\n",
              "      <td>31</td>\n",
              "      <td>1.260000e-12</td>\n",
              "      <td>7.450000e-13</td>\n",
              "      <td>4.130000e-14</td>\n",
              "      <td>5.580000e-13</td>\n",
              "      <td>2.570000e-13</td>\n",
              "      <td>...</td>\n",
              "      <td>-4.35</td>\n",
              "      <td>-3.35</td>\n",
              "      <td>-3.40</td>\n",
              "      <td>-4.35</td>\n",
              "      <td>-3.45</td>\n",
              "      <td>-3.40</td>\n",
              "      <td>-4.25</td>\n",
              "      <td>-4.35</td>\n",
              "      <td>-3.40</td>\n",
              "      <td>-3.45</td>\n",
              "    </tr>\n",
              "    <tr>\n",
              "      <th>1</th>\n",
              "      <td>18</td>\n",
              "      <td>0.171</td>\n",
              "      <td>72</td>\n",
              "      <td>98</td>\n",
              "      <td>37</td>\n",
              "      <td>2.100000e-13</td>\n",
              "      <td>3.350000e-13</td>\n",
              "      <td>4.840000e-14</td>\n",
              "      <td>2.730000e-14</td>\n",
              "      <td>2.280000e-15</td>\n",
              "      <td>...</td>\n",
              "      <td>0.40</td>\n",
              "      <td>4.15</td>\n",
              "      <td>-3.80</td>\n",
              "      <td>-0.30</td>\n",
              "      <td>3.20</td>\n",
              "      <td>0.15</td>\n",
              "      <td>3.60</td>\n",
              "      <td>0.50</td>\n",
              "      <td>3.20</td>\n",
              "      <td>2.90</td>\n",
              "    </tr>\n",
              "    <tr>\n",
              "      <th>2</th>\n",
              "      <td>26</td>\n",
              "      <td>0.122</td>\n",
              "      <td>92</td>\n",
              "      <td>97</td>\n",
              "      <td>24</td>\n",
              "      <td>2.230000e-40</td>\n",
              "      <td>9.940000e-41</td>\n",
              "      <td>7.800000e-42</td>\n",
              "      <td>1.470000e-41</td>\n",
              "      <td>5.450000e-41</td>\n",
              "      <td>...</td>\n",
              "      <td>-2.95</td>\n",
              "      <td>-3.15</td>\n",
              "      <td>-3.00</td>\n",
              "      <td>-2.85</td>\n",
              "      <td>-2.80</td>\n",
              "      <td>-3.10</td>\n",
              "      <td>-2.85</td>\n",
              "      <td>-2.85</td>\n",
              "      <td>-2.65</td>\n",
              "      <td>-2.75</td>\n",
              "    </tr>\n",
              "    <tr>\n",
              "      <th>3</th>\n",
              "      <td>17</td>\n",
              "      <td>0.124</td>\n",
              "      <td>76</td>\n",
              "      <td>97</td>\n",
              "      <td>45</td>\n",
              "      <td>1.010000e-13</td>\n",
              "      <td>4.240000e-14</td>\n",
              "      <td>5.350000e-13</td>\n",
              "      <td>3.600000e-13</td>\n",
              "      <td>5.650000e-14</td>\n",
              "      <td>...</td>\n",
              "      <td>0.90</td>\n",
              "      <td>2.00</td>\n",
              "      <td>0.95</td>\n",
              "      <td>-0.25</td>\n",
              "      <td>1.90</td>\n",
              "      <td>-0.20</td>\n",
              "      <td>1.70</td>\n",
              "      <td>1.80</td>\n",
              "      <td>-0.15</td>\n",
              "      <td>-0.20</td>\n",
              "    </tr>\n",
              "    <tr>\n",
              "      <th>4</th>\n",
              "      <td>15</td>\n",
              "      <td>0.128</td>\n",
              "      <td>75</td>\n",
              "      <td>48</td>\n",
              "      <td>38</td>\n",
              "      <td>9.830000e-16</td>\n",
              "      <td>9.980000e-15</td>\n",
              "      <td>3.030000e-13</td>\n",
              "      <td>6.670000e-14</td>\n",
              "      <td>7.040000e-15</td>\n",
              "      <td>...</td>\n",
              "      <td>0.00</td>\n",
              "      <td>-0.25</td>\n",
              "      <td>-0.20</td>\n",
              "      <td>0.00</td>\n",
              "      <td>2.85</td>\n",
              "      <td>0.00</td>\n",
              "      <td>-0.25</td>\n",
              "      <td>-0.15</td>\n",
              "      <td>-0.10</td>\n",
              "      <td>0.00</td>\n",
              "    </tr>\n",
              "    <tr>\n",
              "      <th>...</th>\n",
              "      <td>...</td>\n",
              "      <td>...</td>\n",
              "      <td>...</td>\n",
              "      <td>...</td>\n",
              "      <td>...</td>\n",
              "      <td>...</td>\n",
              "      <td>...</td>\n",
              "      <td>...</td>\n",
              "      <td>...</td>\n",
              "      <td>...</td>\n",
              "      <td>...</td>\n",
              "      <td>...</td>\n",
              "      <td>...</td>\n",
              "      <td>...</td>\n",
              "      <td>...</td>\n",
              "      <td>...</td>\n",
              "      <td>...</td>\n",
              "      <td>...</td>\n",
              "      <td>...</td>\n",
              "      <td>...</td>\n",
              "      <td>...</td>\n",
              "    </tr>\n",
              "    <tr>\n",
              "      <th>175</th>\n",
              "      <td>27</td>\n",
              "      <td>0.112</td>\n",
              "      <td>85</td>\n",
              "      <td>98</td>\n",
              "      <td>32</td>\n",
              "      <td>2.770000e-14</td>\n",
              "      <td>8.590000e-14</td>\n",
              "      <td>1.760000e-13</td>\n",
              "      <td>5.310000e-15</td>\n",
              "      <td>9.760000e-13</td>\n",
              "      <td>...</td>\n",
              "      <td>7.90</td>\n",
              "      <td>3.90</td>\n",
              "      <td>-0.05</td>\n",
              "      <td>4.00</td>\n",
              "      <td>0.00</td>\n",
              "      <td>3.60</td>\n",
              "      <td>3.65</td>\n",
              "      <td>4.45</td>\n",
              "      <td>3.80</td>\n",
              "      <td>3.70</td>\n",
              "    </tr>\n",
              "    <tr>\n",
              "      <th>176</th>\n",
              "      <td>23</td>\n",
              "      <td>0.134</td>\n",
              "      <td>92</td>\n",
              "      <td>98</td>\n",
              "      <td>14</td>\n",
              "      <td>4.570000e-14</td>\n",
              "      <td>1.400000e-13</td>\n",
              "      <td>1.630000e-14</td>\n",
              "      <td>4.280000e-14</td>\n",
              "      <td>1.480000e-13</td>\n",
              "      <td>...</td>\n",
              "      <td>0.45</td>\n",
              "      <td>-2.75</td>\n",
              "      <td>-3.35</td>\n",
              "      <td>-3.15</td>\n",
              "      <td>1.10</td>\n",
              "      <td>0.55</td>\n",
              "      <td>-0.10</td>\n",
              "      <td>0.65</td>\n",
              "      <td>0.60</td>\n",
              "      <td>1.20</td>\n",
              "    </tr>\n",
              "    <tr>\n",
              "      <th>177</th>\n",
              "      <td>10</td>\n",
              "      <td>0.151</td>\n",
              "      <td>68</td>\n",
              "      <td>98</td>\n",
              "      <td>41</td>\n",
              "      <td>5.440000e-42</td>\n",
              "      <td>4.330000e-42</td>\n",
              "      <td>4.980000e-40</td>\n",
              "      <td>5.050000e-40</td>\n",
              "      <td>4.560000e-41</td>\n",
              "      <td>...</td>\n",
              "      <td>-0.60</td>\n",
              "      <td>-0.60</td>\n",
              "      <td>-2.85</td>\n",
              "      <td>-0.60</td>\n",
              "      <td>-2.85</td>\n",
              "      <td>-3.45</td>\n",
              "      <td>-3.60</td>\n",
              "      <td>-0.60</td>\n",
              "      <td>-2.80</td>\n",
              "      <td>-2.80</td>\n",
              "    </tr>\n",
              "    <tr>\n",
              "      <th>178</th>\n",
              "      <td>10</td>\n",
              "      <td>0.107</td>\n",
              "      <td>83</td>\n",
              "      <td>98</td>\n",
              "      <td>31</td>\n",
              "      <td>6.060000e-13</td>\n",
              "      <td>2.660000e-13</td>\n",
              "      <td>4.220000e-13</td>\n",
              "      <td>1.460000e-14</td>\n",
              "      <td>1.890000e-14</td>\n",
              "      <td>...</td>\n",
              "      <td>-4.10</td>\n",
              "      <td>-2.10</td>\n",
              "      <td>2.35</td>\n",
              "      <td>-2.25</td>\n",
              "      <td>0.40</td>\n",
              "      <td>2.40</td>\n",
              "      <td>-0.50</td>\n",
              "      <td>-0.45</td>\n",
              "      <td>2.50</td>\n",
              "      <td>2.35</td>\n",
              "    </tr>\n",
              "    <tr>\n",
              "      <th>179</th>\n",
              "      <td>12</td>\n",
              "      <td>0.182</td>\n",
              "      <td>74</td>\n",
              "      <td>98</td>\n",
              "      <td>38</td>\n",
              "      <td>1.920000e-13</td>\n",
              "      <td>4.000000e-15</td>\n",
              "      <td>2.680000e-13</td>\n",
              "      <td>3.430000e-13</td>\n",
              "      <td>3.490000e-13</td>\n",
              "      <td>...</td>\n",
              "      <td>-0.35</td>\n",
              "      <td>-0.35</td>\n",
              "      <td>-0.45</td>\n",
              "      <td>-0.35</td>\n",
              "      <td>-0.40</td>\n",
              "      <td>-0.35</td>\n",
              "      <td>-0.30</td>\n",
              "      <td>-0.40</td>\n",
              "      <td>-0.40</td>\n",
              "      <td>-0.30</td>\n",
              "    </tr>\n",
              "  </tbody>\n",
              "</table>\n",
              "<p>180 rows × 3805 columns</p>\n",
              "</div>\n",
              "      <button class=\"colab-df-convert\" onclick=\"convertToInteractive('df-5ef2104c-e6ea-40cd-b588-e882b289c466')\"\n",
              "              title=\"Convert this dataframe to an interactive table.\"\n",
              "              style=\"display:none;\">\n",
              "        \n",
              "  <svg xmlns=\"http://www.w3.org/2000/svg\" height=\"24px\"viewBox=\"0 0 24 24\"\n",
              "       width=\"24px\">\n",
              "    <path d=\"M0 0h24v24H0V0z\" fill=\"none\"/>\n",
              "    <path d=\"M18.56 5.44l.94 2.06.94-2.06 2.06-.94-2.06-.94-.94-2.06-.94 2.06-2.06.94zm-11 1L8.5 8.5l.94-2.06 2.06-.94-2.06-.94L8.5 2.5l-.94 2.06-2.06.94zm10 10l.94 2.06.94-2.06 2.06-.94-2.06-.94-.94-2.06-.94 2.06-2.06.94z\"/><path d=\"M17.41 7.96l-1.37-1.37c-.4-.4-.92-.59-1.43-.59-.52 0-1.04.2-1.43.59L10.3 9.45l-7.72 7.72c-.78.78-.78 2.05 0 2.83L4 21.41c.39.39.9.59 1.41.59.51 0 1.02-.2 1.41-.59l7.78-7.78 2.81-2.81c.8-.78.8-2.07 0-2.86zM5.41 20L4 18.59l7.72-7.72 1.47 1.35L5.41 20z\"/>\n",
              "  </svg>\n",
              "      </button>\n",
              "      \n",
              "  <style>\n",
              "    .colab-df-container {\n",
              "      display:flex;\n",
              "      flex-wrap:wrap;\n",
              "      gap: 12px;\n",
              "    }\n",
              "\n",
              "    .colab-df-convert {\n",
              "      background-color: #E8F0FE;\n",
              "      border: none;\n",
              "      border-radius: 50%;\n",
              "      cursor: pointer;\n",
              "      display: none;\n",
              "      fill: #1967D2;\n",
              "      height: 32px;\n",
              "      padding: 0 0 0 0;\n",
              "      width: 32px;\n",
              "    }\n",
              "\n",
              "    .colab-df-convert:hover {\n",
              "      background-color: #E2EBFA;\n",
              "      box-shadow: 0px 1px 2px rgba(60, 64, 67, 0.3), 0px 1px 3px 1px rgba(60, 64, 67, 0.15);\n",
              "      fill: #174EA6;\n",
              "    }\n",
              "\n",
              "    [theme=dark] .colab-df-convert {\n",
              "      background-color: #3B4455;\n",
              "      fill: #D2E3FC;\n",
              "    }\n",
              "\n",
              "    [theme=dark] .colab-df-convert:hover {\n",
              "      background-color: #434B5C;\n",
              "      box-shadow: 0px 1px 3px 1px rgba(0, 0, 0, 0.15);\n",
              "      filter: drop-shadow(0px 1px 2px rgba(0, 0, 0, 0.3));\n",
              "      fill: #FFFFFF;\n",
              "    }\n",
              "  </style>\n",
              "\n",
              "      <script>\n",
              "        const buttonEl =\n",
              "          document.querySelector('#df-5ef2104c-e6ea-40cd-b588-e882b289c466 button.colab-df-convert');\n",
              "        buttonEl.style.display =\n",
              "          google.colab.kernel.accessAllowed ? 'block' : 'none';\n",
              "\n",
              "        async function convertToInteractive(key) {\n",
              "          const element = document.querySelector('#df-5ef2104c-e6ea-40cd-b588-e882b289c466');\n",
              "          const dataTable =\n",
              "            await google.colab.kernel.invokeFunction('convertToInteractive',\n",
              "                                                     [key], {});\n",
              "          if (!dataTable) return;\n",
              "\n",
              "          const docLinkHtml = 'Like what you see? Visit the ' +\n",
              "            '<a target=\"_blank\" href=https://colab.research.google.com/notebooks/data_table.ipynb>data table notebook</a>'\n",
              "            + ' to learn more about interactive tables.';\n",
              "          element.innerHTML = '';\n",
              "          dataTable['output_type'] = 'display_data';\n",
              "          await google.colab.output.renderOutput(dataTable, element);\n",
              "          const docLink = document.createElement('div');\n",
              "          docLink.innerHTML = docLinkHtml;\n",
              "          element.appendChild(docLink);\n",
              "        }\n",
              "      </script>\n",
              "    </div>\n",
              "  </div>\n",
              "  "
            ]
          },
          "metadata": {},
          "execution_count": 6
        }
      ]
    },
    {
      "cell_type": "code",
      "source": [
        "df.describe()"
      ],
      "metadata": {
        "colab": {
          "base_uri": "https://localhost:8080/",
          "height": 428
        },
        "id": "uG95vj6-MLgp",
        "outputId": "19589807-a018-4e7f-fdb7-a81d3c5bd2a7"
      },
      "execution_count": 7,
      "outputs": [
        {
          "output_type": "execute_result",
          "data": {
            "text/plain": [
              "       PSS(지각된 스트레스 척도)        코르티솔         심박수       산소포화도        심박변이  \\\n",
              "count        180.000000  180.000000  180.000000  180.000000  180.000000   \n",
              "mean          18.494444    0.137839   74.672222   97.600000   34.411111   \n",
              "std            5.051132    0.086779   11.489043    3.736577    8.436943   \n",
              "min            8.000000    0.020000   39.000000   48.000000   14.000000   \n",
              "25%           15.000000    0.083750   67.000000   98.000000   30.000000   \n",
              "50%           19.000000    0.116500   74.000000   98.000000   34.000000   \n",
              "75%           21.250000    0.171000   83.000000   98.000000   38.000000   \n",
              "max           31.000000    0.538000  108.000000   99.000000   81.000000   \n",
              "\n",
              "        0_Fp1_δ (0)   0_Fp2_δ (1)    0_F3_δ (2)    0_F4_δ (3)    0_F7_δ (4)  \\\n",
              "count  1.800000e+02  1.800000e+02  1.800000e+02  1.800000e+02  1.800000e+02   \n",
              "mean   5.757650e-12  3.723047e-12  5.163789e-12  3.793818e-12  2.020830e-12   \n",
              "std    5.569867e-11  2.031909e-11  5.131491e-11  2.667421e-11  9.716337e-12   \n",
              "min    2.940000e-43  3.050000e-43  2.950000e-43  3.040000e-43  2.970000e-43   \n",
              "25%    3.292500e-16  2.142500e-15  3.987500e-16  2.725000e-15  6.190000e-16   \n",
              "50%    4.795000e-14  1.510000e-13  7.345000e-14  1.185000e-13  4.570000e-14   \n",
              "75%    4.610000e-13  5.922500e-13  5.687500e-13  9.127500e-13  4.515000e-13   \n",
              "max    7.420000e-10  2.160000e-10  6.850000e-10  3.500000e-10  1.070000e-10   \n",
              "\n",
              "       ...  3_T7_Alpha Peak_w (712)  3_T8_Alpha Peak_w (713)  \\\n",
              "count  ...               180.000000               180.000000   \n",
              "mean   ...                -0.680556                -0.563611   \n",
              "std    ...                 2.602676                 2.621947   \n",
              "min    ...                -7.150000                -5.800000   \n",
              "25%    ...                -2.762500                -2.812500   \n",
              "50%    ...                -0.350000                -0.125000   \n",
              "75%    ...                 0.400000                 0.712500   \n",
              "max    ...                 7.900000                 7.400000   \n",
              "\n",
              "       3_Cz_Alpha Peak_w (714)  3_P3_Alpha Peak_w (715)  \\\n",
              "count               180.000000               180.000000   \n",
              "mean                 -0.768333                -0.865833   \n",
              "std                   2.509813                 2.190772   \n",
              "min                  -5.900000                -5.800000   \n",
              "25%                  -2.912500                -2.900000   \n",
              "50%                  -0.275000                -0.250000   \n",
              "75%                   0.562500                 0.450000   \n",
              "max                   6.700000                 5.300000   \n",
              "\n",
              "       3_P4_Alpha Peak_w (716)  3_P7_Alpha Peak_w (717)  \\\n",
              "count               180.000000               180.000000   \n",
              "mean                 -0.527500                -0.759167   \n",
              "std                   2.320399                 2.333958   \n",
              "min                  -5.550000                -6.100000   \n",
              "25%                  -2.350000                -2.887500   \n",
              "50%                  -0.150000                -0.150000   \n",
              "75%                   0.650000                 0.600000   \n",
              "max                   6.650000                 5.700000   \n",
              "\n",
              "       3_P8_Alpha Peak_w (718)  3_Pz_Alpha Peak_w (719)  \\\n",
              "count               180.000000               180.000000   \n",
              "mean                 -0.670556                -0.924444   \n",
              "std                   2.373720                 2.382416   \n",
              "min                  -5.600000                -5.850000   \n",
              "25%                  -2.700000                -2.937500   \n",
              "50%                  -0.175000                -0.425000   \n",
              "75%                   0.600000                 0.400000   \n",
              "max                   6.650000                 6.650000   \n",
              "\n",
              "       3_O1_Alpha Peak_w (720)  3_O2_Alpha Peak_w (721)  \n",
              "count               180.000000               180.000000  \n",
              "mean                 -0.629722                -0.570556  \n",
              "std                   2.410305                 2.467712  \n",
              "min                  -7.250000                -5.600000  \n",
              "25%                  -2.687500                -2.675000  \n",
              "50%                  -0.125000                -0.100000  \n",
              "75%                   0.612500                 0.825000  \n",
              "max                   7.550000                 6.650000  \n",
              "\n",
              "[8 rows x 3805 columns]"
            ],
            "text/html": [
              "\n",
              "  <div id=\"df-bda032f8-27fd-4334-9744-f54fc85f76f7\">\n",
              "    <div class=\"colab-df-container\">\n",
              "      <div>\n",
              "<style scoped>\n",
              "    .dataframe tbody tr th:only-of-type {\n",
              "        vertical-align: middle;\n",
              "    }\n",
              "\n",
              "    .dataframe tbody tr th {\n",
              "        vertical-align: top;\n",
              "    }\n",
              "\n",
              "    .dataframe thead th {\n",
              "        text-align: right;\n",
              "    }\n",
              "</style>\n",
              "<table border=\"1\" class=\"dataframe\">\n",
              "  <thead>\n",
              "    <tr style=\"text-align: right;\">\n",
              "      <th></th>\n",
              "      <th>PSS(지각된 스트레스 척도)</th>\n",
              "      <th>코르티솔</th>\n",
              "      <th>심박수</th>\n",
              "      <th>산소포화도</th>\n",
              "      <th>심박변이</th>\n",
              "      <th>0_Fp1_δ (0)</th>\n",
              "      <th>0_Fp2_δ (1)</th>\n",
              "      <th>0_F3_δ (2)</th>\n",
              "      <th>0_F4_δ (3)</th>\n",
              "      <th>0_F7_δ (4)</th>\n",
              "      <th>...</th>\n",
              "      <th>3_T7_Alpha Peak_w (712)</th>\n",
              "      <th>3_T8_Alpha Peak_w (713)</th>\n",
              "      <th>3_Cz_Alpha Peak_w (714)</th>\n",
              "      <th>3_P3_Alpha Peak_w (715)</th>\n",
              "      <th>3_P4_Alpha Peak_w (716)</th>\n",
              "      <th>3_P7_Alpha Peak_w (717)</th>\n",
              "      <th>3_P8_Alpha Peak_w (718)</th>\n",
              "      <th>3_Pz_Alpha Peak_w (719)</th>\n",
              "      <th>3_O1_Alpha Peak_w (720)</th>\n",
              "      <th>3_O2_Alpha Peak_w (721)</th>\n",
              "    </tr>\n",
              "  </thead>\n",
              "  <tbody>\n",
              "    <tr>\n",
              "      <th>count</th>\n",
              "      <td>180.000000</td>\n",
              "      <td>180.000000</td>\n",
              "      <td>180.000000</td>\n",
              "      <td>180.000000</td>\n",
              "      <td>180.000000</td>\n",
              "      <td>1.800000e+02</td>\n",
              "      <td>1.800000e+02</td>\n",
              "      <td>1.800000e+02</td>\n",
              "      <td>1.800000e+02</td>\n",
              "      <td>1.800000e+02</td>\n",
              "      <td>...</td>\n",
              "      <td>180.000000</td>\n",
              "      <td>180.000000</td>\n",
              "      <td>180.000000</td>\n",
              "      <td>180.000000</td>\n",
              "      <td>180.000000</td>\n",
              "      <td>180.000000</td>\n",
              "      <td>180.000000</td>\n",
              "      <td>180.000000</td>\n",
              "      <td>180.000000</td>\n",
              "      <td>180.000000</td>\n",
              "    </tr>\n",
              "    <tr>\n",
              "      <th>mean</th>\n",
              "      <td>18.494444</td>\n",
              "      <td>0.137839</td>\n",
              "      <td>74.672222</td>\n",
              "      <td>97.600000</td>\n",
              "      <td>34.411111</td>\n",
              "      <td>5.757650e-12</td>\n",
              "      <td>3.723047e-12</td>\n",
              "      <td>5.163789e-12</td>\n",
              "      <td>3.793818e-12</td>\n",
              "      <td>2.020830e-12</td>\n",
              "      <td>...</td>\n",
              "      <td>-0.680556</td>\n",
              "      <td>-0.563611</td>\n",
              "      <td>-0.768333</td>\n",
              "      <td>-0.865833</td>\n",
              "      <td>-0.527500</td>\n",
              "      <td>-0.759167</td>\n",
              "      <td>-0.670556</td>\n",
              "      <td>-0.924444</td>\n",
              "      <td>-0.629722</td>\n",
              "      <td>-0.570556</td>\n",
              "    </tr>\n",
              "    <tr>\n",
              "      <th>std</th>\n",
              "      <td>5.051132</td>\n",
              "      <td>0.086779</td>\n",
              "      <td>11.489043</td>\n",
              "      <td>3.736577</td>\n",
              "      <td>8.436943</td>\n",
              "      <td>5.569867e-11</td>\n",
              "      <td>2.031909e-11</td>\n",
              "      <td>5.131491e-11</td>\n",
              "      <td>2.667421e-11</td>\n",
              "      <td>9.716337e-12</td>\n",
              "      <td>...</td>\n",
              "      <td>2.602676</td>\n",
              "      <td>2.621947</td>\n",
              "      <td>2.509813</td>\n",
              "      <td>2.190772</td>\n",
              "      <td>2.320399</td>\n",
              "      <td>2.333958</td>\n",
              "      <td>2.373720</td>\n",
              "      <td>2.382416</td>\n",
              "      <td>2.410305</td>\n",
              "      <td>2.467712</td>\n",
              "    </tr>\n",
              "    <tr>\n",
              "      <th>min</th>\n",
              "      <td>8.000000</td>\n",
              "      <td>0.020000</td>\n",
              "      <td>39.000000</td>\n",
              "      <td>48.000000</td>\n",
              "      <td>14.000000</td>\n",
              "      <td>2.940000e-43</td>\n",
              "      <td>3.050000e-43</td>\n",
              "      <td>2.950000e-43</td>\n",
              "      <td>3.040000e-43</td>\n",
              "      <td>2.970000e-43</td>\n",
              "      <td>...</td>\n",
              "      <td>-7.150000</td>\n",
              "      <td>-5.800000</td>\n",
              "      <td>-5.900000</td>\n",
              "      <td>-5.800000</td>\n",
              "      <td>-5.550000</td>\n",
              "      <td>-6.100000</td>\n",
              "      <td>-5.600000</td>\n",
              "      <td>-5.850000</td>\n",
              "      <td>-7.250000</td>\n",
              "      <td>-5.600000</td>\n",
              "    </tr>\n",
              "    <tr>\n",
              "      <th>25%</th>\n",
              "      <td>15.000000</td>\n",
              "      <td>0.083750</td>\n",
              "      <td>67.000000</td>\n",
              "      <td>98.000000</td>\n",
              "      <td>30.000000</td>\n",
              "      <td>3.292500e-16</td>\n",
              "      <td>2.142500e-15</td>\n",
              "      <td>3.987500e-16</td>\n",
              "      <td>2.725000e-15</td>\n",
              "      <td>6.190000e-16</td>\n",
              "      <td>...</td>\n",
              "      <td>-2.762500</td>\n",
              "      <td>-2.812500</td>\n",
              "      <td>-2.912500</td>\n",
              "      <td>-2.900000</td>\n",
              "      <td>-2.350000</td>\n",
              "      <td>-2.887500</td>\n",
              "      <td>-2.700000</td>\n",
              "      <td>-2.937500</td>\n",
              "      <td>-2.687500</td>\n",
              "      <td>-2.675000</td>\n",
              "    </tr>\n",
              "    <tr>\n",
              "      <th>50%</th>\n",
              "      <td>19.000000</td>\n",
              "      <td>0.116500</td>\n",
              "      <td>74.000000</td>\n",
              "      <td>98.000000</td>\n",
              "      <td>34.000000</td>\n",
              "      <td>4.795000e-14</td>\n",
              "      <td>1.510000e-13</td>\n",
              "      <td>7.345000e-14</td>\n",
              "      <td>1.185000e-13</td>\n",
              "      <td>4.570000e-14</td>\n",
              "      <td>...</td>\n",
              "      <td>-0.350000</td>\n",
              "      <td>-0.125000</td>\n",
              "      <td>-0.275000</td>\n",
              "      <td>-0.250000</td>\n",
              "      <td>-0.150000</td>\n",
              "      <td>-0.150000</td>\n",
              "      <td>-0.175000</td>\n",
              "      <td>-0.425000</td>\n",
              "      <td>-0.125000</td>\n",
              "      <td>-0.100000</td>\n",
              "    </tr>\n",
              "    <tr>\n",
              "      <th>75%</th>\n",
              "      <td>21.250000</td>\n",
              "      <td>0.171000</td>\n",
              "      <td>83.000000</td>\n",
              "      <td>98.000000</td>\n",
              "      <td>38.000000</td>\n",
              "      <td>4.610000e-13</td>\n",
              "      <td>5.922500e-13</td>\n",
              "      <td>5.687500e-13</td>\n",
              "      <td>9.127500e-13</td>\n",
              "      <td>4.515000e-13</td>\n",
              "      <td>...</td>\n",
              "      <td>0.400000</td>\n",
              "      <td>0.712500</td>\n",
              "      <td>0.562500</td>\n",
              "      <td>0.450000</td>\n",
              "      <td>0.650000</td>\n",
              "      <td>0.600000</td>\n",
              "      <td>0.600000</td>\n",
              "      <td>0.400000</td>\n",
              "      <td>0.612500</td>\n",
              "      <td>0.825000</td>\n",
              "    </tr>\n",
              "    <tr>\n",
              "      <th>max</th>\n",
              "      <td>31.000000</td>\n",
              "      <td>0.538000</td>\n",
              "      <td>108.000000</td>\n",
              "      <td>99.000000</td>\n",
              "      <td>81.000000</td>\n",
              "      <td>7.420000e-10</td>\n",
              "      <td>2.160000e-10</td>\n",
              "      <td>6.850000e-10</td>\n",
              "      <td>3.500000e-10</td>\n",
              "      <td>1.070000e-10</td>\n",
              "      <td>...</td>\n",
              "      <td>7.900000</td>\n",
              "      <td>7.400000</td>\n",
              "      <td>6.700000</td>\n",
              "      <td>5.300000</td>\n",
              "      <td>6.650000</td>\n",
              "      <td>5.700000</td>\n",
              "      <td>6.650000</td>\n",
              "      <td>6.650000</td>\n",
              "      <td>7.550000</td>\n",
              "      <td>6.650000</td>\n",
              "    </tr>\n",
              "  </tbody>\n",
              "</table>\n",
              "<p>8 rows × 3805 columns</p>\n",
              "</div>\n",
              "      <button class=\"colab-df-convert\" onclick=\"convertToInteractive('df-bda032f8-27fd-4334-9744-f54fc85f76f7')\"\n",
              "              title=\"Convert this dataframe to an interactive table.\"\n",
              "              style=\"display:none;\">\n",
              "        \n",
              "  <svg xmlns=\"http://www.w3.org/2000/svg\" height=\"24px\"viewBox=\"0 0 24 24\"\n",
              "       width=\"24px\">\n",
              "    <path d=\"M0 0h24v24H0V0z\" fill=\"none\"/>\n",
              "    <path d=\"M18.56 5.44l.94 2.06.94-2.06 2.06-.94-2.06-.94-.94-2.06-.94 2.06-2.06.94zm-11 1L8.5 8.5l.94-2.06 2.06-.94-2.06-.94L8.5 2.5l-.94 2.06-2.06.94zm10 10l.94 2.06.94-2.06 2.06-.94-2.06-.94-.94-2.06-.94 2.06-2.06.94z\"/><path d=\"M17.41 7.96l-1.37-1.37c-.4-.4-.92-.59-1.43-.59-.52 0-1.04.2-1.43.59L10.3 9.45l-7.72 7.72c-.78.78-.78 2.05 0 2.83L4 21.41c.39.39.9.59 1.41.59.51 0 1.02-.2 1.41-.59l7.78-7.78 2.81-2.81c.8-.78.8-2.07 0-2.86zM5.41 20L4 18.59l7.72-7.72 1.47 1.35L5.41 20z\"/>\n",
              "  </svg>\n",
              "      </button>\n",
              "      \n",
              "  <style>\n",
              "    .colab-df-container {\n",
              "      display:flex;\n",
              "      flex-wrap:wrap;\n",
              "      gap: 12px;\n",
              "    }\n",
              "\n",
              "    .colab-df-convert {\n",
              "      background-color: #E8F0FE;\n",
              "      border: none;\n",
              "      border-radius: 50%;\n",
              "      cursor: pointer;\n",
              "      display: none;\n",
              "      fill: #1967D2;\n",
              "      height: 32px;\n",
              "      padding: 0 0 0 0;\n",
              "      width: 32px;\n",
              "    }\n",
              "\n",
              "    .colab-df-convert:hover {\n",
              "      background-color: #E2EBFA;\n",
              "      box-shadow: 0px 1px 2px rgba(60, 64, 67, 0.3), 0px 1px 3px 1px rgba(60, 64, 67, 0.15);\n",
              "      fill: #174EA6;\n",
              "    }\n",
              "\n",
              "    [theme=dark] .colab-df-convert {\n",
              "      background-color: #3B4455;\n",
              "      fill: #D2E3FC;\n",
              "    }\n",
              "\n",
              "    [theme=dark] .colab-df-convert:hover {\n",
              "      background-color: #434B5C;\n",
              "      box-shadow: 0px 1px 3px 1px rgba(0, 0, 0, 0.15);\n",
              "      filter: drop-shadow(0px 1px 2px rgba(0, 0, 0, 0.3));\n",
              "      fill: #FFFFFF;\n",
              "    }\n",
              "  </style>\n",
              "\n",
              "      <script>\n",
              "        const buttonEl =\n",
              "          document.querySelector('#df-bda032f8-27fd-4334-9744-f54fc85f76f7 button.colab-df-convert');\n",
              "        buttonEl.style.display =\n",
              "          google.colab.kernel.accessAllowed ? 'block' : 'none';\n",
              "\n",
              "        async function convertToInteractive(key) {\n",
              "          const element = document.querySelector('#df-bda032f8-27fd-4334-9744-f54fc85f76f7');\n",
              "          const dataTable =\n",
              "            await google.colab.kernel.invokeFunction('convertToInteractive',\n",
              "                                                     [key], {});\n",
              "          if (!dataTable) return;\n",
              "\n",
              "          const docLinkHtml = 'Like what you see? Visit the ' +\n",
              "            '<a target=\"_blank\" href=https://colab.research.google.com/notebooks/data_table.ipynb>data table notebook</a>'\n",
              "            + ' to learn more about interactive tables.';\n",
              "          element.innerHTML = '';\n",
              "          dataTable['output_type'] = 'display_data';\n",
              "          await google.colab.output.renderOutput(dataTable, element);\n",
              "          const docLink = document.createElement('div');\n",
              "          docLink.innerHTML = docLinkHtml;\n",
              "          element.appendChild(docLink);\n",
              "        }\n",
              "      </script>\n",
              "    </div>\n",
              "  </div>\n",
              "  "
            ]
          },
          "metadata": {},
          "execution_count": 7
        }
      ]
    },
    {
      "cell_type": "code",
      "source": [
        "df.columns"
      ],
      "metadata": {
        "colab": {
          "base_uri": "https://localhost:8080/"
        },
        "id": "TuxZdh7HCj_L",
        "outputId": "cb8e311e-463c-458b-cf4a-8cd16dfa2855"
      },
      "execution_count": 8,
      "outputs": [
        {
          "output_type": "execute_result",
          "data": {
            "text/plain": [
              "Index(['PSS(지각된 스트레스 척도)', '코르티솔', '심박수', '산소포화도', '심박변이', '0_Fp1_δ (0)',\n",
              "       '0_Fp2_δ (1)', '0_F3_δ (2)', '0_F4_δ (3)', '0_F7_δ (4)',\n",
              "       ...\n",
              "       '3_T7_Alpha Peak_w (712)', '3_T8_Alpha Peak_w (713)',\n",
              "       '3_Cz_Alpha Peak_w (714)', '3_P3_Alpha Peak_w (715)',\n",
              "       '3_P4_Alpha Peak_w (716)', '3_P7_Alpha Peak_w (717)',\n",
              "       '3_P8_Alpha Peak_w (718)', '3_Pz_Alpha Peak_w (719)',\n",
              "       '3_O1_Alpha Peak_w (720)', '3_O2_Alpha Peak_w (721)'],\n",
              "      dtype='object', length=3805)"
            ]
          },
          "metadata": {},
          "execution_count": 8
        }
      ]
    },
    {
      "cell_type": "code",
      "source": [
        "df.info()"
      ],
      "metadata": {
        "colab": {
          "base_uri": "https://localhost:8080/"
        },
        "id": "-df5g3l7C9-3",
        "outputId": "c2321436-ce6e-405e-f497-70d70c5772b3"
      },
      "execution_count": 9,
      "outputs": [
        {
          "output_type": "stream",
          "name": "stdout",
          "text": [
            "<class 'pandas.core.frame.DataFrame'>\n",
            "RangeIndex: 180 entries, 0 to 179\n",
            "Columns: 3805 entries, PSS(지각된 스트레스 척도) to 3_O2_Alpha Peak_w (721)\n",
            "dtypes: float64(3657), int64(148)\n",
            "memory usage: 5.2 MB\n"
          ]
        }
      ]
    },
    {
      "cell_type": "code",
      "source": [
        "y = df[\"PSS(지각된 스트레스 척도)\"]\n",
        "z =df[['코르티솔']]\n",
        "z = (z -z.min())/(z.max() - z.min()) # 코르티솔 값\n",
        "y = (y -y.min())/(y.max() - y.min()) #normalization 된 pss값 (0 to 1)\n",
        "x_train=df.drop(columns=['PSS(지각된 스트레스 척도)','코르티솔']) #x_train = Data로 사용될 수 있는 value\n",
        "x_test = x_train.sample()"
      ],
      "metadata": {
        "id": "KeWYdV1H5fMj"
      },
      "execution_count": 43,
      "outputs": []
    },
    {
      "cell_type": "code",
      "source": [
        "y"
      ],
      "metadata": {
        "colab": {
          "base_uri": "https://localhost:8080/"
        },
        "id": "mYB6X4vp-onl",
        "outputId": "44df84b5-af99-4628-be6a-00ba96fa3157"
      },
      "execution_count": 44,
      "outputs": [
        {
          "output_type": "execute_result",
          "data": {
            "text/plain": [
              "0      0.347826\n",
              "1      0.434783\n",
              "2      0.782609\n",
              "3      0.391304\n",
              "4      0.304348\n",
              "         ...   \n",
              "175    0.826087\n",
              "176    0.652174\n",
              "177    0.086957\n",
              "178    0.086957\n",
              "179    0.173913\n",
              "Name: PSS(지각된 스트레스 척도), Length: 180, dtype: float64"
            ]
          },
          "metadata": {},
          "execution_count": 44
        }
      ]
    },
    {
      "cell_type": "markdown",
      "source": [
        "# svm_Regression"
      ],
      "metadata": {
        "id": "9xy9TsBmHrra"
      }
    },
    {
      "cell_type": "code",
      "source": [
        "svm_regression_y =svm.SVR(kernel=\"poly\", degree=3, C=1, epsilon=0.01,gamma='auto')\n",
        "svm_regression_z =svm.SVR(kernel=\"poly\", degree=3, C=1, epsilon=0.01,gamma='auto')\n",
        "svm_regression_y.fit(x_train, y)\n",
        "svm_regression_z.fit(x_train, z)\n",
        "y_pred_svm = svm_regression_y.predict(x_train)\n",
        "z_pred_svm = svm_regression_z.predict(x_train)\n",
        "def plot_svm_regression(svm_reg, X, y):\n",
        "    y_pred = svm_reg.predict(X)\n",
        "    #plt.scatter(y,y_pred ,alpha=0.5)\n",
        "    plt.plot(X, y_pred, \"k-\", linewidth=2)\n",
        "    #plt.plot(X, y_pred + svm_reg.epsilon, \"k--\")\n",
        "    #plt.plot(X, y_pred - svm_reg.epsilon, \"k--\")\n",
        "    \n",
        "    plt.ylabel('pred_value',fontsize=18)\n",
        "    plt.xlabel(\"Data\", fontsize=18)\n",
        "    plt.legend()\n",
        "\n",
        "    "
      ],
      "metadata": {
        "id": "96nCSHj8BLPh",
        "colab": {
          "base_uri": "https://localhost:8080/"
        },
        "outputId": "db51f673-672a-4423-aa25-d8d22f373ef7"
      },
      "execution_count": 45,
      "outputs": [
        {
          "output_type": "stream",
          "name": "stderr",
          "text": [
            "/usr/local/lib/python3.8/dist-packages/sklearn/utils/validation.py:993: DataConversionWarning: A column-vector y was passed when a 1d array was expected. Please change the shape of y to (n_samples, ), for example using ravel().\n",
            "  y = column_or_1d(y, warn=True)\n"
          ]
        }
      ]
    },
    {
      "cell_type": "code",
      "source": [
        "y_pred_svm"
      ],
      "metadata": {
        "colab": {
          "base_uri": "https://localhost:8080/"
        },
        "id": "cWWFMVDqHPCb",
        "outputId": "be50c16f-0d39-412e-f8d9-fedafc6e8242"
      },
      "execution_count": 46,
      "outputs": [
        {
          "output_type": "execute_result",
          "data": {
            "text/plain": [
              "array([0.33767773, 0.44481747, 0.79260489, 0.40130956, 0.3144018 ,\n",
              "       0.90298657, 0.55523288, 0.33777402, 0.48828959, 0.42470045,\n",
              "       0.31444717, 0.46820552, 0.81613433, 0.77265514, 0.09693911,\n",
              "       0.05350403, 0.40139294, 0.68573301, 0.57532593, 0.61875586,\n",
              "       0.4248103 , 0.01005648, 0.64214531, 0.64219612, 0.64214877,\n",
              "       0.0969916 , 0.05346785, 0.18398082, 0.46820357, 0.51169254,\n",
              "       0.51178517, 0.22741757, 0.38121723, 0.35781936, 0.74919997,\n",
              "       0.77249322, 0.51162211, 0.4447819 , 0.44480795, 0.42468954,\n",
              "       0.44486958, 0.27102418, 0.27070998, 0.09693148, 0.09700193,\n",
              "       0.14042651, 0.09689767, 0.29436134, 0.22742578, 0.59867686,\n",
              "       0.59895712, 0.44485067, 0.59870519, 0.29432713, 0.31440527,\n",
              "       0.55521836, 0.40127951, 0.57532399, 0.51175068, 0.59866982,\n",
              "       0.40137924, 0.38130164, 0.40134475, 0.46822133, 0.53171278,\n",
              "       0.51166926, 0.51162682, 0.53190444, 0.81608799, 0.85967664,\n",
              "       0.59866558, 0.61874219, 0.35783739, 0.51172049, 0.5317289 ,\n",
              "       0.51157733, 0.09693628, 0.22741967, 0.12051248, 0.46813137,\n",
              "       0.55507588, 0.90290824, 0.90300946, 0.44471765, 0.51161772,\n",
              "       0.46828134, 0.25093778, 0.57520364, 0.66225407, 0.66224479,\n",
              "       0.72911484, 0.83607425, 0.33779836, 0.16386228, 0.35778237,\n",
              "       0.27082423, 0.55504083, 0.5116692 , 0.31436003, 0.18384302,\n",
              "       0.27087133, 0.4882754 , 0.40149686, 0.40134049, 0.55512289,\n",
              "       0.27083448, 0.16380268, 0.48821484, 0.46814288, 0.42518198,\n",
              "       0.40125105, 0.53210824, 0.59861152, 0.48832899, 0.83621191,\n",
              "       0.68574718, 0.59865762, 0.94665306, 1.01010193, 0.44502517,\n",
              "       0.27075504, 0.33774067, 0.31487706, 0.18393357, 0.05348404,\n",
              "       0.05349251, 0.51173282, 0.64212001, 0.4013351 , 0.46833012,\n",
              "       0.53176922, 0.53153357, 0.51164887, 0.55512764, 0.5986372 ,\n",
              "       0.5985755 , 0.48832035, 0.44468146, 0.53172025, 0.18390436,\n",
              "       0.18395484, 0.61880286, 0.43880486, 0.38114592, 0.5117099 ,\n",
              "       0.48817779, 0.59871873, 0.42481171, 0.48816913, 0.20723978,\n",
              "       0.2273481 , 0.55518695, 0.64216303, 0.77252664, 0.35784239,\n",
              "       0.20737858, 0.22734485, 0.29431057, 0.14044041, 0.22736377,\n",
              "       0.40139856, 0.51171448, 0.46842754, 0.44479764, 0.42468644,\n",
              "       0.31437013, 0.22739914, 0.12035709, 0.87979199, 0.90315411,\n",
              "       0.94643593, 0.74907024, 0.55506812, 0.48824403, 0.85929731,\n",
              "       0.81612674, 0.66213013, 0.07677478, 0.09695241, 0.184098  ])"
            ]
          },
          "metadata": {},
          "execution_count": 46
        }
      ]
    },
    {
      "cell_type": "code",
      "source": [
        "z_pred_svm"
      ],
      "metadata": {
        "colab": {
          "base_uri": "https://localhost:8080/"
        },
        "id": "4EE4q3dGL-hm",
        "outputId": "595a0c6e-cbe4-428b-feb1-614cb767fe2a"
      },
      "execution_count": 47,
      "outputs": [
        {
          "output_type": "execute_result",
          "data": {
            "text/plain": [
              "array([ 0.14125863,  0.28140318,  0.20691765,  0.19070578,  0.21840398,\n",
              "        0.30465657,  0.2312609 ,  0.27950879,  0.80267084,  0.30347816,\n",
              "        0.27075767,  0.18184285,  0.22159226,  0.14243135,  0.15209231,\n",
              "        0.16441546,  0.05438336,  0.48421335,  0.28143501,  0.88571351,\n",
              "        0.17398782,  0.24361135,  0.16441367,  0.12309152,  0.40958402,\n",
              "        0.53887241,  0.17208186,  0.23119177,  0.11225843,  0.25327028,\n",
              "        0.13669013,  0.07944325,  0.10575642,  0.19648364,  0.29489127,\n",
              "        0.20111318,  0.14904247,  0.29494878,  0.84124038,  0.15098776,\n",
              "        0.13304681,  0.13182966,  0.01575191,  0.27950392,  0.35486818,\n",
              "        0.15014772,  0.22732396,  0.1064699 ,  0.15280134,  0.21846001,\n",
              "        0.36648446,  0.17348492,  0.10069889,  0.33552226,  0.12360293,\n",
              "        0.18367186,  0.16055622,  0.1831353 ,  0.11032343,  0.17139828,\n",
              "        0.35861883,  0.15785233,  0.05244714,  0.17979196, -0.009737  ,\n",
              "        0.11613478,  0.37408864,  0.15216429,  0.36519963,  0.33741375,\n",
              "        0.11735027,  0.23895189,  0.18757904,  0.04405874,  0.25568162,\n",
              "        0.1277041 ,  0.39148822,  0.29569487,  0.2103482 ,  0.06793149,\n",
              "        0.10645295,  0.13936718,  0.12582585,  0.15881519,  0.8721764 ,\n",
              "        0.19728747,  0.11501448,  0.08267475,  0.08339233,  0.10960181,\n",
              "        0.17990938,  0.07381861,  0.33626429,  0.16274073,  0.60963297,\n",
              "        0.28023628,  0.13864014,  0.37997356,  0.24155614,  0.09026452,\n",
              "        0.0795059 ,  0.06009625,  0.11059184,  0.17214406,  0.18299777,\n",
              "        0.333512  ,  0.25446558,  0.37798677,  0.01572873,  0.10784094,\n",
              "        0.17021416,  0.32395861,  0.06404146,  0.16763809,  0.19920413,\n",
              "        0.03701165,  0.10649732,  0.1887855 ,  0.00550252,  0.24093873,\n",
              "        0.05441686,  0.06213804,  0.15164743,  0.46577558,  0.36442598,\n",
              "        0.34706324,  0.26030892,  0.51694818,  0.23776114,  0.39146622,\n",
              "        0.10775173,  0.25539938,  0.22157036,  0.16828924,  0.20492414,\n",
              "        0.09496414,  0.03510759,  0.07679151,  0.07371453,  0.13861534,\n",
              "        0.13549548,  0.98997265,  0.40901209,  0.31827087,  0.06980606,\n",
              "        0.1076728 ,  0.32391   ,  0.22538662,  0.35474898,  0.0873063 ,\n",
              "        0.27058428,  0.28535464,  0.13353074,  0.47842876,  0.08725495,\n",
              "        0.30282692,  0.20302481,  0.25056986,  0.17524838,  0.21073492,\n",
              "        0.0815519 ,  0.20032175,  0.10786435,  0.25062912,  0.79111024,\n",
              "        0.41851323,  0.25836192,  0.17409101,  0.45236019,  0.35441437,\n",
              "        0.14700244,  0.18303893,  0.17410378,  0.36717341,  0.14268712,\n",
              "        0.18761218,  0.23007087,  0.26295399,  0.15786435,  0.30273975])"
            ]
          },
          "metadata": {},
          "execution_count": 47
        }
      ]
    },
    {
      "cell_type": "markdown",
      "source": [
        "## emsemble Regression"
      ],
      "metadata": {
        "id": "Absu4gLvLy3e"
      }
    },
    {
      "cell_type": "code",
      "source": [
        "gbrt_y = GradientBoostingRegressor(max_depth=10, n_estimators=300, learning_rate=1e-2, random_state=42)\n",
        "gbrt_z = GradientBoostingRegressor(max_depth=10, n_estimators=300, learning_rate=1e-2, random_state=42)\n",
        "gbrt_y.fit(x_train, y.values.ravel())\n",
        "gbrt_z.fit(x_train, z.values.ravel())\n",
        "mse_y=mean_squared_error(y,gbrt_y.predict(x_train))\n",
        "print(\"The mean squared error (MSE) on test set: {:.4f}\".format(mse_y))"
      ],
      "metadata": {
        "colab": {
          "base_uri": "https://localhost:8080/"
        },
        "id": "AQrHLarpIXyY",
        "outputId": "e7468085-8857-45e6-da70-83dda854e2b7"
      },
      "execution_count": 48,
      "outputs": [
        {
          "output_type": "stream",
          "name": "stdout",
          "text": [
            "The mean squared error (MSE) on test set: 0.0001\n"
          ]
        }
      ]
    },
    {
      "cell_type": "code",
      "source": [
        "print('y_pred_ensemble :', gbrt_y.predict(x_train)) #ensemble model"
      ],
      "metadata": {
        "colab": {
          "base_uri": "https://localhost:8080/"
        },
        "id": "pA9NeLDFIh1Q",
        "outputId": "84ddf8b5-547d-466c-f80d-ad7075b79951"
      },
      "execution_count": 50,
      "outputs": [
        {
          "output_type": "stream",
          "name": "stdout",
          "text": [
            "y_pred_ensemble : [0.35314477 0.43668551 0.76660525 0.39449082 0.31277452 0.8906434\n",
            " 0.55987501 0.35381311 0.47718292 0.43479565 0.3114507  0.47718292\n",
            " 0.8079513  0.76660525 0.10506848 0.06372244 0.39609849 0.68391316\n",
            " 0.55987501 0.60122106 0.43583687 0.02237639 0.64256711 0.64256711\n",
            " 0.64256711 0.10506848 0.06372244 0.18776058 0.47515384 0.51852897\n",
            " 0.51852897 0.22910663 0.39545194 0.35314477 0.72525921 0.76660525\n",
            " 0.51852897 0.43593556 0.43583687 0.43465909 0.43583687 0.27045268\n",
            " 0.27218359 0.10506848 0.10506848 0.14641453 0.10506848 0.31179873\n",
            " 0.22910663 0.60122106 0.60051138 0.43583687 0.60122106 0.3142487\n",
            " 0.31197169 0.55852243 0.39449082 0.55943982 0.51852897 0.60122106\n",
            " 0.39455534 0.39449082 0.39554058 0.47718292 0.51852897 0.51852897\n",
            " 0.51721276 0.51852897 0.8079513  0.84929735 0.60122106 0.60122106\n",
            " 0.35314477 0.51852897 0.51882371 0.51852897 0.10506848 0.22910663\n",
            " 0.14641453 0.47819114 0.55987501 0.8906434  0.8906434  0.43583687\n",
            " 0.51852897 0.4779834  0.27045268 0.55987501 0.64256711 0.64256711\n",
            " 0.72525921 0.8079513  0.35321971 0.18776058 0.35314477 0.27075278\n",
            " 0.56014042 0.51852897 0.31179873 0.18776058 0.27045268 0.47718292\n",
            " 0.39449047 0.39449082 0.55987501 0.27045268 0.1881666  0.47786149\n",
            " 0.47718292 0.43583687 0.39449082 0.51880492 0.60122106 0.47666741\n",
            " 0.8079513  0.68391316 0.59871437 0.93198945 0.97333549 0.43638471\n",
            " 0.27045268 0.35263458 0.31131971 0.18776058 0.06372244 0.06372244\n",
            " 0.51687583 0.64256711 0.39449082 0.47753298 0.51852897 0.51852897\n",
            " 0.51736145 0.56014663 0.60122106 0.60122106 0.47718292 0.43680958\n",
            " 0.51854954 0.18776058 0.18776058 0.60122106 0.43552756 0.3942734\n",
            " 0.51998192 0.47718292 0.60051138 0.43583687 0.47718292 0.22910663\n",
            " 0.22910663 0.55841179 0.64256711 0.76660525 0.35314477 0.22910663\n",
            " 0.22910663 0.31179873 0.14641453 0.22910663 0.39449082 0.51852897\n",
            " 0.47718292 0.43583687 0.43664356 0.31179873 0.22910663 0.14641453\n",
            " 0.84929735 0.8906434  0.93198945 0.72525921 0.55866152 0.47718292\n",
            " 0.84929735 0.8079513  0.64256711 0.10506848 0.10506848 0.18776058]\n"
          ]
        }
      ]
    },
    {
      "cell_type": "code",
      "source": [
        "test_score = np.zeros((300,), dtype=np.float64)\n",
        "for i, y_pred in enumerate(gbrt_y.staged_predict(x_train)):\n",
        "    test_score[i] = mean_squared_error(y, y_pred)\n",
        "\n",
        "fig = plt.figure(figsize=(6, 6))\n",
        "plt.subplot(1, 1, 1)\n",
        "plt.title(\"PSS\")\n",
        "plt.plot(\n",
        "    np.arange(300) + 1,\n",
        "    gbrt_y.train_score_,\n",
        "    \"b-\",\n",
        "    label=\"Training Set \",\n",
        ")\n",
        "plt.plot(\n",
        "    np.arange(300) + 1, test_score, \"r-\", label=\"Test Set\"\n",
        ")\n",
        "plt.legend(loc=\"upper right\")\n",
        "plt.xlabel(\"Boosting Iterations\")\n",
        "plt.ylabel(\"PSS\")\n",
        "fig.tight_layout()\n",
        "plt.show()"
      ],
      "metadata": {
        "colab": {
          "base_uri": "https://localhost:8080/",
          "height": 441
        },
        "id": "wYpGjHlunfGm",
        "outputId": "196d44b6-5e0c-43ff-943b-8c6ca8c05176"
      },
      "execution_count": 51,
      "outputs": [
        {
          "output_type": "display_data",
          "data": {
            "text/plain": [
              "<Figure size 432x432 with 1 Axes>"
            ],
            "image/png": "[encoded data removed]"
          },
          "metadata": {
            "needs_background": "light"
          }
        }
      ]
    },
    {
      "cell_type": "code",
      "source": [
        "!pip install eli5\n",
        "import eli5\n",
        "from eli5.sklearn import PermutationImportance"
      ],
      "metadata": {
        "id": "m75hGZ_spgxP",
        "colab": {
          "base_uri": "https://localhost:8080/"
        },
        "outputId": "ffe09de1-0530-4885-effc-a049ff93aae1"
      },
      "execution_count": 53,
      "outputs": [
        {
          "output_type": "stream",
          "name": "stdout",
          "text": [
            "Looking in indexes: https://pypi.org/simple, https://us-python.pkg.dev/colab-wheels/public/simple/\n",
            "Collecting eli5\n",
            "  Downloading eli5-0.13.0.tar.gz (216 kB)\n",
            "\u001b[2K     \u001b[90m━━━━━━━━━━━━━━━━━━━━━━━━━━━━━━━━━━━━━━\u001b[0m \u001b[32m216.2/216.2 KB\u001b[0m \u001b[31m16.0 MB/s\u001b[0m eta \u001b[36m0:00:00\u001b[0m\n",
            "\u001b[?25h  Preparing metadata (setup.py) ... \u001b[?25l\u001b[?25hdone\n",
            "Requirement already satisfied: attrs>17.1.0 in /usr/local/lib/python3.8/dist-packages (from eli5) (22.2.0)\n",
            "Collecting jinja2>=3.0.0\n",
            "  Downloading Jinja2-3.1.2-py3-none-any.whl (133 kB)\n",
            "\u001b[2K     \u001b[90m━━━━━━━━━━━━━━━━━━━━━━━━━━━━━━━━━━━━━━\u001b[0m \u001b[32m133.1/133.1 KB\u001b[0m \u001b[31m17.7 MB/s\u001b[0m eta \u001b[36m0:00:00\u001b[0m\n",
            "\u001b[?25hRequirement already satisfied: numpy>=1.9.0 in /usr/local/lib/python3.8/dist-packages (from eli5) (1.21.6)\n",
            "Requirement already satisfied: scipy in /usr/local/lib/python3.8/dist-packages (from eli5) (1.7.3)\n",
            "Requirement already satisfied: six in /usr/local/lib/python3.8/dist-packages (from eli5) (1.15.0)\n",
            "Requirement already satisfied: scikit-learn>=0.20 in /usr/local/lib/python3.8/dist-packages (from eli5) (1.0.2)\n",
            "Requirement already satisfied: graphviz in /usr/local/lib/python3.8/dist-packages (from eli5) (0.10.1)\n",
            "Requirement already satisfied: tabulate>=0.7.7 in /usr/local/lib/python3.8/dist-packages (from eli5) (0.8.10)\n",
            "Requirement already satisfied: MarkupSafe>=2.0 in /usr/local/lib/python3.8/dist-packages (from jinja2>=3.0.0->eli5) (2.0.1)\n",
            "Requirement already satisfied: joblib>=0.11 in /usr/local/lib/python3.8/dist-packages (from scikit-learn>=0.20->eli5) (1.2.0)\n",
            "Requirement already satisfied: threadpoolctl>=2.0.0 in /usr/local/lib/python3.8/dist-packages (from scikit-learn>=0.20->eli5) (3.1.0)\n",
            "Building wheels for collected packages: eli5\n",
            "  Building wheel for eli5 (setup.py) ... \u001b[?25l\u001b[?25hdone\n",
            "  Created wheel for eli5: filename=eli5-0.13.0-py2.py3-none-any.whl size=107748 sha256=4964f5200870dc79aa7a9c7ff93f342fa3800ea1ea350b8c7bbda026213f6a73\n",
            "  Stored in directory: /root/.cache/pip/wheels/85/ac/25/ffcd87ef8f9b1eec324fdf339359be71f22612459d8c75d89c\n",
            "Successfully built eli5\n",
            "Installing collected packages: jinja2, eli5\n",
            "  Attempting uninstall: jinja2\n",
            "    Found existing installation: Jinja2 2.11.3\n",
            "    Uninstalling Jinja2-2.11.3:\n",
            "      Successfully uninstalled Jinja2-2.11.3\n",
            "\u001b[31mERROR: pip's dependency resolver does not currently take into account all the packages that are installed. This behaviour is the source of the following dependency conflicts.\n",
            "notebook 5.7.16 requires jinja2<=3.0.0, but you have jinja2 3.1.2 which is incompatible.\n",
            "flask 1.1.4 requires Jinja2<3.0,>=2.10.1, but you have jinja2 3.1.2 which is incompatible.\u001b[0m\u001b[31m\n",
            "\u001b[0mSuccessfully installed eli5-0.13.0 jinja2-3.1.2\n"
          ]
        }
      ]
    },
    {
      "cell_type": "code",
      "source": [
        "columns = x_train.columns\n",
        "coefficients = gbrt_y.feature_importances_.reshape(x_train.columns.shape[0], 1)\n",
        "pd.concat([pd.DataFrame(columns, columns=['변수명']), pd.DataFrame(coefficients, columns=['특성 중요도'])], axis=1).sort_values(by='특성 중요도', ascending=False)"
      ],
      "metadata": {
        "colab": {
          "base_uri": "https://localhost:8080/",
          "height": 424
        },
        "id": "0fZGbo9XoGZH",
        "outputId": "c01e188e-1320-4d08-bdff-4cf7e692aaf1"
      },
      "execution_count": 54,
      "outputs": [
        {
          "output_type": "execute_result",
          "data": {
            "text/plain": [
              "                      변수명    특성 중요도\n",
              "2465   2_Cz_θ/Low β (410)  0.120223\n",
              "1155         1_P3_θ (126)  0.084756\n",
              "2389     2_Cz_Low β (334)  0.073908\n",
              "1159         1_Pz_θ (130)  0.064035\n",
              "327     0_Fp2_Low β (324)  0.057601\n",
              "...                   ...       ...\n",
              "1236    1_O1_Slow α (207)  0.000000\n",
              "2092          2_O2_θ (37)  0.000000\n",
              "2093         2_Fp1_α (38)  0.000000\n",
              "2094         2_Fp2_α (39)  0.000000\n",
              "1288  1_P3_Middle β (259)  0.000000\n",
              "\n",
              "[3803 rows x 2 columns]"
            ],
            "text/html": [
              "\n",
              "  <div id=\"df-21da4cca-323c-4875-96a3-781f9ddd1229\">\n",
              "    <div class=\"colab-df-container\">\n",
              "      <div>\n",
              "<style scoped>\n",
              "    .dataframe tbody tr th:only-of-type {\n",
              "        vertical-align: middle;\n",
              "    }\n",
              "\n",
              "    .dataframe tbody tr th {\n",
              "        vertical-align: top;\n",
              "    }\n",
              "\n",
              "    .dataframe thead th {\n",
              "        text-align: right;\n",
              "    }\n",
              "</style>\n",
              "<table border=\"1\" class=\"dataframe\">\n",
              "  <thead>\n",
              "    <tr style=\"text-align: right;\">\n",
              "      <th></th>\n",
              "      <th>변수명</th>\n",
              "      <th>특성 중요도</th>\n",
              "    </tr>\n",
              "  </thead>\n",
              "  <tbody>\n",
              "    <tr>\n",
              "      <th>2465</th>\n",
              "      <td>2_Cz_θ/Low β (410)</td>\n",
              "      <td>0.120223</td>\n",
              "    </tr>\n",
              "    <tr>\n",
              "      <th>1155</th>\n",
              "      <td>1_P3_θ (126)</td>\n",
              "      <td>0.084756</td>\n",
              "    </tr>\n",
              "    <tr>\n",
              "      <th>2389</th>\n",
              "      <td>2_Cz_Low β (334)</td>\n",
              "      <td>0.073908</td>\n",
              "    </tr>\n",
              "    <tr>\n",
              "      <th>1159</th>\n",
              "      <td>1_Pz_θ (130)</td>\n",
              "      <td>0.064035</td>\n",
              "    </tr>\n",
              "    <tr>\n",
              "      <th>327</th>\n",
              "      <td>0_Fp2_Low β (324)</td>\n",
              "      <td>0.057601</td>\n",
              "    </tr>\n",
              "    <tr>\n",
              "      <th>...</th>\n",
              "      <td>...</td>\n",
              "      <td>...</td>\n",
              "    </tr>\n",
              "    <tr>\n",
              "      <th>1236</th>\n",
              "      <td>1_O1_Slow α (207)</td>\n",
              "      <td>0.000000</td>\n",
              "    </tr>\n",
              "    <tr>\n",
              "      <th>2092</th>\n",
              "      <td>2_O2_θ (37)</td>\n",
              "      <td>0.000000</td>\n",
              "    </tr>\n",
              "    <tr>\n",
              "      <th>2093</th>\n",
              "      <td>2_Fp1_α (38)</td>\n",
              "      <td>0.000000</td>\n",
              "    </tr>\n",
              "    <tr>\n",
              "      <th>2094</th>\n",
              "      <td>2_Fp2_α (39)</td>\n",
              "      <td>0.000000</td>\n",
              "    </tr>\n",
              "    <tr>\n",
              "      <th>1288</th>\n",
              "      <td>1_P3_Middle β (259)</td>\n",
              "      <td>0.000000</td>\n",
              "    </tr>\n",
              "  </tbody>\n",
              "</table>\n",
              "<p>3803 rows × 2 columns</p>\n",
              "</div>\n",
              "      <button class=\"colab-df-convert\" onclick=\"convertToInteractive('df-21da4cca-323c-4875-96a3-781f9ddd1229')\"\n",
              "              title=\"Convert this dataframe to an interactive table.\"\n",
              "              style=\"display:none;\">\n",
              "        \n",
              "  <svg xmlns=\"http://www.w3.org/2000/svg\" height=\"24px\"viewBox=\"0 0 24 24\"\n",
              "       width=\"24px\">\n",
              "    <path d=\"M0 0h24v24H0V0z\" fill=\"none\"/>\n",
              "    <path d=\"M18.56 5.44l.94 2.06.94-2.06 2.06-.94-2.06-.94-.94-2.06-.94 2.06-2.06.94zm-11 1L8.5 8.5l.94-2.06 2.06-.94-2.06-.94L8.5 2.5l-.94 2.06-2.06.94zm10 10l.94 2.06.94-2.06 2.06-.94-2.06-.94-.94-2.06-.94 2.06-2.06.94z\"/><path d=\"M17.41 7.96l-1.37-1.37c-.4-.4-.92-.59-1.43-.59-.52 0-1.04.2-1.43.59L10.3 9.45l-7.72 7.72c-.78.78-.78 2.05 0 2.83L4 21.41c.39.39.9.59 1.41.59.51 0 1.02-.2 1.41-.59l7.78-7.78 2.81-2.81c.8-.78.8-2.07 0-2.86zM5.41 20L4 18.59l7.72-7.72 1.47 1.35L5.41 20z\"/>\n",
              "  </svg>\n",
              "      </button>\n",
              "      \n",
              "  <style>\n",
              "    .colab-df-container {\n",
              "      display:flex;\n",
              "      flex-wrap:wrap;\n",
              "      gap: 12px;\n",
              "    }\n",
              "\n",
              "    .colab-df-convert {\n",
              "      background-color: #E8F0FE;\n",
              "      border: none;\n",
              "      border-radius: 50%;\n",
              "      cursor: pointer;\n",
              "      display: none;\n",
              "      fill: #1967D2;\n",
              "      height: 32px;\n",
              "      padding: 0 0 0 0;\n",
              "      width: 32px;\n",
              "    }\n",
              "\n",
              "    .colab-df-convert:hover {\n",
              "      background-color: #E2EBFA;\n",
              "      box-shadow: 0px 1px 2px rgba(60, 64, 67, 0.3), 0px 1px 3px 1px rgba(60, 64, 67, 0.15);\n",
              "      fill: #174EA6;\n",
              "    }\n",
              "\n",
              "    [theme=dark] .colab-df-convert {\n",
              "      background-color: #3B4455;\n",
              "      fill: #D2E3FC;\n",
              "    }\n",
              "\n",
              "    [theme=dark] .colab-df-convert:hover {\n",
              "      background-color: #434B5C;\n",
              "      box-shadow: 0px 1px 3px 1px rgba(0, 0, 0, 0.15);\n",
              "      filter: drop-shadow(0px 1px 2px rgba(0, 0, 0, 0.3));\n",
              "      fill: #FFFFFF;\n",
              "    }\n",
              "  </style>\n",
              "\n",
              "      <script>\n",
              "        const buttonEl =\n",
              "          document.querySelector('#df-21da4cca-323c-4875-96a3-781f9ddd1229 button.colab-df-convert');\n",
              "        buttonEl.style.display =\n",
              "          google.colab.kernel.accessAllowed ? 'block' : 'none';\n",
              "\n",
              "        async function convertToInteractive(key) {\n",
              "          const element = document.querySelector('#df-21da4cca-323c-4875-96a3-781f9ddd1229');\n",
              "          const dataTable =\n",
              "            await google.colab.kernel.invokeFunction('convertToInteractive',\n",
              "                                                     [key], {});\n",
              "          if (!dataTable) return;\n",
              "\n",
              "          const docLinkHtml = 'Like what you see? Visit the ' +\n",
              "            '<a target=\"_blank\" href=https://colab.research.google.com/notebooks/data_table.ipynb>data table notebook</a>'\n",
              "            + ' to learn more about interactive tables.';\n",
              "          element.innerHTML = '';\n",
              "          dataTable['output_type'] = 'display_data';\n",
              "          await google.colab.output.renderOutput(dataTable, element);\n",
              "          const docLink = document.createElement('div');\n",
              "          docLink.innerHTML = docLinkHtml;\n",
              "          element.appendChild(docLink);\n",
              "        }\n",
              "      </script>\n",
              "    </div>\n",
              "  </div>\n",
              "  "
            ]
          },
          "metadata": {},
          "execution_count": 54
        }
      ]
    },
    {
      "cell_type": "code",
      "source": [
        "perm = PermutationImportance(gbrt_y, random_state=42).fit(x_train, y)\n",
        "eli5.show_weights(perm, feature_names=x_train.columns.tolist())"
      ],
      "metadata": {
        "colab": {
          "base_uri": "https://localhost:8080/",
          "height": 345
        },
        "id": "oc25RE-orjkc",
        "outputId": "ba8da3ea-14e1-4976-a50a-42aae0158098"
      },
      "execution_count": 55,
      "outputs": [
        {
          "output_type": "error",
          "ename": "KeyboardInterrupt",
          "evalue": "ignored",
          "traceback": [
            "\u001b[0;31m---------------------------------------------------------------------------\u001b[0m",
            "\u001b[0;31mKeyboardInterrupt\u001b[0m                         Traceback (most recent call last)",
            "\u001b[0;32m<ipython-input-55-94f443c7ee51>\u001b[0m in \u001b[0;36m<module>\u001b[0;34m\u001b[0m\n\u001b[0;32m----> 1\u001b[0;31m \u001b[0mperm\u001b[0m \u001b[0;34m=\u001b[0m \u001b[0mPermutationImportance\u001b[0m\u001b[0;34m(\u001b[0m\u001b[0mgbrt_y\u001b[0m\u001b[0;34m,\u001b[0m \u001b[0mrandom_state\u001b[0m\u001b[0;34m=\u001b[0m\u001b[0;36m42\u001b[0m\u001b[0;34m)\u001b[0m\u001b[0;34m.\u001b[0m\u001b[0mfit\u001b[0m\u001b[0;34m(\u001b[0m\u001b[0mx_train\u001b[0m\u001b[0;34m,\u001b[0m \u001b[0my\u001b[0m\u001b[0;34m)\u001b[0m\u001b[0;34m\u001b[0m\u001b[0;34m\u001b[0m\u001b[0m\n\u001b[0m\u001b[1;32m      2\u001b[0m \u001b[0meli5\u001b[0m\u001b[0;34m.\u001b[0m\u001b[0mshow_weights\u001b[0m\u001b[0;34m(\u001b[0m\u001b[0mperm\u001b[0m\u001b[0;34m,\u001b[0m \u001b[0mfeature_names\u001b[0m\u001b[0;34m=\u001b[0m\u001b[0mx_train\u001b[0m\u001b[0;34m.\u001b[0m\u001b[0mcolumns\u001b[0m\u001b[0;34m.\u001b[0m\u001b[0mtolist\u001b[0m\u001b[0;34m(\u001b[0m\u001b[0;34m)\u001b[0m\u001b[0;34m)\u001b[0m\u001b[0;34m\u001b[0m\u001b[0;34m\u001b[0m\u001b[0m\n",
            "\u001b[0;32m/usr/local/lib/python3.8/dist-packages/eli5/sklearn/permutation_importance.py\u001b[0m in \u001b[0;36mfit\u001b[0;34m(self, X, y, groups, **fit_params)\u001b[0m\n\u001b[1;32m    202\u001b[0m             \u001b[0msi\u001b[0m \u001b[0;34m=\u001b[0m \u001b[0mself\u001b[0m\u001b[0;34m.\u001b[0m\u001b[0m_cv_scores_importances\u001b[0m\u001b[0;34m(\u001b[0m\u001b[0mX\u001b[0m\u001b[0;34m,\u001b[0m \u001b[0my\u001b[0m\u001b[0;34m,\u001b[0m \u001b[0mgroups\u001b[0m\u001b[0;34m=\u001b[0m\u001b[0mgroups\u001b[0m\u001b[0;34m,\u001b[0m \u001b[0;34m**\u001b[0m\u001b[0mfit_params\u001b[0m\u001b[0;34m)\u001b[0m\u001b[0;34m\u001b[0m\u001b[0;34m\u001b[0m\u001b[0m\n\u001b[1;32m    203\u001b[0m         \u001b[0;32melse\u001b[0m\u001b[0;34m:\u001b[0m\u001b[0;34m\u001b[0m\u001b[0;34m\u001b[0m\u001b[0m\n\u001b[0;32m--> 204\u001b[0;31m             \u001b[0msi\u001b[0m \u001b[0;34m=\u001b[0m \u001b[0mself\u001b[0m\u001b[0;34m.\u001b[0m\u001b[0m_non_cv_scores_importances\u001b[0m\u001b[0;34m(\u001b[0m\u001b[0mX\u001b[0m\u001b[0;34m,\u001b[0m \u001b[0my\u001b[0m\u001b[0;34m)\u001b[0m\u001b[0;34m\u001b[0m\u001b[0;34m\u001b[0m\u001b[0m\n\u001b[0m\u001b[1;32m    205\u001b[0m         \u001b[0mscores\u001b[0m\u001b[0;34m,\u001b[0m \u001b[0mresults\u001b[0m \u001b[0;34m=\u001b[0m \u001b[0msi\u001b[0m\u001b[0;34m\u001b[0m\u001b[0;34m\u001b[0m\u001b[0m\n\u001b[1;32m    206\u001b[0m         \u001b[0mself\u001b[0m\u001b[0;34m.\u001b[0m\u001b[0mscores_\u001b[0m \u001b[0;34m=\u001b[0m \u001b[0mnp\u001b[0m\u001b[0;34m.\u001b[0m\u001b[0marray\u001b[0m\u001b[0;34m(\u001b[0m\u001b[0mscores\u001b[0m\u001b[0;34m)\u001b[0m\u001b[0;34m\u001b[0m\u001b[0;34m\u001b[0m\u001b[0m\n",
            "\u001b[0;32m/usr/local/lib/python3.8/dist-packages/eli5/sklearn/permutation_importance.py\u001b[0m in \u001b[0;36m_non_cv_scores_importances\u001b[0;34m(self, X, y)\u001b[0m\n\u001b[1;32m    230\u001b[0m     \u001b[0;32mdef\u001b[0m \u001b[0m_non_cv_scores_importances\u001b[0m\u001b[0;34m(\u001b[0m\u001b[0mself\u001b[0m\u001b[0;34m,\u001b[0m \u001b[0mX\u001b[0m\u001b[0;34m,\u001b[0m \u001b[0my\u001b[0m\u001b[0;34m)\u001b[0m\u001b[0;34m:\u001b[0m\u001b[0;34m\u001b[0m\u001b[0;34m\u001b[0m\u001b[0m\n\u001b[1;32m    231\u001b[0m         \u001b[0mscore_func\u001b[0m \u001b[0;34m=\u001b[0m \u001b[0mpartial\u001b[0m\u001b[0;34m(\u001b[0m\u001b[0mself\u001b[0m\u001b[0;34m.\u001b[0m\u001b[0mscorer_\u001b[0m\u001b[0;34m,\u001b[0m \u001b[0mself\u001b[0m\u001b[0;34m.\u001b[0m\u001b[0mwrapped_estimator_\u001b[0m\u001b[0;34m)\u001b[0m\u001b[0;34m\u001b[0m\u001b[0;34m\u001b[0m\u001b[0m\n\u001b[0;32m--> 232\u001b[0;31m         \u001b[0mbase_score\u001b[0m\u001b[0;34m,\u001b[0m \u001b[0mimportances\u001b[0m \u001b[0;34m=\u001b[0m \u001b[0mself\u001b[0m\u001b[0;34m.\u001b[0m\u001b[0m_get_score_importances\u001b[0m\u001b[0;34m(\u001b[0m\u001b[0mscore_func\u001b[0m\u001b[0;34m,\u001b[0m \u001b[0mX\u001b[0m\u001b[0;34m,\u001b[0m \u001b[0my\u001b[0m\u001b[0;34m)\u001b[0m\u001b[0;34m\u001b[0m\u001b[0;34m\u001b[0m\u001b[0m\n\u001b[0m\u001b[1;32m    233\u001b[0m         \u001b[0;32mreturn\u001b[0m \u001b[0;34m[\u001b[0m\u001b[0mbase_score\u001b[0m\u001b[0;34m]\u001b[0m \u001b[0;34m*\u001b[0m \u001b[0mlen\u001b[0m\u001b[0;34m(\u001b[0m\u001b[0mimportances\u001b[0m\u001b[0;34m)\u001b[0m\u001b[0;34m,\u001b[0m \u001b[0mimportances\u001b[0m\u001b[0;34m\u001b[0m\u001b[0;34m\u001b[0m\u001b[0m\n\u001b[1;32m    234\u001b[0m \u001b[0;34m\u001b[0m\u001b[0m\n",
            "\u001b[0;32m/usr/local/lib/python3.8/dist-packages/eli5/sklearn/permutation_importance.py\u001b[0m in \u001b[0;36m_get_score_importances\u001b[0;34m(self, score_func, X, y)\u001b[0m\n\u001b[1;32m    234\u001b[0m \u001b[0;34m\u001b[0m\u001b[0m\n\u001b[1;32m    235\u001b[0m     \u001b[0;32mdef\u001b[0m \u001b[0m_get_score_importances\u001b[0m\u001b[0;34m(\u001b[0m\u001b[0mself\u001b[0m\u001b[0;34m,\u001b[0m \u001b[0mscore_func\u001b[0m\u001b[0;34m,\u001b[0m \u001b[0mX\u001b[0m\u001b[0;34m,\u001b[0m \u001b[0my\u001b[0m\u001b[0;34m)\u001b[0m\u001b[0;34m:\u001b[0m\u001b[0;34m\u001b[0m\u001b[0;34m\u001b[0m\u001b[0m\n\u001b[0;32m--> 236\u001b[0;31m         return get_score_importances(score_func, X, y, n_iter=self.n_iter,\n\u001b[0m\u001b[1;32m    237\u001b[0m                                      random_state=self.rng_)\n\u001b[1;32m    238\u001b[0m \u001b[0;34m\u001b[0m\u001b[0m\n",
            "\u001b[0;32m/usr/local/lib/python3.8/dist-packages/eli5/permutation_importance.py\u001b[0m in \u001b[0;36mget_score_importances\u001b[0;34m(score_func, X, y, n_iter, columns_to_shuffle, random_state)\u001b[0m\n\u001b[1;32m     87\u001b[0m     \u001b[0mscores_decreases\u001b[0m \u001b[0;34m=\u001b[0m \u001b[0;34m[\u001b[0m\u001b[0;34m]\u001b[0m\u001b[0;34m\u001b[0m\u001b[0;34m\u001b[0m\u001b[0m\n\u001b[1;32m     88\u001b[0m     \u001b[0;32mfor\u001b[0m \u001b[0mi\u001b[0m \u001b[0;32min\u001b[0m \u001b[0mrange\u001b[0m\u001b[0;34m(\u001b[0m\u001b[0mn_iter\u001b[0m\u001b[0;34m)\u001b[0m\u001b[0;34m:\u001b[0m\u001b[0;34m\u001b[0m\u001b[0;34m\u001b[0m\u001b[0m\n\u001b[0;32m---> 89\u001b[0;31m         scores_shuffled = _get_scores_shufled(\n\u001b[0m\u001b[1;32m     90\u001b[0m             \u001b[0mscore_func\u001b[0m\u001b[0;34m,\u001b[0m \u001b[0mX\u001b[0m\u001b[0;34m,\u001b[0m \u001b[0my\u001b[0m\u001b[0;34m,\u001b[0m \u001b[0mcolumns_to_shuffle\u001b[0m\u001b[0;34m=\u001b[0m\u001b[0mcolumns_to_shuffle\u001b[0m\u001b[0;34m,\u001b[0m\u001b[0;34m\u001b[0m\u001b[0;34m\u001b[0m\u001b[0m\n\u001b[1;32m     91\u001b[0m             \u001b[0mrandom_state\u001b[0m\u001b[0;34m=\u001b[0m\u001b[0mrng\u001b[0m\u001b[0;34m\u001b[0m\u001b[0;34m\u001b[0m\u001b[0m\n",
            "\u001b[0;32m/usr/local/lib/python3.8/dist-packages/eli5/permutation_importance.py\u001b[0m in \u001b[0;36m_get_scores_shufled\u001b[0;34m(score_func, X, y, columns_to_shuffle, random_state)\u001b[0m\n\u001b[1;32m     98\u001b[0m                         random_state=None):\n\u001b[1;32m     99\u001b[0m     \u001b[0mXs\u001b[0m \u001b[0;34m=\u001b[0m \u001b[0miter_shuffled\u001b[0m\u001b[0;34m(\u001b[0m\u001b[0mX\u001b[0m\u001b[0;34m,\u001b[0m \u001b[0mcolumns_to_shuffle\u001b[0m\u001b[0;34m,\u001b[0m \u001b[0mrandom_state\u001b[0m\u001b[0;34m=\u001b[0m\u001b[0mrandom_state\u001b[0m\u001b[0;34m)\u001b[0m\u001b[0;34m\u001b[0m\u001b[0;34m\u001b[0m\u001b[0m\n\u001b[0;32m--> 100\u001b[0;31m     \u001b[0;32mreturn\u001b[0m \u001b[0mnp\u001b[0m\u001b[0;34m.\u001b[0m\u001b[0marray\u001b[0m\u001b[0;34m(\u001b[0m\u001b[0;34m[\u001b[0m\u001b[0mscore_func\u001b[0m\u001b[0;34m(\u001b[0m\u001b[0mX_shuffled\u001b[0m\u001b[0;34m,\u001b[0m \u001b[0my\u001b[0m\u001b[0;34m)\u001b[0m \u001b[0;32mfor\u001b[0m \u001b[0mX_shuffled\u001b[0m \u001b[0;32min\u001b[0m \u001b[0mXs\u001b[0m\u001b[0;34m]\u001b[0m\u001b[0;34m)\u001b[0m\u001b[0;34m\u001b[0m\u001b[0;34m\u001b[0m\u001b[0m\n\u001b[0m",
            "\u001b[0;32m/usr/local/lib/python3.8/dist-packages/eli5/permutation_importance.py\u001b[0m in \u001b[0;36m<listcomp>\u001b[0;34m(.0)\u001b[0m\n\u001b[1;32m     98\u001b[0m                         random_state=None):\n\u001b[1;32m     99\u001b[0m     \u001b[0mXs\u001b[0m \u001b[0;34m=\u001b[0m \u001b[0miter_shuffled\u001b[0m\u001b[0;34m(\u001b[0m\u001b[0mX\u001b[0m\u001b[0;34m,\u001b[0m \u001b[0mcolumns_to_shuffle\u001b[0m\u001b[0;34m,\u001b[0m \u001b[0mrandom_state\u001b[0m\u001b[0;34m=\u001b[0m\u001b[0mrandom_state\u001b[0m\u001b[0;34m)\u001b[0m\u001b[0;34m\u001b[0m\u001b[0;34m\u001b[0m\u001b[0m\n\u001b[0;32m--> 100\u001b[0;31m     \u001b[0;32mreturn\u001b[0m \u001b[0mnp\u001b[0m\u001b[0;34m.\u001b[0m\u001b[0marray\u001b[0m\u001b[0;34m(\u001b[0m\u001b[0;34m[\u001b[0m\u001b[0mscore_func\u001b[0m\u001b[0;34m(\u001b[0m\u001b[0mX_shuffled\u001b[0m\u001b[0;34m,\u001b[0m \u001b[0my\u001b[0m\u001b[0;34m)\u001b[0m \u001b[0;32mfor\u001b[0m \u001b[0mX_shuffled\u001b[0m \u001b[0;32min\u001b[0m \u001b[0mXs\u001b[0m\u001b[0;34m]\u001b[0m\u001b[0;34m)\u001b[0m\u001b[0;34m\u001b[0m\u001b[0;34m\u001b[0m\u001b[0m\n\u001b[0m",
            "\u001b[0;32m/usr/local/lib/python3.8/dist-packages/eli5/sklearn/permutation_importance.py\u001b[0m in \u001b[0;36mpd_scorer\u001b[0;34m(model, X, y)\u001b[0m\n\u001b[1;32m    160\u001b[0m         \u001b[0;32mdef\u001b[0m \u001b[0mpd_scorer\u001b[0m\u001b[0;34m(\u001b[0m\u001b[0mmodel\u001b[0m\u001b[0;34m,\u001b[0m \u001b[0mX\u001b[0m\u001b[0;34m,\u001b[0m \u001b[0my\u001b[0m\u001b[0;34m)\u001b[0m\u001b[0;34m:\u001b[0m\u001b[0;34m\u001b[0m\u001b[0;34m\u001b[0m\u001b[0m\n\u001b[1;32m    161\u001b[0m             \u001b[0mX\u001b[0m \u001b[0;34m=\u001b[0m \u001b[0mpd\u001b[0m\u001b[0;34m.\u001b[0m\u001b[0mDataFrame\u001b[0m\u001b[0;34m(\u001b[0m\u001b[0mX\u001b[0m\u001b[0;34m,\u001b[0m \u001b[0mcolumns\u001b[0m\u001b[0;34m=\u001b[0m\u001b[0mpd_columns\u001b[0m\u001b[0;34m)\u001b[0m\u001b[0;34m\u001b[0m\u001b[0;34m\u001b[0m\u001b[0m\n\u001b[0;32m--> 162\u001b[0;31m             \u001b[0;32mreturn\u001b[0m \u001b[0mbase_scorer\u001b[0m\u001b[0;34m(\u001b[0m\u001b[0mmodel\u001b[0m\u001b[0;34m,\u001b[0m \u001b[0mX\u001b[0m\u001b[0;34m,\u001b[0m \u001b[0my\u001b[0m\u001b[0;34m)\u001b[0m\u001b[0;34m\u001b[0m\u001b[0;34m\u001b[0m\u001b[0m\n\u001b[0m\u001b[1;32m    163\u001b[0m         \u001b[0;32mreturn\u001b[0m \u001b[0mpd_scorer\u001b[0m\u001b[0;34m\u001b[0m\u001b[0;34m\u001b[0m\u001b[0m\n\u001b[1;32m    164\u001b[0m \u001b[0;34m\u001b[0m\u001b[0m\n",
            "\u001b[0;32m/usr/local/lib/python3.8/dist-packages/sklearn/metrics/_scorer.py\u001b[0m in \u001b[0;36m_passthrough_scorer\u001b[0;34m(estimator, *args, **kwargs)\u001b[0m\n\u001b[1;32m    416\u001b[0m \u001b[0;32mdef\u001b[0m \u001b[0m_passthrough_scorer\u001b[0m\u001b[0;34m(\u001b[0m\u001b[0mestimator\u001b[0m\u001b[0;34m,\u001b[0m \u001b[0;34m*\u001b[0m\u001b[0margs\u001b[0m\u001b[0;34m,\u001b[0m \u001b[0;34m**\u001b[0m\u001b[0mkwargs\u001b[0m\u001b[0;34m)\u001b[0m\u001b[0;34m:\u001b[0m\u001b[0;34m\u001b[0m\u001b[0;34m\u001b[0m\u001b[0m\n\u001b[1;32m    417\u001b[0m     \u001b[0;34m\"\"\"Function that wraps estimator.score\"\"\"\u001b[0m\u001b[0;34m\u001b[0m\u001b[0;34m\u001b[0m\u001b[0m\n\u001b[0;32m--> 418\u001b[0;31m     \u001b[0;32mreturn\u001b[0m \u001b[0mestimator\u001b[0m\u001b[0;34m.\u001b[0m\u001b[0mscore\u001b[0m\u001b[0;34m(\u001b[0m\u001b[0;34m*\u001b[0m\u001b[0margs\u001b[0m\u001b[0;34m,\u001b[0m \u001b[0;34m**\u001b[0m\u001b[0mkwargs\u001b[0m\u001b[0;34m)\u001b[0m\u001b[0;34m\u001b[0m\u001b[0;34m\u001b[0m\u001b[0m\n\u001b[0m\u001b[1;32m    419\u001b[0m \u001b[0;34m\u001b[0m\u001b[0m\n\u001b[1;32m    420\u001b[0m \u001b[0;34m\u001b[0m\u001b[0m\n",
            "\u001b[0;32m/usr/local/lib/python3.8/dist-packages/sklearn/base.py\u001b[0m in \u001b[0;36mscore\u001b[0;34m(self, X, y, sample_weight)\u001b[0m\n\u001b[1;32m    703\u001b[0m         \u001b[0;32mfrom\u001b[0m \u001b[0;34m.\u001b[0m\u001b[0mmetrics\u001b[0m \u001b[0;32mimport\u001b[0m \u001b[0mr2_score\u001b[0m\u001b[0;34m\u001b[0m\u001b[0;34m\u001b[0m\u001b[0m\n\u001b[1;32m    704\u001b[0m \u001b[0;34m\u001b[0m\u001b[0m\n\u001b[0;32m--> 705\u001b[0;31m         \u001b[0my_pred\u001b[0m \u001b[0;34m=\u001b[0m \u001b[0mself\u001b[0m\u001b[0;34m.\u001b[0m\u001b[0mpredict\u001b[0m\u001b[0;34m(\u001b[0m\u001b[0mX\u001b[0m\u001b[0;34m)\u001b[0m\u001b[0;34m\u001b[0m\u001b[0;34m\u001b[0m\u001b[0m\n\u001b[0m\u001b[1;32m    706\u001b[0m         \u001b[0;32mreturn\u001b[0m \u001b[0mr2_score\u001b[0m\u001b[0;34m(\u001b[0m\u001b[0my\u001b[0m\u001b[0;34m,\u001b[0m \u001b[0my_pred\u001b[0m\u001b[0;34m,\u001b[0m \u001b[0msample_weight\u001b[0m\u001b[0;34m=\u001b[0m\u001b[0msample_weight\u001b[0m\u001b[0;34m)\u001b[0m\u001b[0;34m\u001b[0m\u001b[0;34m\u001b[0m\u001b[0m\n\u001b[1;32m    707\u001b[0m \u001b[0;34m\u001b[0m\u001b[0m\n",
            "\u001b[0;32m/usr/local/lib/python3.8/dist-packages/sklearn/ensemble/_gb.py\u001b[0m in \u001b[0;36mpredict\u001b[0;34m(self, X)\u001b[0m\n\u001b[1;32m   1875\u001b[0m             \u001b[0mThe\u001b[0m \u001b[0mpredicted\u001b[0m \u001b[0mvalues\u001b[0m\u001b[0;34m.\u001b[0m\u001b[0;34m\u001b[0m\u001b[0;34m\u001b[0m\u001b[0m\n\u001b[1;32m   1876\u001b[0m         \"\"\"\n\u001b[0;32m-> 1877\u001b[0;31m         X = self._validate_data(\n\u001b[0m\u001b[1;32m   1878\u001b[0m             \u001b[0mX\u001b[0m\u001b[0;34m,\u001b[0m \u001b[0mdtype\u001b[0m\u001b[0;34m=\u001b[0m\u001b[0mDTYPE\u001b[0m\u001b[0;34m,\u001b[0m \u001b[0morder\u001b[0m\u001b[0;34m=\u001b[0m\u001b[0;34m\"C\"\u001b[0m\u001b[0;34m,\u001b[0m \u001b[0maccept_sparse\u001b[0m\u001b[0;34m=\u001b[0m\u001b[0;34m\"csr\"\u001b[0m\u001b[0;34m,\u001b[0m \u001b[0mreset\u001b[0m\u001b[0;34m=\u001b[0m\u001b[0;32mFalse\u001b[0m\u001b[0;34m\u001b[0m\u001b[0;34m\u001b[0m\u001b[0m\n\u001b[1;32m   1879\u001b[0m         )\n",
            "\u001b[0;32m/usr/local/lib/python3.8/dist-packages/sklearn/base.py\u001b[0m in \u001b[0;36m_validate_data\u001b[0;34m(self, X, y, reset, validate_separately, **check_params)\u001b[0m\n\u001b[1;32m    564\u001b[0m             \u001b[0;32mraise\u001b[0m \u001b[0mValueError\u001b[0m\u001b[0;34m(\u001b[0m\u001b[0;34m\"Validation should be done on X, y or both.\"\u001b[0m\u001b[0;34m)\u001b[0m\u001b[0;34m\u001b[0m\u001b[0;34m\u001b[0m\u001b[0m\n\u001b[1;32m    565\u001b[0m         \u001b[0;32melif\u001b[0m \u001b[0;32mnot\u001b[0m \u001b[0mno_val_X\u001b[0m \u001b[0;32mand\u001b[0m \u001b[0mno_val_y\u001b[0m\u001b[0;34m:\u001b[0m\u001b[0;34m\u001b[0m\u001b[0;34m\u001b[0m\u001b[0m\n\u001b[0;32m--> 566\u001b[0;31m             \u001b[0mX\u001b[0m \u001b[0;34m=\u001b[0m \u001b[0mcheck_array\u001b[0m\u001b[0;34m(\u001b[0m\u001b[0mX\u001b[0m\u001b[0;34m,\u001b[0m \u001b[0;34m**\u001b[0m\u001b[0mcheck_params\u001b[0m\u001b[0;34m)\u001b[0m\u001b[0;34m\u001b[0m\u001b[0;34m\u001b[0m\u001b[0m\n\u001b[0m\u001b[1;32m    567\u001b[0m             \u001b[0mout\u001b[0m \u001b[0;34m=\u001b[0m \u001b[0mX\u001b[0m\u001b[0;34m\u001b[0m\u001b[0;34m\u001b[0m\u001b[0m\n\u001b[1;32m    568\u001b[0m         \u001b[0;32melif\u001b[0m \u001b[0mno_val_X\u001b[0m \u001b[0;32mand\u001b[0m \u001b[0;32mnot\u001b[0m \u001b[0mno_val_y\u001b[0m\u001b[0;34m:\u001b[0m\u001b[0;34m\u001b[0m\u001b[0;34m\u001b[0m\u001b[0m\n",
            "\u001b[0;32m/usr/local/lib/python3.8/dist-packages/sklearn/utils/validation.py\u001b[0m in \u001b[0;36mcheck_array\u001b[0;34m(array, accept_sparse, accept_large_sparse, dtype, order, copy, force_all_finite, ensure_2d, allow_nd, ensure_min_samples, ensure_min_features, estimator)\u001b[0m\n\u001b[1;32m    632\u001b[0m             \u001b[0;32mif\u001b[0m \u001b[0mdtype_iter\u001b[0m\u001b[0;34m.\u001b[0m\u001b[0mkind\u001b[0m \u001b[0;34m==\u001b[0m \u001b[0;34m\"b\"\u001b[0m\u001b[0;34m:\u001b[0m\u001b[0;34m\u001b[0m\u001b[0;34m\u001b[0m\u001b[0m\n\u001b[1;32m    633\u001b[0m                 \u001b[0mdtypes_orig\u001b[0m\u001b[0;34m[\u001b[0m\u001b[0mi\u001b[0m\u001b[0;34m]\u001b[0m \u001b[0;34m=\u001b[0m \u001b[0mnp\u001b[0m\u001b[0;34m.\u001b[0m\u001b[0mdtype\u001b[0m\u001b[0;34m(\u001b[0m\u001b[0mobject\u001b[0m\u001b[0;34m)\u001b[0m\u001b[0;34m\u001b[0m\u001b[0;34m\u001b[0m\u001b[0m\n\u001b[0;32m--> 634\u001b[0;31m             \u001b[0;32melif\u001b[0m \u001b[0mdtype_iter\u001b[0m\u001b[0;34m.\u001b[0m\u001b[0mname\u001b[0m\u001b[0;34m.\u001b[0m\u001b[0mstartswith\u001b[0m\u001b[0;34m(\u001b[0m\u001b[0;34m(\u001b[0m\u001b[0;34m\"Int\"\u001b[0m\u001b[0;34m,\u001b[0m \u001b[0;34m\"UInt\"\u001b[0m\u001b[0;34m)\u001b[0m\u001b[0;34m)\u001b[0m\u001b[0;34m:\u001b[0m\u001b[0;34m\u001b[0m\u001b[0;34m\u001b[0m\u001b[0m\n\u001b[0m\u001b[1;32m    635\u001b[0m                 \u001b[0;31m# name looks like an Integer Extension Array, now check for\u001b[0m\u001b[0;34m\u001b[0m\u001b[0;34m\u001b[0m\u001b[0;34m\u001b[0m\u001b[0m\n\u001b[1;32m    636\u001b[0m                 \u001b[0;31m# the dtype\u001b[0m\u001b[0;34m\u001b[0m\u001b[0;34m\u001b[0m\u001b[0;34m\u001b[0m\u001b[0m\n",
            "\u001b[0;32m/usr/local/lib/python3.8/dist-packages/numpy/core/_dtype.py\u001b[0m in \u001b[0;36m_name_get\u001b[0;34m(dtype)\u001b[0m\n\u001b[1;32m    333\u001b[0m \u001b[0;34m\u001b[0m\u001b[0m\n\u001b[1;32m    334\u001b[0m     \u001b[0;31m# append bit counts\u001b[0m\u001b[0;34m\u001b[0m\u001b[0;34m\u001b[0m\u001b[0;34m\u001b[0m\u001b[0m\n\u001b[0;32m--> 335\u001b[0;31m     \u001b[0;32mif\u001b[0m \u001b[0m_name_includes_bit_suffix\u001b[0m\u001b[0;34m(\u001b[0m\u001b[0mdtype\u001b[0m\u001b[0;34m)\u001b[0m\u001b[0;34m:\u001b[0m\u001b[0;34m\u001b[0m\u001b[0;34m\u001b[0m\u001b[0m\n\u001b[0m\u001b[1;32m    336\u001b[0m         \u001b[0mname\u001b[0m \u001b[0;34m+=\u001b[0m \u001b[0;34m\"{}\"\u001b[0m\u001b[0;34m.\u001b[0m\u001b[0mformat\u001b[0m\u001b[0;34m(\u001b[0m\u001b[0mdtype\u001b[0m\u001b[0;34m.\u001b[0m\u001b[0mitemsize\u001b[0m \u001b[0;34m*\u001b[0m \u001b[0;36m8\u001b[0m\u001b[0;34m)\u001b[0m\u001b[0;34m\u001b[0m\u001b[0;34m\u001b[0m\u001b[0m\n\u001b[1;32m    337\u001b[0m \u001b[0;34m\u001b[0m\u001b[0m\n",
            "\u001b[0;32m/usr/local/lib/python3.8/dist-packages/numpy/core/_dtype.py\u001b[0m in \u001b[0;36m_name_includes_bit_suffix\u001b[0;34m(dtype)\u001b[0m\n\u001b[1;32m    312\u001b[0m         \u001b[0;31m# implied\u001b[0m\u001b[0;34m\u001b[0m\u001b[0;34m\u001b[0m\u001b[0;34m\u001b[0m\u001b[0m\n\u001b[1;32m    313\u001b[0m         \u001b[0;32mreturn\u001b[0m \u001b[0;32mFalse\u001b[0m\u001b[0;34m\u001b[0m\u001b[0;34m\u001b[0m\u001b[0m\n\u001b[0;32m--> 314\u001b[0;31m     \u001b[0;32melif\u001b[0m \u001b[0mnp\u001b[0m\u001b[0;34m.\u001b[0m\u001b[0missubdtype\u001b[0m\u001b[0;34m(\u001b[0m\u001b[0mdtype\u001b[0m\u001b[0;34m,\u001b[0m \u001b[0mnp\u001b[0m\u001b[0;34m.\u001b[0m\u001b[0mflexible\u001b[0m\u001b[0;34m)\u001b[0m \u001b[0;32mand\u001b[0m \u001b[0m_isunsized\u001b[0m\u001b[0;34m(\u001b[0m\u001b[0mdtype\u001b[0m\u001b[0;34m)\u001b[0m\u001b[0;34m:\u001b[0m\u001b[0;34m\u001b[0m\u001b[0;34m\u001b[0m\u001b[0m\n\u001b[0m\u001b[1;32m    315\u001b[0m         \u001b[0;31m# unspecified\u001b[0m\u001b[0;34m\u001b[0m\u001b[0;34m\u001b[0m\u001b[0;34m\u001b[0m\u001b[0m\n\u001b[1;32m    316\u001b[0m         \u001b[0;32mreturn\u001b[0m \u001b[0;32mFalse\u001b[0m\u001b[0;34m\u001b[0m\u001b[0;34m\u001b[0m\u001b[0m\n",
            "\u001b[0;31mKeyboardInterrupt\u001b[0m: "
          ]
        }
      ]
    },
    {
      "cell_type": "markdown",
      "source": [
        "svm visualize"
      ],
      "metadata": {
        "id": "_N9gBg9jHyZl"
      }
    },
    {
      "cell_type": "code",
      "source": [
        "fig = plt.figure()\n",
        "fig.set_size_inches(12, 8)\n",
        "plot_svm_regression(svm_regression_y, x_train, y)\n",
        "plt.title(\"Multiple PSS SVR regression\",fontsize=16)\n",
        "plt.show()"
      ],
      "metadata": {
        "id": "vt-wDMWCMY0m"
      },
      "execution_count": null,
      "outputs": []
    },
    {
      "cell_type": "code",
      "source": [
        "fig = plt.figure()\n",
        "fig.set_size_inches(10,6)\n",
        "plt.scatter(y, y_pred_svm,alpha=0.4)\n",
        "plt.title(\"svm model\")\n",
        "plt.xlabel(\"y\")\n",
        "plt.ylabel(\"y_pred\")\n",
        "plt.show()"
      ],
      "metadata": {
        "id": "jztTx1QeNclK"
      },
      "execution_count": null,
      "outputs": []
    },
    {
      "cell_type": "code",
      "source": [
        "fig = plt.figure()\n",
        "fig.set_size_inches(12, 8)\n",
        "plot_svm_regression(svm_regression_z, x_train, z)\n",
        "plt.title(\"svm model\",fontsize=16)\n",
        "plt.show()"
      ],
      "metadata": {
        "id": "-7kg_Uyy9zEL"
      },
      "execution_count": null,
      "outputs": []
    },
    {
      "cell_type": "code",
      "source": [
        "fig = plt.figure()\n",
        "fig.set_size_inches(10,6)\n",
        "plt.scatter(z, z_pred_svm,alpha=0.4)\n",
        "plt.title(\"svm model\")\n",
        "plt.xlabel(\"Data\")\n",
        "plt.ylabel(\"z_pred\")\n",
        "plt.show()"
      ],
      "metadata": {
        "id": "B2NXYsAvPPkj"
      },
      "execution_count": null,
      "outputs": []
    },
    {
      "cell_type": "markdown",
      "source": [
        "ensemble visulalize"
      ],
      "metadata": {
        "id": "HJ4SF1omI6wB"
      }
    },
    {
      "cell_type": "code",
      "source": [
        "y_pred_ensemble = gbrt_y.predict(x_train)\n",
        "z_pred_ensemble = gbrt_z.predict(x_train)"
      ],
      "metadata": {
        "id": "C7xk0b9ZKW5x"
      },
      "execution_count": null,
      "outputs": []
    },
    {
      "cell_type": "code",
      "source": [
        "fig = plt.figure()\n",
        "fig.set_size_inches(12,8)\n",
        "plt.plot(x_train, y_pred_ensemble,\"k-\")\n",
        "plt.title(\"ensemble model\")\n",
        "plt.xlabel(\"Data\")\n",
        "plt.ylabel(\"y_pred\")\n",
        "plt.show()"
      ],
      "metadata": {
        "id": "CnMWG-XaI9-n"
      },
      "execution_count": null,
      "outputs": []
    },
    {
      "cell_type": "code",
      "source": [
        "fig = plt.figure()\n",
        "fig.set_size_inches(10,6)\n",
        "plt.scatter(y, y_pred_ensemble,alpha=0.4)\n",
        "plt.title(\"ensemble model\")\n",
        "plt.xlabel(\"y\")\n",
        "plt.ylabel(\"y_pred\")\n",
        "plt.show()"
      ],
      "metadata": {
        "id": "cacV-361J27D"
      },
      "execution_count": null,
      "outputs": []
    },
    {
      "cell_type": "code",
      "source": [
        "fig = plt.figure()\n",
        "fig.set_size_inches(12,8)\n",
        "plt.plot(x_train, z_pred_ensemble,\"k-\")\n",
        "plt.title(\"ensemble model\")\n",
        "plt.xlabel(\"Data\")\n",
        "plt.ylabel(\"z_pred\")\n",
        "plt.show()"
      ],
      "metadata": {
        "id": "YYfjuuHONLBS"
      },
      "execution_count": null,
      "outputs": []
    },
    {
      "cell_type": "code",
      "source": [
        "fig = plt.figure()\n",
        "fig.set_size_inches(10,6)\n",
        "plt.scatter(z, z_pred_ensemble,alpha=0.4)\n",
        "plt.title(\"ensemble model\")\n",
        "plt.xlabel(\"Data\")\n",
        "plt.ylabel(\"z_pred\")\n",
        "plt.show()"
      ],
      "metadata": {
        "id": "xuwNmwNGNOTl"
      },
      "execution_count": null,
      "outputs": []
    },
    {
      "cell_type": "markdown",
      "source": [
        "# column별 관계"
      ],
      "metadata": {
        "id": "0rMOT9E7SAGY"
      }
    },
    {
      "cell_type": "code",
      "source": [
        "fig = plt.figure()\n",
        "fig.set_size_inches(12, 8)\n",
        "plt.scatter(df[[\"2_Cz_Low β (334)\"]],df[['PSS(지각된 스트레스 척도)']],alpha=0.6)\n",
        "plt.show()"
      ],
      "metadata": {
        "id": "oaQgKy1Wx6rH"
      },
      "execution_count": null,
      "outputs": []
    },
    {
      "cell_type": "code",
      "source": [
        "fig = plt.figure()\n",
        "fig.set_size_inches(12, 8)\n",
        "plt.scatter(df[[\"2_Cz_Low β (334)\"]],df[['코르티솔']],alpha=0.5)\n",
        "plt.show()"
      ],
      "metadata": {
        "id": "_si43yJkyxQJ"
      },
      "execution_count": null,
      "outputs": []
    },
    {
      "cell_type": "code",
      "source": [
        "fig = plt.figure()\n",
        "fig.set_size_inches(12,8)\n",
        "plt.scatter(df[['2_Cz_θ/Low β (410)']],df[[\"PSS(지각된 스트레스 척도)\"]],alpha=0.5)\n",
        "plt.show()"
      ],
      "metadata": {
        "colab": {
          "base_uri": "https://localhost:8080/",
          "height": 483
        },
        "id": "mdH1v0WZ-sIM",
        "outputId": "a6a37ee4-1a5d-4a8a-fc40-34eb1530ac2c"
      },
      "execution_count": null,
      "outputs": [
        {
          "output_type": "display_data",
          "data": {
            "text/plain": [
              "<Figure size 864x576 with 1 Axes>"
            ],
            "image/png": "[encoded data removed]"
          },
          "metadata": {
            "needs_background": "light"
          }
        }
      ]
    },
    {
      "cell_type": "code",
      "source": [
        "fig = plt.figure()\n",
        "fig.set_size_inches(12, 8)\n",
        "plt.scatter(df[['2_Cz_θ/Low β (410)']],df[[\"코르티솔\"]],alpha=0.5)\n",
        "plt.show()"
      ],
      "metadata": {
        "colab": {
          "base_uri": "https://localhost:8080/",
          "height": 483
        },
        "id": "78xBq9y5_E_A",
        "outputId": "6ad9f367-51f0-4038-cd60-3fc45a003243"
      },
      "execution_count": null,
      "outputs": [
        {
          "output_type": "display_data",
          "data": {
            "text/plain": [
              "<Figure size 864x576 with 1 Axes>"
            ],
            "image/png": "[encoded data removed]"
          },
          "metadata": {
            "needs_background": "light"
          }
        }
      ]
    },
    {
      "cell_type": "code",
      "source": [
        "svm_regression_y.score(x_train, y) #svm preceision score"
      ],
      "metadata": {
        "colab": {
          "base_uri": "https://localhost:8080/"
        },
        "id": "D80XaVwNV88W",
        "outputId": "f34c3ac5-41b7-4210-f565-43d4f15d9069"
      },
      "execution_count": null,
      "outputs": [
        {
          "output_type": "execute_result",
          "data": {
            "text/plain": [
              "0.9979115705286146"
            ]
          },
          "metadata": {},
          "execution_count": 91
        }
      ]
    },
    {
      "cell_type": "code",
      "source": [
        "svm_regression_z.score(x_train, z) #svm precision score"
      ],
      "metadata": {
        "colab": {
          "base_uri": "https://localhost:8080/"
        },
        "id": "f6Flnn4iBMqB",
        "outputId": "1fee768b-441e-4747-840c-ae149ecf0d42"
      },
      "execution_count": null,
      "outputs": [
        {
          "output_type": "execute_result",
          "data": {
            "text/plain": [
              "0.9964574155119549"
            ]
          },
          "metadata": {},
          "execution_count": 92
        }
      ]
    },
    {
      "cell_type": "code",
      "source": [
        "gbrt_y.score(x_train,y) #ensemble score"
      ],
      "metadata": {
        "colab": {
          "base_uri": "https://localhost:8080/"
        },
        "id": "j0Jl3ML5Lfxg",
        "outputId": "ab3dbc7c-3469-47b5-da91-ad3805df8987"
      },
      "execution_count": null,
      "outputs": [
        {
          "output_type": "execute_result",
          "data": {
            "text/plain": [
              "0.9975625557304376"
            ]
          },
          "metadata": {},
          "execution_count": 80
        }
      ]
    },
    {
      "cell_type": "code",
      "source": [
        "gbrt_z.score(x_train,z)  #ensemble score"
      ],
      "metadata": {
        "colab": {
          "base_uri": "https://localhost:8080/"
        },
        "id": "oQU7JZjtOSmM",
        "outputId": "ddec6d21-8d6e-4d8d-cc50-c07688277011"
      },
      "execution_count": null,
      "outputs": [
        {
          "output_type": "execute_result",
          "data": {
            "text/plain": [
              "0.9969003420259187"
            ]
          },
          "metadata": {},
          "execution_count": 81
        }
      ]
    },
    {
      "cell_type": "markdown",
      "source": [
        "# Test about 2_Cz_θ/Low β (410)"
      ],
      "metadata": {
        "id": "4APpWms7ux6Q"
      }
    },
    {
      "cell_type": "code",
      "source": [
        "x_train_2 =df[['2_Cz_θ/Low β (410)']]\n",
        "y_2=y"
      ],
      "metadata": {
        "id": "gF-BHt-nwFv2"
      },
      "execution_count": 49,
      "outputs": []
    },
    {
      "cell_type": "code",
      "source": [
        "x_train_2.drop([169], axis=0, inplace=True)\n",
        "y_2.drop([169],axis=0 , inplace=True)"
      ],
      "metadata": {
        "colab": {
          "base_uri": "https://localhost:8080/"
        },
        "id": "WVqANbBh8O8C",
        "outputId": "9ab739d5-e331-43a9-ee3e-ec4404b76177"
      },
      "execution_count": 32,
      "outputs": [
        {
          "output_type": "stream",
          "name": "stderr",
          "text": [
            "/usr/local/lib/python3.8/dist-packages/pandas/core/frame.py:4906: SettingWithCopyWarning: \n",
            "A value is trying to be set on a copy of a slice from a DataFrame\n",
            "\n",
            "See the caveats in the documentation: https://pandas.pydata.org/pandas-docs/stable/user_guide/indexing.html#returning-a-view-versus-a-copy\n",
            "  return super().drop(\n"
          ]
        }
      ]
    },
    {
      "cell_type": "code",
      "source": [
        "x_train_2.max()"
      ],
      "metadata": {
        "colab": {
          "base_uri": "https://localhost:8080/"
        },
        "id": "XS-xigz79Bxc",
        "outputId": "abe35fce-6506-431e-9ac7-f3ec22c57cd2"
      },
      "execution_count": 26,
      "outputs": [
        {
          "output_type": "execute_result",
          "data": {
            "text/plain": [
              "2_Cz_θ/Low β (410)    6.455087\n",
              "dtype: float64"
            ]
          },
          "metadata": {},
          "execution_count": 26
        }
      ]
    },
    {
      "cell_type": "code",
      "source": [
        "gbrt_2 = GradientBoostingRegressor(max_depth=10, n_estimators=300, learning_rate=1e-2, random_state=42)\n",
        "gbrt_2.fit(x_train_2,y_2)"
      ],
      "metadata": {
        "colab": {
          "base_uri": "https://localhost:8080/"
        },
        "id": "1wWvk87Auw7D",
        "outputId": "21749910-0244-4711-f4c0-c509fa4d2744"
      },
      "execution_count": 33,
      "outputs": [
        {
          "output_type": "execute_result",
          "data": {
            "text/plain": [
              "GradientBoostingRegressor(learning_rate=0.01, max_depth=10, n_estimators=300,\n",
              "                          random_state=42)"
            ]
          },
          "metadata": {},
          "execution_count": 33
        }
      ]
    },
    {
      "cell_type": "code",
      "source": [
        "mse_2=mean_squared_error(y,gbrt_2.predict(x_train_2))\n",
        "print(\"The mean squared error (MSE) on test set: {:.4f}\".format(mse_2))"
      ],
      "metadata": {
        "colab": {
          "base_uri": "https://localhost:8080/"
        },
        "id": "Tk3mfcysvKqd",
        "outputId": "05eb79aa-5b93-42bc-ddaf-ef36b49647db"
      },
      "execution_count": 34,
      "outputs": [
        {
          "output_type": "stream",
          "name": "stdout",
          "text": [
            "The mean squared error (MSE) on test set: 0.0064\n"
          ]
        }
      ]
    },
    {
      "cell_type": "code",
      "source": [
        "print('y_pred_ensemble :', gbrt_2.predict(x_train_2)) #ensemble model"
      ],
      "metadata": {
        "colab": {
          "base_uri": "https://localhost:8080/"
        },
        "id": "ElMHjjDHvVqO",
        "outputId": "828f8851-508a-4f34-8ad2-5696eb2ecf53"
      },
      "execution_count": 35,
      "outputs": [
        {
          "output_type": "stream",
          "name": "stdout",
          "text": [
            "y_pred_ensemble : [0.39239484 0.43709136 0.55974779 0.41075316 0.4085692  0.76712657\n",
            " 0.55887072 0.39697997 0.47692258 0.4585103  0.3378518  0.4573269\n",
            " 0.80471514 0.76374107 0.3382538  0.06718188 0.3929992  0.64925644\n",
            " 0.55887072 0.53710878 0.4347897  0.24719599 0.48113015 0.54649867\n",
            " 0.593889   0.23621689 0.16792038 0.27564972 0.47317406 0.51789665\n",
            " 0.51789665 0.34256132 0.43205106 0.34878817 0.72160713 0.76374107\n",
            " 0.44407344 0.43887962 0.43534288 0.43786661 0.43509964 0.2824793\n",
            " 0.28638336 0.18066002 0.23414307 0.21646541 0.16983219 0.42650169\n",
            " 0.33562092 0.49049022 0.49697662 0.42845027 0.53092188 0.33954804\n",
            " 0.37212308 0.45585763 0.39798409 0.49465659 0.51789665 0.56308267\n",
            " 0.39798409 0.41305419 0.39534158 0.46212656 0.51789665 0.44845716\n",
            " 0.51132023 0.48390152 0.71741273 0.84568921 0.5341226  0.59984479\n",
            " 0.41365799 0.48753391 0.47961139 0.44407344 0.13538736 0.32157743\n",
            " 0.16833293 0.44130701 0.54725911 0.68391202 0.75136887 0.444738\n",
            " 0.5424806  0.46212656 0.33534674 0.50081922 0.64081886 0.63468512\n",
            " 0.722767   0.6962399  0.35928821 0.19010409 0.36094322 0.36272357\n",
            " 0.48154161 0.44417106 0.36801081 0.25950113 0.40416942 0.45878787\n",
            " 0.44151411 0.39497444 0.50141663 0.3750985  0.23294432 0.46217469\n",
            " 0.45517123 0.41609588 0.39798409 0.48238595 0.59984479 0.45866642\n",
            " 0.80471514 0.63392264 0.5196738  0.92763735 0.96861142 0.43786661\n",
            " 0.35766183 0.39305605 0.3194345  0.2994369  0.08979946 0.14700946\n",
            " 0.46403618 0.51756449 0.41863413 0.44614738 0.52519025 0.47831919\n",
            " 0.46060864 0.505619   0.49856707 0.59984479 0.47692258 0.39720096\n",
            " 0.44973387 0.2700328  0.25950113 0.49923872 0.4585103  0.40802789\n",
            " 0.48753391 0.47692258 0.49301309 0.42515211 0.45956674 0.25066562\n",
            " 0.31752295 0.54689802 0.56940321 0.61266926 0.35400037 0.25532255\n",
            " 0.25066562 0.34375595 0.28758044 0.32632126 0.4158499  0.48782803\n",
            " 0.46217469 0.42233928 0.44380213 0.39534158 0.32236661 0.23230007\n",
            " 0.84568921 0.92763735 0.722767   0.45099961 0.47692258 0.64499508\n",
            " 0.6969639  0.61396655 0.23086636 0.29376178 0.26597997]\n"
          ]
        }
      ]
    },
    {
      "cell_type": "code",
      "source": [
        "y_pred_2=gbrt_2.predict(x_train_2)"
      ],
      "metadata": {
        "id": "1dgveUbQvqrG"
      },
      "execution_count": 36,
      "outputs": []
    },
    {
      "cell_type": "code",
      "source": [
        "gbrt_2.score(x_train_2,y)"
      ],
      "metadata": {
        "colab": {
          "base_uri": "https://localhost:8080/"
        },
        "id": "zI7Pb4ZbxIol",
        "outputId": "57e00b10-859c-43d6-bd09-c407a1eee2a0"
      },
      "execution_count": 37,
      "outputs": [
        {
          "output_type": "execute_result",
          "data": {
            "text/plain": [
              "0.8647179961309089"
            ]
          },
          "metadata": {},
          "execution_count": 37
        }
      ]
    },
    {
      "cell_type": "code",
      "source": [
        "fig = plt.figure()\n",
        "fig.set_size_inches(10,6)\n",
        "plt.scatter(x_train_2, y,alpha=0.4)\n",
        "plt.title(\"gbrt model\")\n",
        "plt.xlabel(\"Data\")\n",
        "plt.ylabel(\"y_pred\")\n",
        "plt.show()"
      ],
      "metadata": {
        "colab": {
          "base_uri": "https://localhost:8080/",
          "height": 404
        },
        "id": "8g_MFweUvf7X",
        "outputId": "4277453d-f812-4c4a-ea85-441c77c3a93d"
      },
      "execution_count": 38,
      "outputs": [
        {
          "output_type": "display_data",
          "data": {
            "text/plain": [
              "<Figure size 720x432 with 1 Axes>"
            ],
            "image/png": "[encoded data removed]"
          },
          "metadata": {
            "needs_background": "light"
          }
        }
      ]
    },
    {
      "cell_type": "code",
      "source": [
        "def plot_predictions(regressors, X, y, label=None, style=\"r-\", data_style=\"b.\", data_label=None):\n",
        " \n",
        "    y_pred = sum(regressor.predict(X) for regressor in regressors)\n",
        "    plt.plot(X, y, data_style, label=data_label)\n",
        "    plt.plot(X, y_pred, style, linewidth=2, label=label)\n",
        "    if label or data_label:\n",
        "        plt.legend(loc=\"upper center\", fontsize=16)"
      ],
      "metadata": {
        "id": "9eoFm6em422_"
      },
      "execution_count": 39,
      "outputs": []
    },
    {
      "cell_type": "code",
      "source": [
        "plt.figure(figsize=(12,8))\n",
        "plt.subplot(121)\n",
        "plot_predictions([gbrt_2],x_train_2,y,label='ensemble prediction')"
      ],
      "metadata": {
        "id": "YsSB3Xrb42VL",
        "outputId": "0ed586f9-dbfb-4b16-dbc8-a312481d6b1d",
        "colab": {
          "base_uri": "https://localhost:8080/",
          "height": 483
        }
      },
      "execution_count": 40,
      "outputs": [
        {
          "output_type": "display_data",
          "data": {
            "text/plain": [
              "<Figure size 864x576 with 1 Axes>"
            ],
            "image/png": "[encoded data removed]"
          },
          "metadata": {
            "needs_background": "light"
          }
        }
      ]
    }
  ]
}