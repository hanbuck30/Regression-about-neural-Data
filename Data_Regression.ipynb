{
  "nbformat": 4,
  "nbformat_minor": 0,
  "metadata": {
    "colab": {
      "provenance": [],
      "authorship_tag": "ABX9TyOarXHtO2ffgmgea4agKC+D",
      "include_colab_link": true
    },
    "kernelspec": {
      "name": "python3",
      "display_name": "Python 3"
    },
    "language_info": {
      "name": "python"
    },
    "accelerator": "GPU",
    "gpuClass": "standard"
  },
  "cells": [
    {
      "cell_type": "markdown",
      "metadata": {
        "id": "view-in-github",
        "colab_type": "text"
      },
      "source": [
        "<a href=\"https://colab.research.google.com/github/hanbuck30/myrepo/blob/main/Data_Regression.ipynb\" target=\"_parent\"><img src=\"https://colab.research.google.com/assets/colab-badge.svg\" alt=\"Open In Colab\"/></a>"
      ]
    },
    {
      "cell_type": "code",
      "execution_count": 1,
      "metadata": {
        "id": "MJHzOBPF4Av8"
      },
      "outputs": [],
      "source": [
        "from sklearn import svm\n",
        "from sklearn.ensemble import GradientBoostingRegressor\n",
        "from sklearn.metrics import mean_squared_error\n",
        "from sklearn.model_selection import cross_val_score\n",
        "from sklearn.decomposition import PCA\n",
        "from sklearn.preprocessing import StandardScaler\n",
        "import pandas as pd\n",
        "import numpy as np\n",
        "import matplotlib.pyplot as plt"
      ]
    },
    {
      "cell_type": "markdown",
      "source": [
        "## Dataset 준비"
      ],
      "metadata": {
        "id": "ukH-n2ocHlfQ"
      }
    },
    {
      "cell_type": "code",
      "source": [
        "df=pd.read_csv(\"Data.csv\",encoding='CP949')\n",
        "df"
      ],
      "metadata": {
        "colab": {
          "base_uri": "https://localhost:8080/"
        },
        "id": "dYYnVkBf4vPJ",
        "outputId": "60c4971a-79c0-44ba-a5b3-8375b6185850"
      },
      "execution_count": null,
      "outputs": [
        {
          "output_type": "execute_result",
          "data": {
            "text/plain": [
              "     PSS(지각된 스트레스 척도)   코르티솔  심박수  산소포화도  심박변이   0_Fp1_δ (0)   0_Fp2_δ (1)  \\\n",
              "0                  16  0.088   83     97    31  1.260000e-12  7.450000e-13   \n",
              "1                  18  0.171   72     98    37  2.100000e-13  3.350000e-13   \n",
              "2                  26  0.122   92     97    24  2.230000e-40  9.940000e-41   \n",
              "3                  17  0.124   76     97    45  1.010000e-13  4.240000e-14   \n",
              "4                  15  0.128   75     48    38  9.830000e-16  9.980000e-15   \n",
              "..                ...    ...  ...    ...   ...           ...           ...   \n",
              "175                27  0.112   85     98    32  2.770000e-14  8.590000e-14   \n",
              "176                23  0.134   92     98    14  4.570000e-14  1.400000e-13   \n",
              "177                10  0.151   68     98    41  5.440000e-42  4.330000e-42   \n",
              "178                10  0.107   83     98    31  6.060000e-13  2.660000e-13   \n",
              "179                12  0.182   74     98    38  1.920000e-13  4.000000e-15   \n",
              "\n",
              "       0_F3_δ (2)    0_F4_δ (3)    0_F7_δ (4)  ...  3_T7_Alpha Peak_w (712)  \\\n",
              "0    4.130000e-14  5.580000e-13  2.570000e-13  ...                    -4.35   \n",
              "1    4.840000e-14  2.730000e-14  2.280000e-15  ...                     0.40   \n",
              "2    7.800000e-42  1.470000e-41  5.450000e-41  ...                    -2.95   \n",
              "3    5.350000e-13  3.600000e-13  5.650000e-14  ...                     0.90   \n",
              "4    3.030000e-13  6.670000e-14  7.040000e-15  ...                     0.00   \n",
              "..            ...           ...           ...  ...                      ...   \n",
              "175  1.760000e-13  5.310000e-15  9.760000e-13  ...                     7.90   \n",
              "176  1.630000e-14  4.280000e-14  1.480000e-13  ...                     0.45   \n",
              "177  4.980000e-40  5.050000e-40  4.560000e-41  ...                    -0.60   \n",
              "178  4.220000e-13  1.460000e-14  1.890000e-14  ...                    -4.10   \n",
              "179  2.680000e-13  3.430000e-13  3.490000e-13  ...                    -0.35   \n",
              "\n",
              "     3_T8_Alpha Peak_w (713)  3_Cz_Alpha Peak_w (714)  \\\n",
              "0                      -3.35                    -3.40   \n",
              "1                       4.15                    -3.80   \n",
              "2                      -3.15                    -3.00   \n",
              "3                       2.00                     0.95   \n",
              "4                      -0.25                    -0.20   \n",
              "..                       ...                      ...   \n",
              "175                     3.90                    -0.05   \n",
              "176                    -2.75                    -3.35   \n",
              "177                    -0.60                    -2.85   \n",
              "178                    -2.10                     2.35   \n",
              "179                    -0.35                    -0.45   \n",
              "\n",
              "     3_P3_Alpha Peak_w (715)  3_P4_Alpha Peak_w (716)  \\\n",
              "0                      -4.35                    -3.45   \n",
              "1                      -0.30                     3.20   \n",
              "2                      -2.85                    -2.80   \n",
              "3                      -0.25                     1.90   \n",
              "4                       0.00                     2.85   \n",
              "..                       ...                      ...   \n",
              "175                     4.00                     0.00   \n",
              "176                    -3.15                     1.10   \n",
              "177                    -0.60                    -2.85   \n",
              "178                    -2.25                     0.40   \n",
              "179                    -0.35                    -0.40   \n",
              "\n",
              "     3_P7_Alpha Peak_w (717)  3_P8_Alpha Peak_w (718)  \\\n",
              "0                      -3.40                    -4.25   \n",
              "1                       0.15                     3.60   \n",
              "2                      -3.10                    -2.85   \n",
              "3                      -0.20                     1.70   \n",
              "4                       0.00                    -0.25   \n",
              "..                       ...                      ...   \n",
              "175                     3.60                     3.65   \n",
              "176                     0.55                    -0.10   \n",
              "177                    -3.45                    -3.60   \n",
              "178                     2.40                    -0.50   \n",
              "179                    -0.35                    -0.30   \n",
              "\n",
              "     3_Pz_Alpha Peak_w (719)  3_O1_Alpha Peak_w (720)  3_O2_Alpha Peak_w (721)  \n",
              "0                      -4.35                    -3.40                    -3.45  \n",
              "1                       0.50                     3.20                     2.90  \n",
              "2                      -2.85                    -2.65                    -2.75  \n",
              "3                       1.80                    -0.15                    -0.20  \n",
              "4                      -0.15                    -0.10                     0.00  \n",
              "..                       ...                      ...                      ...  \n",
              "175                     4.45                     3.80                     3.70  \n",
              "176                     0.65                     0.60                     1.20  \n",
              "177                    -0.60                    -2.80                    -2.80  \n",
              "178                    -0.45                     2.50                     2.35  \n",
              "179                    -0.40                    -0.40                    -0.30  \n",
              "\n",
              "[180 rows x 3805 columns]"
            ],
            "text/html": [
              "\n",
              "  <div id=\"df-ad50667d-aafa-40be-93ff-b4398af544dc\">\n",
              "    <div class=\"colab-df-container\">\n",
              "      <div>\n",
              "<style scoped>\n",
              "    .dataframe tbody tr th:only-of-type {\n",
              "        vertical-align: middle;\n",
              "    }\n",
              "\n",
              "    .dataframe tbody tr th {\n",
              "        vertical-align: top;\n",
              "    }\n",
              "\n",
              "    .dataframe thead th {\n",
              "        text-align: right;\n",
              "    }\n",
              "</style>\n",
              "<table border=\"1\" class=\"dataframe\">\n",
              "  <thead>\n",
              "    <tr style=\"text-align: right;\">\n",
              "      <th></th>\n",
              "      <th>PSS(지각된 스트레스 척도)</th>\n",
              "      <th>코르티솔</th>\n",
              "      <th>심박수</th>\n",
              "      <th>산소포화도</th>\n",
              "      <th>심박변이</th>\n",
              "      <th>0_Fp1_δ (0)</th>\n",
              "      <th>0_Fp2_δ (1)</th>\n",
              "      <th>0_F3_δ (2)</th>\n",
              "      <th>0_F4_δ (3)</th>\n",
              "      <th>0_F7_δ (4)</th>\n",
              "      <th>...</th>\n",
              "      <th>3_T7_Alpha Peak_w (712)</th>\n",
              "      <th>3_T8_Alpha Peak_w (713)</th>\n",
              "      <th>3_Cz_Alpha Peak_w (714)</th>\n",
              "      <th>3_P3_Alpha Peak_w (715)</th>\n",
              "      <th>3_P4_Alpha Peak_w (716)</th>\n",
              "      <th>3_P7_Alpha Peak_w (717)</th>\n",
              "      <th>3_P8_Alpha Peak_w (718)</th>\n",
              "      <th>3_Pz_Alpha Peak_w (719)</th>\n",
              "      <th>3_O1_Alpha Peak_w (720)</th>\n",
              "      <th>3_O2_Alpha Peak_w (721)</th>\n",
              "    </tr>\n",
              "  </thead>\n",
              "  <tbody>\n",
              "    <tr>\n",
              "      <th>0</th>\n",
              "      <td>16</td>\n",
              "      <td>0.088</td>\n",
              "      <td>83</td>\n",
              "      <td>97</td>\n",
              "      <td>31</td>\n",
              "      <td>1.260000e-12</td>\n",
              "      <td>7.450000e-13</td>\n",
              "      <td>4.130000e-14</td>\n",
              "      <td>5.580000e-13</td>\n",
              "      <td>2.570000e-13</td>\n",
              "      <td>...</td>\n",
              "      <td>-4.35</td>\n",
              "      <td>-3.35</td>\n",
              "      <td>-3.40</td>\n",
              "      <td>-4.35</td>\n",
              "      <td>-3.45</td>\n",
              "      <td>-3.40</td>\n",
              "      <td>-4.25</td>\n",
              "      <td>-4.35</td>\n",
              "      <td>-3.40</td>\n",
              "      <td>-3.45</td>\n",
              "    </tr>\n",
              "    <tr>\n",
              "      <th>1</th>\n",
              "      <td>18</td>\n",
              "      <td>0.171</td>\n",
              "      <td>72</td>\n",
              "      <td>98</td>\n",
              "      <td>37</td>\n",
              "      <td>2.100000e-13</td>\n",
              "      <td>3.350000e-13</td>\n",
              "      <td>4.840000e-14</td>\n",
              "      <td>2.730000e-14</td>\n",
              "      <td>2.280000e-15</td>\n",
              "      <td>...</td>\n",
              "      <td>0.40</td>\n",
              "      <td>4.15</td>\n",
              "      <td>-3.80</td>\n",
              "      <td>-0.30</td>\n",
              "      <td>3.20</td>\n",
              "      <td>0.15</td>\n",
              "      <td>3.60</td>\n",
              "      <td>0.50</td>\n",
              "      <td>3.20</td>\n",
              "      <td>2.90</td>\n",
              "    </tr>\n",
              "    <tr>\n",
              "      <th>2</th>\n",
              "      <td>26</td>\n",
              "      <td>0.122</td>\n",
              "      <td>92</td>\n",
              "      <td>97</td>\n",
              "      <td>24</td>\n",
              "      <td>2.230000e-40</td>\n",
              "      <td>9.940000e-41</td>\n",
              "      <td>7.800000e-42</td>\n",
              "      <td>1.470000e-41</td>\n",
              "      <td>5.450000e-41</td>\n",
              "      <td>...</td>\n",
              "      <td>-2.95</td>\n",
              "      <td>-3.15</td>\n",
              "      <td>-3.00</td>\n",
              "      <td>-2.85</td>\n",
              "      <td>-2.80</td>\n",
              "      <td>-3.10</td>\n",
              "      <td>-2.85</td>\n",
              "      <td>-2.85</td>\n",
              "      <td>-2.65</td>\n",
              "      <td>-2.75</td>\n",
              "    </tr>\n",
              "    <tr>\n",
              "      <th>3</th>\n",
              "      <td>17</td>\n",
              "      <td>0.124</td>\n",
              "      <td>76</td>\n",
              "      <td>97</td>\n",
              "      <td>45</td>\n",
              "      <td>1.010000e-13</td>\n",
              "      <td>4.240000e-14</td>\n",
              "      <td>5.350000e-13</td>\n",
              "      <td>3.600000e-13</td>\n",
              "      <td>5.650000e-14</td>\n",
              "      <td>...</td>\n",
              "      <td>0.90</td>\n",
              "      <td>2.00</td>\n",
              "      <td>0.95</td>\n",
              "      <td>-0.25</td>\n",
              "      <td>1.90</td>\n",
              "      <td>-0.20</td>\n",
              "      <td>1.70</td>\n",
              "      <td>1.80</td>\n",
              "      <td>-0.15</td>\n",
              "      <td>-0.20</td>\n",
              "    </tr>\n",
              "    <tr>\n",
              "      <th>4</th>\n",
              "      <td>15</td>\n",
              "      <td>0.128</td>\n",
              "      <td>75</td>\n",
              "      <td>48</td>\n",
              "      <td>38</td>\n",
              "      <td>9.830000e-16</td>\n",
              "      <td>9.980000e-15</td>\n",
              "      <td>3.030000e-13</td>\n",
              "      <td>6.670000e-14</td>\n",
              "      <td>7.040000e-15</td>\n",
              "      <td>...</td>\n",
              "      <td>0.00</td>\n",
              "      <td>-0.25</td>\n",
              "      <td>-0.20</td>\n",
              "      <td>0.00</td>\n",
              "      <td>2.85</td>\n",
              "      <td>0.00</td>\n",
              "      <td>-0.25</td>\n",
              "      <td>-0.15</td>\n",
              "      <td>-0.10</td>\n",
              "      <td>0.00</td>\n",
              "    </tr>\n",
              "    <tr>\n",
              "      <th>...</th>\n",
              "      <td>...</td>\n",
              "      <td>...</td>\n",
              "      <td>...</td>\n",
              "      <td>...</td>\n",
              "      <td>...</td>\n",
              "      <td>...</td>\n",
              "      <td>...</td>\n",
              "      <td>...</td>\n",
              "      <td>...</td>\n",
              "      <td>...</td>\n",
              "      <td>...</td>\n",
              "      <td>...</td>\n",
              "      <td>...</td>\n",
              "      <td>...</td>\n",
              "      <td>...</td>\n",
              "      <td>...</td>\n",
              "      <td>...</td>\n",
              "      <td>...</td>\n",
              "      <td>...</td>\n",
              "      <td>...</td>\n",
              "      <td>...</td>\n",
              "    </tr>\n",
              "    <tr>\n",
              "      <th>175</th>\n",
              "      <td>27</td>\n",
              "      <td>0.112</td>\n",
              "      <td>85</td>\n",
              "      <td>98</td>\n",
              "      <td>32</td>\n",
              "      <td>2.770000e-14</td>\n",
              "      <td>8.590000e-14</td>\n",
              "      <td>1.760000e-13</td>\n",
              "      <td>5.310000e-15</td>\n",
              "      <td>9.760000e-13</td>\n",
              "      <td>...</td>\n",
              "      <td>7.90</td>\n",
              "      <td>3.90</td>\n",
              "      <td>-0.05</td>\n",
              "      <td>4.00</td>\n",
              "      <td>0.00</td>\n",
              "      <td>3.60</td>\n",
              "      <td>3.65</td>\n",
              "      <td>4.45</td>\n",
              "      <td>3.80</td>\n",
              "      <td>3.70</td>\n",
              "    </tr>\n",
              "    <tr>\n",
              "      <th>176</th>\n",
              "      <td>23</td>\n",
              "      <td>0.134</td>\n",
              "      <td>92</td>\n",
              "      <td>98</td>\n",
              "      <td>14</td>\n",
              "      <td>4.570000e-14</td>\n",
              "      <td>1.400000e-13</td>\n",
              "      <td>1.630000e-14</td>\n",
              "      <td>4.280000e-14</td>\n",
              "      <td>1.480000e-13</td>\n",
              "      <td>...</td>\n",
              "      <td>0.45</td>\n",
              "      <td>-2.75</td>\n",
              "      <td>-3.35</td>\n",
              "      <td>-3.15</td>\n",
              "      <td>1.10</td>\n",
              "      <td>0.55</td>\n",
              "      <td>-0.10</td>\n",
              "      <td>0.65</td>\n",
              "      <td>0.60</td>\n",
              "      <td>1.20</td>\n",
              "    </tr>\n",
              "    <tr>\n",
              "      <th>177</th>\n",
              "      <td>10</td>\n",
              "      <td>0.151</td>\n",
              "      <td>68</td>\n",
              "      <td>98</td>\n",
              "      <td>41</td>\n",
              "      <td>5.440000e-42</td>\n",
              "      <td>4.330000e-42</td>\n",
              "      <td>4.980000e-40</td>\n",
              "      <td>5.050000e-40</td>\n",
              "      <td>4.560000e-41</td>\n",
              "      <td>...</td>\n",
              "      <td>-0.60</td>\n",
              "      <td>-0.60</td>\n",
              "      <td>-2.85</td>\n",
              "      <td>-0.60</td>\n",
              "      <td>-2.85</td>\n",
              "      <td>-3.45</td>\n",
              "      <td>-3.60</td>\n",
              "      <td>-0.60</td>\n",
              "      <td>-2.80</td>\n",
              "      <td>-2.80</td>\n",
              "    </tr>\n",
              "    <tr>\n",
              "      <th>178</th>\n",
              "      <td>10</td>\n",
              "      <td>0.107</td>\n",
              "      <td>83</td>\n",
              "      <td>98</td>\n",
              "      <td>31</td>\n",
              "      <td>6.060000e-13</td>\n",
              "      <td>2.660000e-13</td>\n",
              "      <td>4.220000e-13</td>\n",
              "      <td>1.460000e-14</td>\n",
              "      <td>1.890000e-14</td>\n",
              "      <td>...</td>\n",
              "      <td>-4.10</td>\n",
              "      <td>-2.10</td>\n",
              "      <td>2.35</td>\n",
              "      <td>-2.25</td>\n",
              "      <td>0.40</td>\n",
              "      <td>2.40</td>\n",
              "      <td>-0.50</td>\n",
              "      <td>-0.45</td>\n",
              "      <td>2.50</td>\n",
              "      <td>2.35</td>\n",
              "    </tr>\n",
              "    <tr>\n",
              "      <th>179</th>\n",
              "      <td>12</td>\n",
              "      <td>0.182</td>\n",
              "      <td>74</td>\n",
              "      <td>98</td>\n",
              "      <td>38</td>\n",
              "      <td>1.920000e-13</td>\n",
              "      <td>4.000000e-15</td>\n",
              "      <td>2.680000e-13</td>\n",
              "      <td>3.430000e-13</td>\n",
              "      <td>3.490000e-13</td>\n",
              "      <td>...</td>\n",
              "      <td>-0.35</td>\n",
              "      <td>-0.35</td>\n",
              "      <td>-0.45</td>\n",
              "      <td>-0.35</td>\n",
              "      <td>-0.40</td>\n",
              "      <td>-0.35</td>\n",
              "      <td>-0.30</td>\n",
              "      <td>-0.40</td>\n",
              "      <td>-0.40</td>\n",
              "      <td>-0.30</td>\n",
              "    </tr>\n",
              "  </tbody>\n",
              "</table>\n",
              "<p>180 rows × 3805 columns</p>\n",
              "</div>\n",
              "      <button class=\"colab-df-convert\" onclick=\"convertToInteractive('df-ad50667d-aafa-40be-93ff-b4398af544dc')\"\n",
              "              title=\"Convert this dataframe to an interactive table.\"\n",
              "              style=\"display:none;\">\n",
              "        \n",
              "  <svg xmlns=\"http://www.w3.org/2000/svg\" height=\"24px\"viewBox=\"0 0 24 24\"\n",
              "       width=\"24px\">\n",
              "    <path d=\"M0 0h24v24H0V0z\" fill=\"none\"/>\n",
              "    <path d=\"M18.56 5.44l.94 2.06.94-2.06 2.06-.94-2.06-.94-.94-2.06-.94 2.06-2.06.94zm-11 1L8.5 8.5l.94-2.06 2.06-.94-2.06-.94L8.5 2.5l-.94 2.06-2.06.94zm10 10l.94 2.06.94-2.06 2.06-.94-2.06-.94-.94-2.06-.94 2.06-2.06.94z\"/><path d=\"M17.41 7.96l-1.37-1.37c-.4-.4-.92-.59-1.43-.59-.52 0-1.04.2-1.43.59L10.3 9.45l-7.72 7.72c-.78.78-.78 2.05 0 2.83L4 21.41c.39.39.9.59 1.41.59.51 0 1.02-.2 1.41-.59l7.78-7.78 2.81-2.81c.8-.78.8-2.07 0-2.86zM5.41 20L4 18.59l7.72-7.72 1.47 1.35L5.41 20z\"/>\n",
              "  </svg>\n",
              "      </button>\n",
              "      \n",
              "  <style>\n",
              "    .colab-df-container {\n",
              "      display:flex;\n",
              "      flex-wrap:wrap;\n",
              "      gap: 12px;\n",
              "    }\n",
              "\n",
              "    .colab-df-convert {\n",
              "      background-color: #E8F0FE;\n",
              "      border: none;\n",
              "      border-radius: 50%;\n",
              "      cursor: pointer;\n",
              "      display: none;\n",
              "      fill: #1967D2;\n",
              "      height: 32px;\n",
              "      padding: 0 0 0 0;\n",
              "      width: 32px;\n",
              "    }\n",
              "\n",
              "    .colab-df-convert:hover {\n",
              "      background-color: #E2EBFA;\n",
              "      box-shadow: 0px 1px 2px rgba(60, 64, 67, 0.3), 0px 1px 3px 1px rgba(60, 64, 67, 0.15);\n",
              "      fill: #174EA6;\n",
              "    }\n",
              "\n",
              "    [theme=dark] .colab-df-convert {\n",
              "      background-color: #3B4455;\n",
              "      fill: #D2E3FC;\n",
              "    }\n",
              "\n",
              "    [theme=dark] .colab-df-convert:hover {\n",
              "      background-color: #434B5C;\n",
              "      box-shadow: 0px 1px 3px 1px rgba(0, 0, 0, 0.15);\n",
              "      filter: drop-shadow(0px 1px 2px rgba(0, 0, 0, 0.3));\n",
              "      fill: #FFFFFF;\n",
              "    }\n",
              "  </style>\n",
              "\n",
              "      <script>\n",
              "        const buttonEl =\n",
              "          document.querySelector('#df-ad50667d-aafa-40be-93ff-b4398af544dc button.colab-df-convert');\n",
              "        buttonEl.style.display =\n",
              "          google.colab.kernel.accessAllowed ? 'block' : 'none';\n",
              "\n",
              "        async function convertToInteractive(key) {\n",
              "          const element = document.querySelector('#df-ad50667d-aafa-40be-93ff-b4398af544dc');\n",
              "          const dataTable =\n",
              "            await google.colab.kernel.invokeFunction('convertToInteractive',\n",
              "                                                     [key], {});\n",
              "          if (!dataTable) return;\n",
              "\n",
              "          const docLinkHtml = 'Like what you see? Visit the ' +\n",
              "            '<a target=\"_blank\" href=https://colab.research.google.com/notebooks/data_table.ipynb>data table notebook</a>'\n",
              "            + ' to learn more about interactive tables.';\n",
              "          element.innerHTML = '';\n",
              "          dataTable['output_type'] = 'display_data';\n",
              "          await google.colab.output.renderOutput(dataTable, element);\n",
              "          const docLink = document.createElement('div');\n",
              "          docLink.innerHTML = docLinkHtml;\n",
              "          element.appendChild(docLink);\n",
              "        }\n",
              "      </script>\n",
              "    </div>\n",
              "  </div>\n",
              "  "
            ]
          },
          "metadata": {},
          "execution_count": 286
        }
      ]
    },
    {
      "cell_type": "code",
      "source": [
        "df.describe()"
      ],
      "metadata": {
        "colab": {
          "base_uri": "https://localhost:8080/"
        },
        "id": "uG95vj6-MLgp",
        "outputId": "68e17d67-6b37-451b-bded-59804345fc33"
      },
      "execution_count": null,
      "outputs": [
        {
          "output_type": "execute_result",
          "data": {
            "text/plain": [
              "       PSS(지각된 스트레스 척도)        코르티솔         심박수       산소포화도        심박변이  \\\n",
              "count        180.000000  180.000000  180.000000  180.000000  180.000000   \n",
              "mean          18.494444    0.137839   74.672222   97.600000   34.411111   \n",
              "std            5.051132    0.086779   11.489043    3.736577    8.436943   \n",
              "min            8.000000    0.020000   39.000000   48.000000   14.000000   \n",
              "25%           15.000000    0.083750   67.000000   98.000000   30.000000   \n",
              "50%           19.000000    0.116500   74.000000   98.000000   34.000000   \n",
              "75%           21.250000    0.171000   83.000000   98.000000   38.000000   \n",
              "max           31.000000    0.538000  108.000000   99.000000   81.000000   \n",
              "\n",
              "        0_Fp1_δ (0)   0_Fp2_δ (1)    0_F3_δ (2)    0_F4_δ (3)    0_F7_δ (4)  \\\n",
              "count  1.800000e+02  1.800000e+02  1.800000e+02  1.800000e+02  1.800000e+02   \n",
              "mean   5.757650e-12  3.723047e-12  5.163789e-12  3.793818e-12  2.020830e-12   \n",
              "std    5.569867e-11  2.031909e-11  5.131491e-11  2.667421e-11  9.716337e-12   \n",
              "min    2.940000e-43  3.050000e-43  2.950000e-43  3.040000e-43  2.970000e-43   \n",
              "25%    3.292500e-16  2.142500e-15  3.987500e-16  2.725000e-15  6.190000e-16   \n",
              "50%    4.795000e-14  1.510000e-13  7.345000e-14  1.185000e-13  4.570000e-14   \n",
              "75%    4.610000e-13  5.922500e-13  5.687500e-13  9.127500e-13  4.515000e-13   \n",
              "max    7.420000e-10  2.160000e-10  6.850000e-10  3.500000e-10  1.070000e-10   \n",
              "\n",
              "       ...  3_T7_Alpha Peak_w (712)  3_T8_Alpha Peak_w (713)  \\\n",
              "count  ...               180.000000               180.000000   \n",
              "mean   ...                -0.680556                -0.563611   \n",
              "std    ...                 2.602676                 2.621947   \n",
              "min    ...                -7.150000                -5.800000   \n",
              "25%    ...                -2.762500                -2.812500   \n",
              "50%    ...                -0.350000                -0.125000   \n",
              "75%    ...                 0.400000                 0.712500   \n",
              "max    ...                 7.900000                 7.400000   \n",
              "\n",
              "       3_Cz_Alpha Peak_w (714)  3_P3_Alpha Peak_w (715)  \\\n",
              "count               180.000000               180.000000   \n",
              "mean                 -0.768333                -0.865833   \n",
              "std                   2.509813                 2.190772   \n",
              "min                  -5.900000                -5.800000   \n",
              "25%                  -2.912500                -2.900000   \n",
              "50%                  -0.275000                -0.250000   \n",
              "75%                   0.562500                 0.450000   \n",
              "max                   6.700000                 5.300000   \n",
              "\n",
              "       3_P4_Alpha Peak_w (716)  3_P7_Alpha Peak_w (717)  \\\n",
              "count               180.000000               180.000000   \n",
              "mean                 -0.527500                -0.759167   \n",
              "std                   2.320399                 2.333958   \n",
              "min                  -5.550000                -6.100000   \n",
              "25%                  -2.350000                -2.887500   \n",
              "50%                  -0.150000                -0.150000   \n",
              "75%                   0.650000                 0.600000   \n",
              "max                   6.650000                 5.700000   \n",
              "\n",
              "       3_P8_Alpha Peak_w (718)  3_Pz_Alpha Peak_w (719)  \\\n",
              "count               180.000000               180.000000   \n",
              "mean                 -0.670556                -0.924444   \n",
              "std                   2.373720                 2.382416   \n",
              "min                  -5.600000                -5.850000   \n",
              "25%                  -2.700000                -2.937500   \n",
              "50%                  -0.175000                -0.425000   \n",
              "75%                   0.600000                 0.400000   \n",
              "max                   6.650000                 6.650000   \n",
              "\n",
              "       3_O1_Alpha Peak_w (720)  3_O2_Alpha Peak_w (721)  \n",
              "count               180.000000               180.000000  \n",
              "mean                 -0.629722                -0.570556  \n",
              "std                   2.410305                 2.467712  \n",
              "min                  -7.250000                -5.600000  \n",
              "25%                  -2.687500                -2.675000  \n",
              "50%                  -0.125000                -0.100000  \n",
              "75%                   0.612500                 0.825000  \n",
              "max                   7.550000                 6.650000  \n",
              "\n",
              "[8 rows x 3805 columns]"
            ],
            "text/html": [
              "\n",
              "  <div id=\"df-6016620b-8075-4330-a8db-f76dc693e9c5\">\n",
              "    <div class=\"colab-df-container\">\n",
              "      <div>\n",
              "<style scoped>\n",
              "    .dataframe tbody tr th:only-of-type {\n",
              "        vertical-align: middle;\n",
              "    }\n",
              "\n",
              "    .dataframe tbody tr th {\n",
              "        vertical-align: top;\n",
              "    }\n",
              "\n",
              "    .dataframe thead th {\n",
              "        text-align: right;\n",
              "    }\n",
              "</style>\n",
              "<table border=\"1\" class=\"dataframe\">\n",
              "  <thead>\n",
              "    <tr style=\"text-align: right;\">\n",
              "      <th></th>\n",
              "      <th>PSS(지각된 스트레스 척도)</th>\n",
              "      <th>코르티솔</th>\n",
              "      <th>심박수</th>\n",
              "      <th>산소포화도</th>\n",
              "      <th>심박변이</th>\n",
              "      <th>0_Fp1_δ (0)</th>\n",
              "      <th>0_Fp2_δ (1)</th>\n",
              "      <th>0_F3_δ (2)</th>\n",
              "      <th>0_F4_δ (3)</th>\n",
              "      <th>0_F7_δ (4)</th>\n",
              "      <th>...</th>\n",
              "      <th>3_T7_Alpha Peak_w (712)</th>\n",
              "      <th>3_T8_Alpha Peak_w (713)</th>\n",
              "      <th>3_Cz_Alpha Peak_w (714)</th>\n",
              "      <th>3_P3_Alpha Peak_w (715)</th>\n",
              "      <th>3_P4_Alpha Peak_w (716)</th>\n",
              "      <th>3_P7_Alpha Peak_w (717)</th>\n",
              "      <th>3_P8_Alpha Peak_w (718)</th>\n",
              "      <th>3_Pz_Alpha Peak_w (719)</th>\n",
              "      <th>3_O1_Alpha Peak_w (720)</th>\n",
              "      <th>3_O2_Alpha Peak_w (721)</th>\n",
              "    </tr>\n",
              "  </thead>\n",
              "  <tbody>\n",
              "    <tr>\n",
              "      <th>count</th>\n",
              "      <td>180.000000</td>\n",
              "      <td>180.000000</td>\n",
              "      <td>180.000000</td>\n",
              "      <td>180.000000</td>\n",
              "      <td>180.000000</td>\n",
              "      <td>1.800000e+02</td>\n",
              "      <td>1.800000e+02</td>\n",
              "      <td>1.800000e+02</td>\n",
              "      <td>1.800000e+02</td>\n",
              "      <td>1.800000e+02</td>\n",
              "      <td>...</td>\n",
              "      <td>180.000000</td>\n",
              "      <td>180.000000</td>\n",
              "      <td>180.000000</td>\n",
              "      <td>180.000000</td>\n",
              "      <td>180.000000</td>\n",
              "      <td>180.000000</td>\n",
              "      <td>180.000000</td>\n",
              "      <td>180.000000</td>\n",
              "      <td>180.000000</td>\n",
              "      <td>180.000000</td>\n",
              "    </tr>\n",
              "    <tr>\n",
              "      <th>mean</th>\n",
              "      <td>18.494444</td>\n",
              "      <td>0.137839</td>\n",
              "      <td>74.672222</td>\n",
              "      <td>97.600000</td>\n",
              "      <td>34.411111</td>\n",
              "      <td>5.757650e-12</td>\n",
              "      <td>3.723047e-12</td>\n",
              "      <td>5.163789e-12</td>\n",
              "      <td>3.793818e-12</td>\n",
              "      <td>2.020830e-12</td>\n",
              "      <td>...</td>\n",
              "      <td>-0.680556</td>\n",
              "      <td>-0.563611</td>\n",
              "      <td>-0.768333</td>\n",
              "      <td>-0.865833</td>\n",
              "      <td>-0.527500</td>\n",
              "      <td>-0.759167</td>\n",
              "      <td>-0.670556</td>\n",
              "      <td>-0.924444</td>\n",
              "      <td>-0.629722</td>\n",
              "      <td>-0.570556</td>\n",
              "    </tr>\n",
              "    <tr>\n",
              "      <th>std</th>\n",
              "      <td>5.051132</td>\n",
              "      <td>0.086779</td>\n",
              "      <td>11.489043</td>\n",
              "      <td>3.736577</td>\n",
              "      <td>8.436943</td>\n",
              "      <td>5.569867e-11</td>\n",
              "      <td>2.031909e-11</td>\n",
              "      <td>5.131491e-11</td>\n",
              "      <td>2.667421e-11</td>\n",
              "      <td>9.716337e-12</td>\n",
              "      <td>...</td>\n",
              "      <td>2.602676</td>\n",
              "      <td>2.621947</td>\n",
              "      <td>2.509813</td>\n",
              "      <td>2.190772</td>\n",
              "      <td>2.320399</td>\n",
              "      <td>2.333958</td>\n",
              "      <td>2.373720</td>\n",
              "      <td>2.382416</td>\n",
              "      <td>2.410305</td>\n",
              "      <td>2.467712</td>\n",
              "    </tr>\n",
              "    <tr>\n",
              "      <th>min</th>\n",
              "      <td>8.000000</td>\n",
              "      <td>0.020000</td>\n",
              "      <td>39.000000</td>\n",
              "      <td>48.000000</td>\n",
              "      <td>14.000000</td>\n",
              "      <td>2.940000e-43</td>\n",
              "      <td>3.050000e-43</td>\n",
              "      <td>2.950000e-43</td>\n",
              "      <td>3.040000e-43</td>\n",
              "      <td>2.970000e-43</td>\n",
              "      <td>...</td>\n",
              "      <td>-7.150000</td>\n",
              "      <td>-5.800000</td>\n",
              "      <td>-5.900000</td>\n",
              "      <td>-5.800000</td>\n",
              "      <td>-5.550000</td>\n",
              "      <td>-6.100000</td>\n",
              "      <td>-5.600000</td>\n",
              "      <td>-5.850000</td>\n",
              "      <td>-7.250000</td>\n",
              "      <td>-5.600000</td>\n",
              "    </tr>\n",
              "    <tr>\n",
              "      <th>25%</th>\n",
              "      <td>15.000000</td>\n",
              "      <td>0.083750</td>\n",
              "      <td>67.000000</td>\n",
              "      <td>98.000000</td>\n",
              "      <td>30.000000</td>\n",
              "      <td>3.292500e-16</td>\n",
              "      <td>2.142500e-15</td>\n",
              "      <td>3.987500e-16</td>\n",
              "      <td>2.725000e-15</td>\n",
              "      <td>6.190000e-16</td>\n",
              "      <td>...</td>\n",
              "      <td>-2.762500</td>\n",
              "      <td>-2.812500</td>\n",
              "      <td>-2.912500</td>\n",
              "      <td>-2.900000</td>\n",
              "      <td>-2.350000</td>\n",
              "      <td>-2.887500</td>\n",
              "      <td>-2.700000</td>\n",
              "      <td>-2.937500</td>\n",
              "      <td>-2.687500</td>\n",
              "      <td>-2.675000</td>\n",
              "    </tr>\n",
              "    <tr>\n",
              "      <th>50%</th>\n",
              "      <td>19.000000</td>\n",
              "      <td>0.116500</td>\n",
              "      <td>74.000000</td>\n",
              "      <td>98.000000</td>\n",
              "      <td>34.000000</td>\n",
              "      <td>4.795000e-14</td>\n",
              "      <td>1.510000e-13</td>\n",
              "      <td>7.345000e-14</td>\n",
              "      <td>1.185000e-13</td>\n",
              "      <td>4.570000e-14</td>\n",
              "      <td>...</td>\n",
              "      <td>-0.350000</td>\n",
              "      <td>-0.125000</td>\n",
              "      <td>-0.275000</td>\n",
              "      <td>-0.250000</td>\n",
              "      <td>-0.150000</td>\n",
              "      <td>-0.150000</td>\n",
              "      <td>-0.175000</td>\n",
              "      <td>-0.425000</td>\n",
              "      <td>-0.125000</td>\n",
              "      <td>-0.100000</td>\n",
              "    </tr>\n",
              "    <tr>\n",
              "      <th>75%</th>\n",
              "      <td>21.250000</td>\n",
              "      <td>0.171000</td>\n",
              "      <td>83.000000</td>\n",
              "      <td>98.000000</td>\n",
              "      <td>38.000000</td>\n",
              "      <td>4.610000e-13</td>\n",
              "      <td>5.922500e-13</td>\n",
              "      <td>5.687500e-13</td>\n",
              "      <td>9.127500e-13</td>\n",
              "      <td>4.515000e-13</td>\n",
              "      <td>...</td>\n",
              "      <td>0.400000</td>\n",
              "      <td>0.712500</td>\n",
              "      <td>0.562500</td>\n",
              "      <td>0.450000</td>\n",
              "      <td>0.650000</td>\n",
              "      <td>0.600000</td>\n",
              "      <td>0.600000</td>\n",
              "      <td>0.400000</td>\n",
              "      <td>0.612500</td>\n",
              "      <td>0.825000</td>\n",
              "    </tr>\n",
              "    <tr>\n",
              "      <th>max</th>\n",
              "      <td>31.000000</td>\n",
              "      <td>0.538000</td>\n",
              "      <td>108.000000</td>\n",
              "      <td>99.000000</td>\n",
              "      <td>81.000000</td>\n",
              "      <td>7.420000e-10</td>\n",
              "      <td>2.160000e-10</td>\n",
              "      <td>6.850000e-10</td>\n",
              "      <td>3.500000e-10</td>\n",
              "      <td>1.070000e-10</td>\n",
              "      <td>...</td>\n",
              "      <td>7.900000</td>\n",
              "      <td>7.400000</td>\n",
              "      <td>6.700000</td>\n",
              "      <td>5.300000</td>\n",
              "      <td>6.650000</td>\n",
              "      <td>5.700000</td>\n",
              "      <td>6.650000</td>\n",
              "      <td>6.650000</td>\n",
              "      <td>7.550000</td>\n",
              "      <td>6.650000</td>\n",
              "    </tr>\n",
              "  </tbody>\n",
              "</table>\n",
              "<p>8 rows × 3805 columns</p>\n",
              "</div>\n",
              "      <button class=\"colab-df-convert\" onclick=\"convertToInteractive('df-6016620b-8075-4330-a8db-f76dc693e9c5')\"\n",
              "              title=\"Convert this dataframe to an interactive table.\"\n",
              "              style=\"display:none;\">\n",
              "        \n",
              "  <svg xmlns=\"http://www.w3.org/2000/svg\" height=\"24px\"viewBox=\"0 0 24 24\"\n",
              "       width=\"24px\">\n",
              "    <path d=\"M0 0h24v24H0V0z\" fill=\"none\"/>\n",
              "    <path d=\"M18.56 5.44l.94 2.06.94-2.06 2.06-.94-2.06-.94-.94-2.06-.94 2.06-2.06.94zm-11 1L8.5 8.5l.94-2.06 2.06-.94-2.06-.94L8.5 2.5l-.94 2.06-2.06.94zm10 10l.94 2.06.94-2.06 2.06-.94-2.06-.94-.94-2.06-.94 2.06-2.06.94z\"/><path d=\"M17.41 7.96l-1.37-1.37c-.4-.4-.92-.59-1.43-.59-.52 0-1.04.2-1.43.59L10.3 9.45l-7.72 7.72c-.78.78-.78 2.05 0 2.83L4 21.41c.39.39.9.59 1.41.59.51 0 1.02-.2 1.41-.59l7.78-7.78 2.81-2.81c.8-.78.8-2.07 0-2.86zM5.41 20L4 18.59l7.72-7.72 1.47 1.35L5.41 20z\"/>\n",
              "  </svg>\n",
              "      </button>\n",
              "      \n",
              "  <style>\n",
              "    .colab-df-container {\n",
              "      display:flex;\n",
              "      flex-wrap:wrap;\n",
              "      gap: 12px;\n",
              "    }\n",
              "\n",
              "    .colab-df-convert {\n",
              "      background-color: #E8F0FE;\n",
              "      border: none;\n",
              "      border-radius: 50%;\n",
              "      cursor: pointer;\n",
              "      display: none;\n",
              "      fill: #1967D2;\n",
              "      height: 32px;\n",
              "      padding: 0 0 0 0;\n",
              "      width: 32px;\n",
              "    }\n",
              "\n",
              "    .colab-df-convert:hover {\n",
              "      background-color: #E2EBFA;\n",
              "      box-shadow: 0px 1px 2px rgba(60, 64, 67, 0.3), 0px 1px 3px 1px rgba(60, 64, 67, 0.15);\n",
              "      fill: #174EA6;\n",
              "    }\n",
              "\n",
              "    [theme=dark] .colab-df-convert {\n",
              "      background-color: #3B4455;\n",
              "      fill: #D2E3FC;\n",
              "    }\n",
              "\n",
              "    [theme=dark] .colab-df-convert:hover {\n",
              "      background-color: #434B5C;\n",
              "      box-shadow: 0px 1px 3px 1px rgba(0, 0, 0, 0.15);\n",
              "      filter: drop-shadow(0px 1px 2px rgba(0, 0, 0, 0.3));\n",
              "      fill: #FFFFFF;\n",
              "    }\n",
              "  </style>\n",
              "\n",
              "      <script>\n",
              "        const buttonEl =\n",
              "          document.querySelector('#df-6016620b-8075-4330-a8db-f76dc693e9c5 button.colab-df-convert');\n",
              "        buttonEl.style.display =\n",
              "          google.colab.kernel.accessAllowed ? 'block' : 'none';\n",
              "\n",
              "        async function convertToInteractive(key) {\n",
              "          const element = document.querySelector('#df-6016620b-8075-4330-a8db-f76dc693e9c5');\n",
              "          const dataTable =\n",
              "            await google.colab.kernel.invokeFunction('convertToInteractive',\n",
              "                                                     [key], {});\n",
              "          if (!dataTable) return;\n",
              "\n",
              "          const docLinkHtml = 'Like what you see? Visit the ' +\n",
              "            '<a target=\"_blank\" href=https://colab.research.google.com/notebooks/data_table.ipynb>data table notebook</a>'\n",
              "            + ' to learn more about interactive tables.';\n",
              "          element.innerHTML = '';\n",
              "          dataTable['output_type'] = 'display_data';\n",
              "          await google.colab.output.renderOutput(dataTable, element);\n",
              "          const docLink = document.createElement('div');\n",
              "          docLink.innerHTML = docLinkHtml;\n",
              "          element.appendChild(docLink);\n",
              "        }\n",
              "      </script>\n",
              "    </div>\n",
              "  </div>\n",
              "  "
            ]
          },
          "metadata": {},
          "execution_count": 287
        }
      ]
    },
    {
      "cell_type": "code",
      "source": [
        "df.columns"
      ],
      "metadata": {
        "colab": {
          "base_uri": "https://localhost:8080/"
        },
        "id": "TuxZdh7HCj_L",
        "outputId": "d74dde97-b1bd-4dd4-9899-47b383b1df27"
      },
      "execution_count": null,
      "outputs": [
        {
          "output_type": "execute_result",
          "data": {
            "text/plain": [
              "Index(['PSS(지각된 스트레스 척도)', '코르티솔', '심박수', '산소포화도', '심박변이', '0_Fp1_δ (0)',\n",
              "       '0_Fp2_δ (1)', '0_F3_δ (2)', '0_F4_δ (3)', '0_F7_δ (4)',\n",
              "       ...\n",
              "       '3_T7_Alpha Peak_w (712)', '3_T8_Alpha Peak_w (713)',\n",
              "       '3_Cz_Alpha Peak_w (714)', '3_P3_Alpha Peak_w (715)',\n",
              "       '3_P4_Alpha Peak_w (716)', '3_P7_Alpha Peak_w (717)',\n",
              "       '3_P8_Alpha Peak_w (718)', '3_Pz_Alpha Peak_w (719)',\n",
              "       '3_O1_Alpha Peak_w (720)', '3_O2_Alpha Peak_w (721)'],\n",
              "      dtype='object', length=3805)"
            ]
          },
          "metadata": {},
          "execution_count": 288
        }
      ]
    },
    {
      "cell_type": "code",
      "source": [
        "df.info()"
      ],
      "metadata": {
        "colab": {
          "base_uri": "https://localhost:8080/"
        },
        "id": "-df5g3l7C9-3",
        "outputId": "6b691526-42af-4d4f-f84e-ab0cfedfd572"
      },
      "execution_count": null,
      "outputs": [
        {
          "output_type": "stream",
          "name": "stdout",
          "text": [
            "<class 'pandas.core.frame.DataFrame'>\n",
            "RangeIndex: 180 entries, 0 to 179\n",
            "Columns: 3805 entries, PSS(지각된 스트레스 척도) to 3_O2_Alpha Peak_w (721)\n",
            "dtypes: float64(3657), int64(148)\n",
            "memory usage: 5.2 MB\n"
          ]
        }
      ]
    },
    {
      "cell_type": "code",
      "source": [
        "y = df[\"PSS(지각된 스트레스 척도)\"]\n",
        "z =df[['코르티솔']]\n",
        "z = (z -z.min())/(z.max() - z.min()) # 코르티솔 값\n",
        "y = (y -y.min())/(y.max() - y.min()) #normalization 된 pss값 (0 to 1)\n",
        "x_train=df.drop(columns=['PSS(지각된 스트레스 척도)','코르티솔']) #x_train = Data로 사용될 수 있는 value\n",
        "x_test = x_train.sample()"
      ],
      "metadata": {
        "id": "KeWYdV1H5fMj"
      },
      "execution_count": null,
      "outputs": []
    },
    {
      "cell_type": "code",
      "source": [
        "y"
      ],
      "metadata": {
        "colab": {
          "base_uri": "https://localhost:8080/"
        },
        "id": "mYB6X4vp-onl",
        "outputId": "dece520f-ea2e-48be-e616-6fe4dffff226"
      },
      "execution_count": null,
      "outputs": [
        {
          "output_type": "execute_result",
          "data": {
            "text/plain": [
              "0      0.347826\n",
              "1      0.434783\n",
              "2      0.782609\n",
              "3      0.391304\n",
              "4      0.304348\n",
              "         ...   \n",
              "175    0.826087\n",
              "176    0.652174\n",
              "177    0.086957\n",
              "178    0.086957\n",
              "179    0.173913\n",
              "Name: PSS(지각된 스트레스 척도), Length: 180, dtype: float64"
            ]
          },
          "metadata": {},
          "execution_count": 291
        }
      ]
    },
    {
      "cell_type": "markdown",
      "source": [
        "## svm_Regression"
      ],
      "metadata": {
        "id": "9xy9TsBmHrra"
      }
    },
    {
      "cell_type": "code",
      "source": [
        "svm_regression_y =svm.SVR(kernel=\"poly\", degree=3, C=1, epsilon=0.01,gamma='auto')\n",
        "svm_regression_z =svm.SVR(kernel=\"poly\", degree=3, C=1, epsilon=0.01,gamma='auto')\n",
        "svm_regression_y.fit(x_train, y)\n",
        "svm_regression_z.fit(x_train, z)\n",
        "y_pred_svm = svm_regression_y.predict(x_train)\n",
        "z_pred_svm = svm_regression_z.predict(x_train)\n",
        "def plot_svm_regression(svm_reg, X, y):\n",
        "    y_pred = svm_reg.predict(X)\n",
        "    #plt.scatter(y,y_pred ,alpha=0.5)\n",
        "    plt.plot(X, y_pred, \"k-\", linewidth=2)\n",
        "    #plt.plot(X, y_pred + svm_reg.epsilon, \"k--\")\n",
        "    #plt.plot(X, y_pred - svm_reg.epsilon, \"k--\")\n",
        "    \n",
        "    plt.ylabel('pred_value',fontsize=18)\n",
        "    plt.xlabel(\"Data\", fontsize=18)\n",
        "    plt.legend()\n",
        "\n",
        "    "
      ],
      "metadata": {
        "id": "96nCSHj8BLPh",
        "colab": {
          "base_uri": "https://localhost:8080/"
        },
        "outputId": "298d63cf-ee79-41cd-c75c-432d4c34d127"
      },
      "execution_count": null,
      "outputs": [
        {
          "output_type": "stream",
          "name": "stderr",
          "text": [
            "/usr/local/lib/python3.8/dist-packages/sklearn/utils/validation.py:993: DataConversionWarning: A column-vector y was passed when a 1d array was expected. Please change the shape of y to (n_samples, ), for example using ravel().\n",
            "  y = column_or_1d(y, warn=True)\n"
          ]
        }
      ]
    },
    {
      "cell_type": "code",
      "source": [
        "y_pred_svm"
      ],
      "metadata": {
        "colab": {
          "base_uri": "https://localhost:8080/"
        },
        "id": "cWWFMVDqHPCb",
        "outputId": "21a7ca6d-a4be-4c99-f809-70135b4eb044"
      },
      "execution_count": null,
      "outputs": [
        {
          "output_type": "execute_result",
          "data": {
            "text/plain": [
              "array([0.33767773, 0.44481747, 0.79260489, 0.40130956, 0.3144018 ,\n",
              "       0.90298657, 0.55523288, 0.33777402, 0.48828959, 0.42470045,\n",
              "       0.31444717, 0.46820552, 0.81613433, 0.77265514, 0.09693911,\n",
              "       0.05350403, 0.40139294, 0.68573301, 0.57532593, 0.61875586,\n",
              "       0.4248103 , 0.01005648, 0.64214531, 0.64219612, 0.64214877,\n",
              "       0.0969916 , 0.05346785, 0.18398082, 0.46820357, 0.51169254,\n",
              "       0.51178517, 0.22741757, 0.38121723, 0.35781936, 0.74919997,\n",
              "       0.77249322, 0.51162211, 0.4447819 , 0.44480795, 0.42468954,\n",
              "       0.44486958, 0.27102418, 0.27070998, 0.09693148, 0.09700193,\n",
              "       0.14042651, 0.09689767, 0.29436134, 0.22742578, 0.59867686,\n",
              "       0.59895712, 0.44485067, 0.59870519, 0.29432713, 0.31440527,\n",
              "       0.55521836, 0.40127951, 0.57532399, 0.51175068, 0.59866982,\n",
              "       0.40137924, 0.38130164, 0.40134475, 0.46822133, 0.53171278,\n",
              "       0.51166926, 0.51162682, 0.53190444, 0.81608799, 0.85967664,\n",
              "       0.59866558, 0.61874219, 0.35783739, 0.51172049, 0.5317289 ,\n",
              "       0.51157733, 0.09693628, 0.22741967, 0.12051248, 0.46813137,\n",
              "       0.55507588, 0.90290824, 0.90300946, 0.44471765, 0.51161772,\n",
              "       0.46828134, 0.25093778, 0.57520364, 0.66225407, 0.66224479,\n",
              "       0.72911484, 0.83607425, 0.33779836, 0.16386228, 0.35778237,\n",
              "       0.27082423, 0.55504083, 0.5116692 , 0.31436003, 0.18384302,\n",
              "       0.27087133, 0.4882754 , 0.40149686, 0.40134049, 0.55512289,\n",
              "       0.27083448, 0.16380268, 0.48821484, 0.46814288, 0.42518198,\n",
              "       0.40125105, 0.53210824, 0.59861152, 0.48832899, 0.83621191,\n",
              "       0.68574718, 0.59865762, 0.94665306, 1.01010193, 0.44502517,\n",
              "       0.27075504, 0.33774067, 0.31487706, 0.18393357, 0.05348404,\n",
              "       0.05349251, 0.51173282, 0.64212001, 0.4013351 , 0.46833012,\n",
              "       0.53176922, 0.53153357, 0.51164887, 0.55512764, 0.5986372 ,\n",
              "       0.5985755 , 0.48832035, 0.44468146, 0.53172025, 0.18390436,\n",
              "       0.18395484, 0.61880286, 0.43880486, 0.38114592, 0.5117099 ,\n",
              "       0.48817779, 0.59871873, 0.42481171, 0.48816913, 0.20723978,\n",
              "       0.2273481 , 0.55518695, 0.64216303, 0.77252664, 0.35784239,\n",
              "       0.20737858, 0.22734485, 0.29431057, 0.14044041, 0.22736377,\n",
              "       0.40139856, 0.51171448, 0.46842754, 0.44479764, 0.42468644,\n",
              "       0.31437013, 0.22739914, 0.12035709, 0.87979199, 0.90315411,\n",
              "       0.94643593, 0.74907024, 0.55506812, 0.48824403, 0.85929731,\n",
              "       0.81612674, 0.66213013, 0.07677478, 0.09695241, 0.184098  ])"
            ]
          },
          "metadata": {},
          "execution_count": 17
        }
      ]
    },
    {
      "cell_type": "code",
      "source": [
        "z_pred_svm"
      ],
      "metadata": {
        "colab": {
          "base_uri": "https://localhost:8080/"
        },
        "id": "4EE4q3dGL-hm",
        "outputId": "4d1a20fa-764e-40f3-f62d-d04a7cac4cb3"
      },
      "execution_count": null,
      "outputs": [
        {
          "output_type": "execute_result",
          "data": {
            "text/plain": [
              "array([ 0.14125863,  0.28140318,  0.20691765,  0.19070578,  0.21840398,\n",
              "        0.30465657,  0.2312609 ,  0.27950879,  0.80267084,  0.30347816,\n",
              "        0.27075767,  0.18184285,  0.22159226,  0.14243135,  0.15209231,\n",
              "        0.16441546,  0.05438336,  0.48421335,  0.28143501,  0.88571351,\n",
              "        0.17398782,  0.24361135,  0.16441367,  0.12309152,  0.40958402,\n",
              "        0.53887241,  0.17208186,  0.23119177,  0.11225843,  0.25327028,\n",
              "        0.13669013,  0.07944325,  0.10575642,  0.19648364,  0.29489127,\n",
              "        0.20111318,  0.14904247,  0.29494878,  0.84124038,  0.15098776,\n",
              "        0.13304681,  0.13182966,  0.01575191,  0.27950392,  0.35486818,\n",
              "        0.15014772,  0.22732396,  0.1064699 ,  0.15280134,  0.21846001,\n",
              "        0.36648446,  0.17348492,  0.10069889,  0.33552226,  0.12360293,\n",
              "        0.18367186,  0.16055622,  0.1831353 ,  0.11032343,  0.17139828,\n",
              "        0.35861883,  0.15785233,  0.05244714,  0.17979196, -0.009737  ,\n",
              "        0.11613478,  0.37408864,  0.15216429,  0.36519963,  0.33741375,\n",
              "        0.11735027,  0.23895189,  0.18757904,  0.04405874,  0.25568162,\n",
              "        0.1277041 ,  0.39148822,  0.29569487,  0.2103482 ,  0.06793149,\n",
              "        0.10645295,  0.13936718,  0.12582585,  0.15881519,  0.8721764 ,\n",
              "        0.19728747,  0.11501448,  0.08267475,  0.08339233,  0.10960181,\n",
              "        0.17990938,  0.07381861,  0.33626429,  0.16274073,  0.60963297,\n",
              "        0.28023628,  0.13864014,  0.37997356,  0.24155614,  0.09026452,\n",
              "        0.0795059 ,  0.06009625,  0.11059184,  0.17214406,  0.18299777,\n",
              "        0.333512  ,  0.25446558,  0.37798677,  0.01572873,  0.10784094,\n",
              "        0.17021416,  0.32395861,  0.06404146,  0.16763809,  0.19920413,\n",
              "        0.03701165,  0.10649732,  0.1887855 ,  0.00550252,  0.24093873,\n",
              "        0.05441686,  0.06213804,  0.15164743,  0.46577558,  0.36442598,\n",
              "        0.34706324,  0.26030892,  0.51694818,  0.23776114,  0.39146622,\n",
              "        0.10775173,  0.25539938,  0.22157036,  0.16828924,  0.20492414,\n",
              "        0.09496414,  0.03510759,  0.07679151,  0.07371453,  0.13861534,\n",
              "        0.13549548,  0.98997265,  0.40901209,  0.31827087,  0.06980606,\n",
              "        0.1076728 ,  0.32391   ,  0.22538662,  0.35474898,  0.0873063 ,\n",
              "        0.27058428,  0.28535464,  0.13353074,  0.47842876,  0.08725495,\n",
              "        0.30282692,  0.20302481,  0.25056986,  0.17524838,  0.21073492,\n",
              "        0.0815519 ,  0.20032175,  0.10786435,  0.25062912,  0.79111024,\n",
              "        0.41851323,  0.25836192,  0.17409101,  0.45236019,  0.35441437,\n",
              "        0.14700244,  0.18303893,  0.17410378,  0.36717341,  0.14268712,\n",
              "        0.18761218,  0.23007087,  0.26295399,  0.15786435,  0.30273975])"
            ]
          },
          "metadata": {},
          "execution_count": 18
        }
      ]
    },
    {
      "cell_type": "markdown",
      "source": [
        "## emsemble Regression"
      ],
      "metadata": {
        "id": "Absu4gLvLy3e"
      }
    },
    {
      "cell_type": "code",
      "source": [
        "gbrt_y = GradientBoostingRegressor(max_depth=10, n_estimators=300, learning_rate=1e-2, random_state=42)\n",
        "gbrt_z = GradientBoostingRegressor(max_depth=10, n_estimators=300, learning_rate=1e-2, random_state=42)\n",
        "gbrt_y.fit(x_train, y.values.ravel())\n",
        "gbrt_z.fit(x_train, z.values.ravel())\n",
        "mse_y=mean_squared_error(y,gbrt_y.predict(x_train))\n",
        "mse_z=mean_squared_error(y,gbrt_y.predict(x_train))\n",
        "print(\"The mean squared error (MSE) on test set: {:.4f}\".format(mse_y))\n",
        "print(\"The mean squared error (MSE) on test set: {:.4f}\".format(mse_z))"
      ],
      "metadata": {
        "colab": {
          "base_uri": "https://localhost:8080/"
        },
        "id": "AQrHLarpIXyY",
        "outputId": "cba65904-fa97-401d-bd1d-3f0a410b06ce"
      },
      "execution_count": null,
      "outputs": [
        {
          "output_type": "stream",
          "name": "stdout",
          "text": [
            "The mean squared error (MSE) on test set: 0.0001\n",
            "The mean squared error (MSE) on test set: 0.0001\n"
          ]
        }
      ]
    },
    {
      "cell_type": "code",
      "source": [
        "print('y_pred_ensemble :', gbrt_y.predict(x_train)) #ensemble model"
      ],
      "metadata": {
        "colab": {
          "base_uri": "https://localhost:8080/"
        },
        "id": "pA9NeLDFIh1Q",
        "outputId": "5f24648d-7bbe-4d2f-8dd7-684d64bdb003"
      },
      "execution_count": null,
      "outputs": [
        {
          "output_type": "stream",
          "name": "stdout",
          "text": [
            "y_pred_ensemble : [0.35314477 0.43668551 0.76660525 0.39449082 0.31277452 0.8906434\n",
            " 0.55987501 0.35381311 0.47718292 0.43479565 0.3114507  0.47718292\n",
            " 0.8079513  0.76660525 0.10506848 0.06372244 0.39609849 0.68391316\n",
            " 0.55987501 0.60122106 0.43583687 0.02237639 0.64256711 0.64256711\n",
            " 0.64256711 0.10506848 0.06372244 0.18776058 0.47515384 0.51852897\n",
            " 0.51852897 0.22910663 0.39545194 0.35314477 0.72525921 0.76660525\n",
            " 0.51852897 0.43593556 0.43583687 0.43465909 0.43583687 0.27045268\n",
            " 0.27218359 0.10506848 0.10506848 0.14641453 0.10506848 0.31179873\n",
            " 0.22910663 0.60122106 0.60051138 0.43583687 0.60122106 0.3142487\n",
            " 0.31197169 0.55852243 0.39449082 0.55943982 0.51852897 0.60122106\n",
            " 0.39455534 0.39449082 0.39554058 0.47718292 0.51852897 0.51852897\n",
            " 0.51721276 0.51852897 0.8079513  0.84929735 0.60122106 0.60122106\n",
            " 0.35314477 0.51852897 0.51882371 0.51852897 0.10506848 0.22910663\n",
            " 0.14641453 0.47819114 0.55987501 0.8906434  0.8906434  0.43583687\n",
            " 0.51852897 0.4779834  0.27045268 0.55987501 0.64256711 0.64256711\n",
            " 0.72525921 0.8079513  0.35321971 0.18776058 0.35314477 0.27075278\n",
            " 0.56014042 0.51852897 0.31179873 0.18776058 0.27045268 0.47718292\n",
            " 0.39449047 0.39449082 0.55987501 0.27045268 0.1881666  0.47786149\n",
            " 0.47718292 0.43583687 0.39449082 0.51880492 0.60122106 0.47666741\n",
            " 0.8079513  0.68391316 0.59871437 0.93198945 0.97333549 0.43638471\n",
            " 0.27045268 0.35263458 0.31131971 0.18776058 0.06372244 0.06372244\n",
            " 0.51687583 0.64256711 0.39449082 0.47753298 0.51852897 0.51852897\n",
            " 0.51736145 0.56014663 0.60122106 0.60122106 0.47718292 0.43680958\n",
            " 0.51854954 0.18776058 0.18776058 0.60122106 0.43552756 0.3942734\n",
            " 0.51998192 0.47718292 0.60051138 0.43583687 0.47718292 0.22910663\n",
            " 0.22910663 0.55841179 0.64256711 0.76660525 0.35314477 0.22910663\n",
            " 0.22910663 0.31179873 0.14641453 0.22910663 0.39449082 0.51852897\n",
            " 0.47718292 0.43583687 0.43664356 0.31179873 0.22910663 0.14641453\n",
            " 0.84929735 0.8906434  0.93198945 0.72525921 0.55866152 0.47718292\n",
            " 0.84929735 0.8079513  0.64256711 0.10506848 0.10506848 0.18776058]\n"
          ]
        }
      ]
    },
    {
      "cell_type": "code",
      "source": [
        "test_score = np.zeros((300,), dtype=np.float64)\n",
        "for i, y_pred in enumerate(gbrt_y.staged_predict(x_train)):\n",
        "    test_score[i] = mean_squared_error(y, y_pred)\n",
        "\n",
        "fig = plt.figure(figsize=(6, 6))\n",
        "plt.subplot(1, 1, 1)\n",
        "plt.title(\"PSS\")\n",
        "plt.plot(\n",
        "    np.arange(300) + 1,\n",
        "    gbrt_y.train_score_,\n",
        "    \"b-\",\n",
        "    label=\"Training Set \",\n",
        ")\n",
        "plt.plot(\n",
        "    np.arange(300) + 1, test_score, \"r-\", label=\"Test Set\"\n",
        ")\n",
        "plt.legend(loc=\"upper right\")\n",
        "plt.xlabel(\"Boosting Iterations\")\n",
        "plt.ylabel(\"PSS\")\n",
        "fig.tight_layout()\n",
        "plt.show()"
      ],
      "metadata": {
        "colab": {
          "base_uri": "https://localhost:8080/",
          "height": 441
        },
        "id": "wYpGjHlunfGm",
        "outputId": "00cc0c7f-1053-4331-c6d1-3f2158e6c864"
      },
      "execution_count": null,
      "outputs": [
        {
          "output_type": "display_data",
          "data": {
            "text/plain": [
              "<Figure size 432x432 with 1 Axes>"
            ],
            "image/png": "[encoded data removed]"
          },
          "metadata": {
            "needs_background": "light"
          }
        }
      ]
    },
    {
      "cell_type": "code",
      "source": [
        "#!pip install eli5\n",
        "import eli5\n",
        "from eli5.sklearn import PermutationImportance\n",
        "from eli5.sklearn import explain_weights\n",
        "from eli5.sklearn import explain_decision_tree"
      ],
      "metadata": {
        "id": "m75hGZ_spgxP"
      },
      "execution_count": null,
      "outputs": []
    },
    {
      "cell_type": "code",
      "source": [
        "columns = x_train.columns\n",
        "coefficients = gbrt_y.feature_importances_.reshape(x_train.columns.shape[0], 1)\n",
        "pd.concat([pd.DataFrame(columns, columns=['변수명']), pd.DataFrame(coefficients, columns=['특성 중요도'])], axis=1).sort_values(by='특성 중요도', ascending=False)"
      ],
      "metadata": {
        "colab": {
          "base_uri": "https://localhost:8080/",
          "height": 278
        },
        "id": "0fZGbo9XoGZH",
        "outputId": "8e99c4ca-ff3c-4906-d5c0-a72e5c11ef4a"
      },
      "execution_count": null,
      "outputs": [
        {
          "output_type": "execute_result",
          "data": {
            "text/plain": [
              "                      변수명    특성 중요도\n",
              "2465   2_Cz_θ/Low β (410)  0.120223\n",
              "1155         1_P3_θ (126)  0.084756\n",
              "2389     2_Cz_Low β (334)  0.073908\n",
              "1159         1_Pz_θ (130)  0.064035\n",
              "327     0_Fp2_Low β (324)  0.057601\n",
              "...                   ...       ...\n",
              "1236    1_O1_Slow α (207)  0.000000\n",
              "2092          2_O2_θ (37)  0.000000\n",
              "2093         2_Fp1_α (38)  0.000000\n",
              "2094         2_Fp2_α (39)  0.000000\n",
              "1288  1_P3_Middle β (259)  0.000000\n",
              "\n",
              "[3803 rows x 2 columns]"
            ],
            "text/html": [
              "\n",
              "  <div id=\"df-70af6786-e03f-4057-8f02-e6c0fd477a2c\">\n",
              "    <div class=\"colab-df-container\">\n",
              "      <div>\n",
              "<style scoped>\n",
              "    .dataframe tbody tr th:only-of-type {\n",
              "        vertical-align: middle;\n",
              "    }\n",
              "\n",
              "    .dataframe tbody tr th {\n",
              "        vertical-align: top;\n",
              "    }\n",
              "\n",
              "    .dataframe thead th {\n",
              "        text-align: right;\n",
              "    }\n",
              "</style>\n",
              "<table border=\"1\" class=\"dataframe\">\n",
              "  <thead>\n",
              "    <tr style=\"text-align: right;\">\n",
              "      <th></th>\n",
              "      <th>변수명</th>\n",
              "      <th>특성 중요도</th>\n",
              "    </tr>\n",
              "  </thead>\n",
              "  <tbody>\n",
              "    <tr>\n",
              "      <th>2465</th>\n",
              "      <td>2_Cz_θ/Low β (410)</td>\n",
              "      <td>0.120223</td>\n",
              "    </tr>\n",
              "    <tr>\n",
              "      <th>1155</th>\n",
              "      <td>1_P3_θ (126)</td>\n",
              "      <td>0.084756</td>\n",
              "    </tr>\n",
              "    <tr>\n",
              "      <th>2389</th>\n",
              "      <td>2_Cz_Low β (334)</td>\n",
              "      <td>0.073908</td>\n",
              "    </tr>\n",
              "    <tr>\n",
              "      <th>1159</th>\n",
              "      <td>1_Pz_θ (130)</td>\n",
              "      <td>0.064035</td>\n",
              "    </tr>\n",
              "    <tr>\n",
              "      <th>327</th>\n",
              "      <td>0_Fp2_Low β (324)</td>\n",
              "      <td>0.057601</td>\n",
              "    </tr>\n",
              "    <tr>\n",
              "      <th>...</th>\n",
              "      <td>...</td>\n",
              "      <td>...</td>\n",
              "    </tr>\n",
              "    <tr>\n",
              "      <th>1236</th>\n",
              "      <td>1_O1_Slow α (207)</td>\n",
              "      <td>0.000000</td>\n",
              "    </tr>\n",
              "    <tr>\n",
              "      <th>2092</th>\n",
              "      <td>2_O2_θ (37)</td>\n",
              "      <td>0.000000</td>\n",
              "    </tr>\n",
              "    <tr>\n",
              "      <th>2093</th>\n",
              "      <td>2_Fp1_α (38)</td>\n",
              "      <td>0.000000</td>\n",
              "    </tr>\n",
              "    <tr>\n",
              "      <th>2094</th>\n",
              "      <td>2_Fp2_α (39)</td>\n",
              "      <td>0.000000</td>\n",
              "    </tr>\n",
              "    <tr>\n",
              "      <th>1288</th>\n",
              "      <td>1_P3_Middle β (259)</td>\n",
              "      <td>0.000000</td>\n",
              "    </tr>\n",
              "  </tbody>\n",
              "</table>\n",
              "<p>3803 rows × 2 columns</p>\n",
              "</div>\n",
              "      <button class=\"colab-df-convert\" onclick=\"convertToInteractive('df-70af6786-e03f-4057-8f02-e6c0fd477a2c')\"\n",
              "              title=\"Convert this dataframe to an interactive table.\"\n",
              "              style=\"display:none;\">\n",
              "        \n",
              "  <svg xmlns=\"http://www.w3.org/2000/svg\" height=\"24px\"viewBox=\"0 0 24 24\"\n",
              "       width=\"24px\">\n",
              "    <path d=\"M0 0h24v24H0V0z\" fill=\"none\"/>\n",
              "    <path d=\"M18.56 5.44l.94 2.06.94-2.06 2.06-.94-2.06-.94-.94-2.06-.94 2.06-2.06.94zm-11 1L8.5 8.5l.94-2.06 2.06-.94-2.06-.94L8.5 2.5l-.94 2.06-2.06.94zm10 10l.94 2.06.94-2.06 2.06-.94-2.06-.94-.94-2.06-.94 2.06-2.06.94z\"/><path d=\"M17.41 7.96l-1.37-1.37c-.4-.4-.92-.59-1.43-.59-.52 0-1.04.2-1.43.59L10.3 9.45l-7.72 7.72c-.78.78-.78 2.05 0 2.83L4 21.41c.39.39.9.59 1.41.59.51 0 1.02-.2 1.41-.59l7.78-7.78 2.81-2.81c.8-.78.8-2.07 0-2.86zM5.41 20L4 18.59l7.72-7.72 1.47 1.35L5.41 20z\"/>\n",
              "  </svg>\n",
              "      </button>\n",
              "      \n",
              "  <style>\n",
              "    .colab-df-container {\n",
              "      display:flex;\n",
              "      flex-wrap:wrap;\n",
              "      gap: 12px;\n",
              "    }\n",
              "\n",
              "    .colab-df-convert {\n",
              "      background-color: #E8F0FE;\n",
              "      border: none;\n",
              "      border-radius: 50%;\n",
              "      cursor: pointer;\n",
              "      display: none;\n",
              "      fill: #1967D2;\n",
              "      height: 32px;\n",
              "      padding: 0 0 0 0;\n",
              "      width: 32px;\n",
              "    }\n",
              "\n",
              "    .colab-df-convert:hover {\n",
              "      background-color: #E2EBFA;\n",
              "      box-shadow: 0px 1px 2px rgba(60, 64, 67, 0.3), 0px 1px 3px 1px rgba(60, 64, 67, 0.15);\n",
              "      fill: #174EA6;\n",
              "    }\n",
              "\n",
              "    [theme=dark] .colab-df-convert {\n",
              "      background-color: #3B4455;\n",
              "      fill: #D2E3FC;\n",
              "    }\n",
              "\n",
              "    [theme=dark] .colab-df-convert:hover {\n",
              "      background-color: #434B5C;\n",
              "      box-shadow: 0px 1px 3px 1px rgba(0, 0, 0, 0.15);\n",
              "      filter: drop-shadow(0px 1px 2px rgba(0, 0, 0, 0.3));\n",
              "      fill: #FFFFFF;\n",
              "    }\n",
              "  </style>\n",
              "\n",
              "      <script>\n",
              "        const buttonEl =\n",
              "          document.querySelector('#df-70af6786-e03f-4057-8f02-e6c0fd477a2c button.colab-df-convert');\n",
              "        buttonEl.style.display =\n",
              "          google.colab.kernel.accessAllowed ? 'block' : 'none';\n",
              "\n",
              "        async function convertToInteractive(key) {\n",
              "          const element = document.querySelector('#df-70af6786-e03f-4057-8f02-e6c0fd477a2c');\n",
              "          const dataTable =\n",
              "            await google.colab.kernel.invokeFunction('convertToInteractive',\n",
              "                                                     [key], {});\n",
              "          if (!dataTable) return;\n",
              "\n",
              "          const docLinkHtml = 'Like what you see? Visit the ' +\n",
              "            '<a target=\"_blank\" href=https://colab.research.google.com/notebooks/data_table.ipynb>data table notebook</a>'\n",
              "            + ' to learn more about interactive tables.';\n",
              "          element.innerHTML = '';\n",
              "          dataTable['output_type'] = 'display_data';\n",
              "          await google.colab.output.renderOutput(dataTable, element);\n",
              "          const docLink = document.createElement('div');\n",
              "          docLink.innerHTML = docLinkHtml;\n",
              "          element.appendChild(docLink);\n",
              "        }\n",
              "      </script>\n",
              "    </div>\n",
              "  </div>\n",
              "  "
            ]
          },
          "metadata": {},
          "execution_count": 23
        }
      ]
    },
    {
      "cell_type": "code",
      "source": [
        "perm = PermutationImportance(gbrt_y, random_state=42).fit(x_train, y)\n"
      ],
      "metadata": {
        "id": "oc25RE-orjkc"
      },
      "execution_count": null,
      "outputs": []
    },
    {
      "cell_type": "code",
      "source": [
        "perm_z = PermutationImportance(gbrt_z, random_state=42).fit(x_train, z)"
      ],
      "metadata": {
        "id": "PkM6acglOdnt"
      },
      "execution_count": null,
      "outputs": []
    },
    {
      "cell_type": "code",
      "source": [
        "sample = eli5.explain_weights_df(perm, feature_names=x_train.columns.tolist())\n",
        "sample # about PSS weight"
      ],
      "metadata": {
        "colab": {
          "base_uri": "https://localhost:8080/",
          "height": 333
        },
        "id": "HzcBadvII21g",
        "outputId": "530b26c1-59bc-4b1b-aa68-0ba4aedc378b"
      },
      "execution_count": null,
      "outputs": [
        {
          "output_type": "execute_result",
          "data": {
            "text/plain": [
              "                      feature    weight       std\n",
              "0          2_Cz_θ/Low β (410)  0.861288  0.124137\n",
              "1                1_P3_θ (126)  0.604913  0.106828\n",
              "2            2_Cz_Low β (334)  0.362078  0.071947\n",
              "3                1_Pz_θ (130)  0.214322  0.047065\n",
              "4           1_P7_Fast α (318)  0.148675  0.048820\n",
              "...                       ...       ...       ...\n",
              "3798      1_P8_Middle β (357) -0.000010  0.000008\n",
              "3799      0_P7_α/High β (869) -0.000013  0.000014\n",
              "3800  2_P3_Slow α/Low β (905) -0.000023  0.000049\n",
              "3801         1_T7_Low β (332) -0.000024  0.000036\n",
              "3802         2_P3_Low β (335) -0.000028  0.000025\n",
              "\n",
              "[3803 rows x 3 columns]"
            ],
            "text/html": [
              "\n",
              "  <div id=\"df-c85e83dc-97f7-4a46-8128-f8fccbd99df5\">\n",
              "    <div class=\"colab-df-container\">\n",
              "      <div>\n",
              "<style scoped>\n",
              "    .dataframe tbody tr th:only-of-type {\n",
              "        vertical-align: middle;\n",
              "    }\n",
              "\n",
              "    .dataframe tbody tr th {\n",
              "        vertical-align: top;\n",
              "    }\n",
              "\n",
              "    .dataframe thead th {\n",
              "        text-align: right;\n",
              "    }\n",
              "</style>\n",
              "<table border=\"1\" class=\"dataframe\">\n",
              "  <thead>\n",
              "    <tr style=\"text-align: right;\">\n",
              "      <th></th>\n",
              "      <th>feature</th>\n",
              "      <th>weight</th>\n",
              "      <th>std</th>\n",
              "    </tr>\n",
              "  </thead>\n",
              "  <tbody>\n",
              "    <tr>\n",
              "      <th>0</th>\n",
              "      <td>2_Cz_θ/Low β (410)</td>\n",
              "      <td>0.861288</td>\n",
              "      <td>0.124137</td>\n",
              "    </tr>\n",
              "    <tr>\n",
              "      <th>1</th>\n",
              "      <td>1_P3_θ (126)</td>\n",
              "      <td>0.604913</td>\n",
              "      <td>0.106828</td>\n",
              "    </tr>\n",
              "    <tr>\n",
              "      <th>2</th>\n",
              "      <td>2_Cz_Low β (334)</td>\n",
              "      <td>0.362078</td>\n",
              "      <td>0.071947</td>\n",
              "    </tr>\n",
              "    <tr>\n",
              "      <th>3</th>\n",
              "      <td>1_Pz_θ (130)</td>\n",
              "      <td>0.214322</td>\n",
              "      <td>0.047065</td>\n",
              "    </tr>\n",
              "    <tr>\n",
              "      <th>4</th>\n",
              "      <td>1_P7_Fast α (318)</td>\n",
              "      <td>0.148675</td>\n",
              "      <td>0.048820</td>\n",
              "    </tr>\n",
              "    <tr>\n",
              "      <th>...</th>\n",
              "      <td>...</td>\n",
              "      <td>...</td>\n",
              "      <td>...</td>\n",
              "    </tr>\n",
              "    <tr>\n",
              "      <th>3798</th>\n",
              "      <td>1_P8_Middle β (357)</td>\n",
              "      <td>-0.000010</td>\n",
              "      <td>0.000008</td>\n",
              "    </tr>\n",
              "    <tr>\n",
              "      <th>3799</th>\n",
              "      <td>0_P7_α/High β (869)</td>\n",
              "      <td>-0.000013</td>\n",
              "      <td>0.000014</td>\n",
              "    </tr>\n",
              "    <tr>\n",
              "      <th>3800</th>\n",
              "      <td>2_P3_Slow α/Low β (905)</td>\n",
              "      <td>-0.000023</td>\n",
              "      <td>0.000049</td>\n",
              "    </tr>\n",
              "    <tr>\n",
              "      <th>3801</th>\n",
              "      <td>1_T7_Low β (332)</td>\n",
              "      <td>-0.000024</td>\n",
              "      <td>0.000036</td>\n",
              "    </tr>\n",
              "    <tr>\n",
              "      <th>3802</th>\n",
              "      <td>2_P3_Low β (335)</td>\n",
              "      <td>-0.000028</td>\n",
              "      <td>0.000025</td>\n",
              "    </tr>\n",
              "  </tbody>\n",
              "</table>\n",
              "<p>3803 rows × 3 columns</p>\n",
              "</div>\n",
              "      <button class=\"colab-df-convert\" onclick=\"convertToInteractive('df-c85e83dc-97f7-4a46-8128-f8fccbd99df5')\"\n",
              "              title=\"Convert this dataframe to an interactive table.\"\n",
              "              style=\"display:none;\">\n",
              "        \n",
              "  <svg xmlns=\"http://www.w3.org/2000/svg\" height=\"24px\"viewBox=\"0 0 24 24\"\n",
              "       width=\"24px\">\n",
              "    <path d=\"M0 0h24v24H0V0z\" fill=\"none\"/>\n",
              "    <path d=\"M18.56 5.44l.94 2.06.94-2.06 2.06-.94-2.06-.94-.94-2.06-.94 2.06-2.06.94zm-11 1L8.5 8.5l.94-2.06 2.06-.94-2.06-.94L8.5 2.5l-.94 2.06-2.06.94zm10 10l.94 2.06.94-2.06 2.06-.94-2.06-.94-.94-2.06-.94 2.06-2.06.94z\"/><path d=\"M17.41 7.96l-1.37-1.37c-.4-.4-.92-.59-1.43-.59-.52 0-1.04.2-1.43.59L10.3 9.45l-7.72 7.72c-.78.78-.78 2.05 0 2.83L4 21.41c.39.39.9.59 1.41.59.51 0 1.02-.2 1.41-.59l7.78-7.78 2.81-2.81c.8-.78.8-2.07 0-2.86zM5.41 20L4 18.59l7.72-7.72 1.47 1.35L5.41 20z\"/>\n",
              "  </svg>\n",
              "      </button>\n",
              "      \n",
              "  <style>\n",
              "    .colab-df-container {\n",
              "      display:flex;\n",
              "      flex-wrap:wrap;\n",
              "      gap: 12px;\n",
              "    }\n",
              "\n",
              "    .colab-df-convert {\n",
              "      background-color: #E8F0FE;\n",
              "      border: none;\n",
              "      border-radius: 50%;\n",
              "      cursor: pointer;\n",
              "      display: none;\n",
              "      fill: #1967D2;\n",
              "      height: 32px;\n",
              "      padding: 0 0 0 0;\n",
              "      width: 32px;\n",
              "    }\n",
              "\n",
              "    .colab-df-convert:hover {\n",
              "      background-color: #E2EBFA;\n",
              "      box-shadow: 0px 1px 2px rgba(60, 64, 67, 0.3), 0px 1px 3px 1px rgba(60, 64, 67, 0.15);\n",
              "      fill: #174EA6;\n",
              "    }\n",
              "\n",
              "    [theme=dark] .colab-df-convert {\n",
              "      background-color: #3B4455;\n",
              "      fill: #D2E3FC;\n",
              "    }\n",
              "\n",
              "    [theme=dark] .colab-df-convert:hover {\n",
              "      background-color: #434B5C;\n",
              "      box-shadow: 0px 1px 3px 1px rgba(0, 0, 0, 0.15);\n",
              "      filter: drop-shadow(0px 1px 2px rgba(0, 0, 0, 0.3));\n",
              "      fill: #FFFFFF;\n",
              "    }\n",
              "  </style>\n",
              "\n",
              "      <script>\n",
              "        const buttonEl =\n",
              "          document.querySelector('#df-c85e83dc-97f7-4a46-8128-f8fccbd99df5 button.colab-df-convert');\n",
              "        buttonEl.style.display =\n",
              "          google.colab.kernel.accessAllowed ? 'block' : 'none';\n",
              "\n",
              "        async function convertToInteractive(key) {\n",
              "          const element = document.querySelector('#df-c85e83dc-97f7-4a46-8128-f8fccbd99df5');\n",
              "          const dataTable =\n",
              "            await google.colab.kernel.invokeFunction('convertToInteractive',\n",
              "                                                     [key], {});\n",
              "          if (!dataTable) return;\n",
              "\n",
              "          const docLinkHtml = 'Like what you see? Visit the ' +\n",
              "            '<a target=\"_blank\" href=https://colab.research.google.com/notebooks/data_table.ipynb>data table notebook</a>'\n",
              "            + ' to learn more about interactive tables.';\n",
              "          element.innerHTML = '';\n",
              "          dataTable['output_type'] = 'display_data';\n",
              "          await google.colab.output.renderOutput(dataTable, element);\n",
              "          const docLink = document.createElement('div');\n",
              "          docLink.innerHTML = docLinkHtml;\n",
              "          element.appendChild(docLink);\n",
              "        }\n",
              "      </script>\n",
              "    </div>\n",
              "  </div>\n",
              "  "
            ]
          },
          "metadata": {},
          "execution_count": 43
        }
      ]
    },
    {
      "cell_type": "code",
      "source": [
        "sample_z = eli5.explain_weights_df(perm_z, feature_names=x_train.columns.tolist())\n",
        "sample_z # about 코르티솔 weight"
      ],
      "metadata": {
        "colab": {
          "base_uri": "https://localhost:8080/",
          "height": 333
        },
        "id": "tDEhcF--ODA3",
        "outputId": "2d126dff-1975-46d7-b4e3-736a3abd39b9"
      },
      "execution_count": null,
      "outputs": [
        {
          "output_type": "execute_result",
          "data": {
            "text/plain": [
              "                    feature    weight           std\n",
              "0     3_C3_Alpha Peak (691)  0.155573  1.364806e-02\n",
              "1     3_Fz_Alpha Peak (690)  0.071965  5.706143e-03\n",
              "2            0_Pz_θ/β (396)  0.047340  7.991195e-03\n",
              "3        0_O2_θ/Low β (759)  0.033740  3.545240e-03\n",
              "4            0_F7_θ/β (384)  0.028199  7.095283e-03\n",
              "...                     ...       ...           ...\n",
              "3798    0_O2_Slow α/β (550) -0.000028  8.830184e-06\n",
              "3799         1_C3_α/β (463) -0.000028  9.192649e-06\n",
              "3800      0_O1_High β (378) -0.000029  1.440307e-05\n",
              "3801    0_C4_Slow α/β (540) -0.000032  0.000000e+00\n",
              "3802         0_T8_α/β (466) -0.000033  5.014968e-07\n",
              "\n",
              "[3803 rows x 3 columns]"
            ],
            "text/html": [
              "\n",
              "  <div id=\"df-024aa81d-8136-48df-8d8c-8c08dedaace3\">\n",
              "    <div class=\"colab-df-container\">\n",
              "      <div>\n",
              "<style scoped>\n",
              "    .dataframe tbody tr th:only-of-type {\n",
              "        vertical-align: middle;\n",
              "    }\n",
              "\n",
              "    .dataframe tbody tr th {\n",
              "        vertical-align: top;\n",
              "    }\n",
              "\n",
              "    .dataframe thead th {\n",
              "        text-align: right;\n",
              "    }\n",
              "</style>\n",
              "<table border=\"1\" class=\"dataframe\">\n",
              "  <thead>\n",
              "    <tr style=\"text-align: right;\">\n",
              "      <th></th>\n",
              "      <th>feature</th>\n",
              "      <th>weight</th>\n",
              "      <th>std</th>\n",
              "    </tr>\n",
              "  </thead>\n",
              "  <tbody>\n",
              "    <tr>\n",
              "      <th>0</th>\n",
              "      <td>3_C3_Alpha Peak (691)</td>\n",
              "      <td>0.155573</td>\n",
              "      <td>1.364806e-02</td>\n",
              "    </tr>\n",
              "    <tr>\n",
              "      <th>1</th>\n",
              "      <td>3_Fz_Alpha Peak (690)</td>\n",
              "      <td>0.071965</td>\n",
              "      <td>5.706143e-03</td>\n",
              "    </tr>\n",
              "    <tr>\n",
              "      <th>2</th>\n",
              "      <td>0_Pz_θ/β (396)</td>\n",
              "      <td>0.047340</td>\n",
              "      <td>7.991195e-03</td>\n",
              "    </tr>\n",
              "    <tr>\n",
              "      <th>3</th>\n",
              "      <td>0_O2_θ/Low β (759)</td>\n",
              "      <td>0.033740</td>\n",
              "      <td>3.545240e-03</td>\n",
              "    </tr>\n",
              "    <tr>\n",
              "      <th>4</th>\n",
              "      <td>0_F7_θ/β (384)</td>\n",
              "      <td>0.028199</td>\n",
              "      <td>7.095283e-03</td>\n",
              "    </tr>\n",
              "    <tr>\n",
              "      <th>...</th>\n",
              "      <td>...</td>\n",
              "      <td>...</td>\n",
              "      <td>...</td>\n",
              "    </tr>\n",
              "    <tr>\n",
              "      <th>3798</th>\n",
              "      <td>0_O2_Slow α/β (550)</td>\n",
              "      <td>-0.000028</td>\n",
              "      <td>8.830184e-06</td>\n",
              "    </tr>\n",
              "    <tr>\n",
              "      <th>3799</th>\n",
              "      <td>1_C3_α/β (463)</td>\n",
              "      <td>-0.000028</td>\n",
              "      <td>9.192649e-06</td>\n",
              "    </tr>\n",
              "    <tr>\n",
              "      <th>3800</th>\n",
              "      <td>0_O1_High β (378)</td>\n",
              "      <td>-0.000029</td>\n",
              "      <td>1.440307e-05</td>\n",
              "    </tr>\n",
              "    <tr>\n",
              "      <th>3801</th>\n",
              "      <td>0_C4_Slow α/β (540)</td>\n",
              "      <td>-0.000032</td>\n",
              "      <td>0.000000e+00</td>\n",
              "    </tr>\n",
              "    <tr>\n",
              "      <th>3802</th>\n",
              "      <td>0_T8_α/β (466)</td>\n",
              "      <td>-0.000033</td>\n",
              "      <td>5.014968e-07</td>\n",
              "    </tr>\n",
              "  </tbody>\n",
              "</table>\n",
              "<p>3803 rows × 3 columns</p>\n",
              "</div>\n",
              "      <button class=\"colab-df-convert\" onclick=\"convertToInteractive('df-024aa81d-8136-48df-8d8c-8c08dedaace3')\"\n",
              "              title=\"Convert this dataframe to an interactive table.\"\n",
              "              style=\"display:none;\">\n",
              "        \n",
              "  <svg xmlns=\"http://www.w3.org/2000/svg\" height=\"24px\"viewBox=\"0 0 24 24\"\n",
              "       width=\"24px\">\n",
              "    <path d=\"M0 0h24v24H0V0z\" fill=\"none\"/>\n",
              "    <path d=\"M18.56 5.44l.94 2.06.94-2.06 2.06-.94-2.06-.94-.94-2.06-.94 2.06-2.06.94zm-11 1L8.5 8.5l.94-2.06 2.06-.94-2.06-.94L8.5 2.5l-.94 2.06-2.06.94zm10 10l.94 2.06.94-2.06 2.06-.94-2.06-.94-.94-2.06-.94 2.06-2.06.94z\"/><path d=\"M17.41 7.96l-1.37-1.37c-.4-.4-.92-.59-1.43-.59-.52 0-1.04.2-1.43.59L10.3 9.45l-7.72 7.72c-.78.78-.78 2.05 0 2.83L4 21.41c.39.39.9.59 1.41.59.51 0 1.02-.2 1.41-.59l7.78-7.78 2.81-2.81c.8-.78.8-2.07 0-2.86zM5.41 20L4 18.59l7.72-7.72 1.47 1.35L5.41 20z\"/>\n",
              "  </svg>\n",
              "      </button>\n",
              "      \n",
              "  <style>\n",
              "    .colab-df-container {\n",
              "      display:flex;\n",
              "      flex-wrap:wrap;\n",
              "      gap: 12px;\n",
              "    }\n",
              "\n",
              "    .colab-df-convert {\n",
              "      background-color: #E8F0FE;\n",
              "      border: none;\n",
              "      border-radius: 50%;\n",
              "      cursor: pointer;\n",
              "      display: none;\n",
              "      fill: #1967D2;\n",
              "      height: 32px;\n",
              "      padding: 0 0 0 0;\n",
              "      width: 32px;\n",
              "    }\n",
              "\n",
              "    .colab-df-convert:hover {\n",
              "      background-color: #E2EBFA;\n",
              "      box-shadow: 0px 1px 2px rgba(60, 64, 67, 0.3), 0px 1px 3px 1px rgba(60, 64, 67, 0.15);\n",
              "      fill: #174EA6;\n",
              "    }\n",
              "\n",
              "    [theme=dark] .colab-df-convert {\n",
              "      background-color: #3B4455;\n",
              "      fill: #D2E3FC;\n",
              "    }\n",
              "\n",
              "    [theme=dark] .colab-df-convert:hover {\n",
              "      background-color: #434B5C;\n",
              "      box-shadow: 0px 1px 3px 1px rgba(0, 0, 0, 0.15);\n",
              "      filter: drop-shadow(0px 1px 2px rgba(0, 0, 0, 0.3));\n",
              "      fill: #FFFFFF;\n",
              "    }\n",
              "  </style>\n",
              "\n",
              "      <script>\n",
              "        const buttonEl =\n",
              "          document.querySelector('#df-024aa81d-8136-48df-8d8c-8c08dedaace3 button.colab-df-convert');\n",
              "        buttonEl.style.display =\n",
              "          google.colab.kernel.accessAllowed ? 'block' : 'none';\n",
              "\n",
              "        async function convertToInteractive(key) {\n",
              "          const element = document.querySelector('#df-024aa81d-8136-48df-8d8c-8c08dedaace3');\n",
              "          const dataTable =\n",
              "            await google.colab.kernel.invokeFunction('convertToInteractive',\n",
              "                                                     [key], {});\n",
              "          if (!dataTable) return;\n",
              "\n",
              "          const docLinkHtml = 'Like what you see? Visit the ' +\n",
              "            '<a target=\"_blank\" href=https://colab.research.google.com/notebooks/data_table.ipynb>data table notebook</a>'\n",
              "            + ' to learn more about interactive tables.';\n",
              "          element.innerHTML = '';\n",
              "          dataTable['output_type'] = 'display_data';\n",
              "          await google.colab.output.renderOutput(dataTable, element);\n",
              "          const docLink = document.createElement('div');\n",
              "          docLink.innerHTML = docLinkHtml;\n",
              "          element.appendChild(docLink);\n",
              "        }\n",
              "      </script>\n",
              "    </div>\n",
              "  </div>\n",
              "  "
            ]
          },
          "metadata": {},
          "execution_count": 124
        }
      ]
    },
    {
      "cell_type": "code",
      "source": [
        "gbrt_y.get_params(deep=True)"
      ],
      "metadata": {
        "colab": {
          "base_uri": "https://localhost:8080/"
        },
        "id": "GegfsWt2NaZT",
        "outputId": "e34a1dbd-fa53-4d42-866b-73f9ba1f084f"
      },
      "execution_count": null,
      "outputs": [
        {
          "output_type": "execute_result",
          "data": {
            "text/plain": [
              "{'alpha': 0.9,\n",
              " 'ccp_alpha': 0.0,\n",
              " 'criterion': 'friedman_mse',\n",
              " 'init': None,\n",
              " 'learning_rate': 0.01,\n",
              " 'loss': 'squared_error',\n",
              " 'max_depth': 10,\n",
              " 'max_features': None,\n",
              " 'max_leaf_nodes': None,\n",
              " 'min_impurity_decrease': 0.0,\n",
              " 'min_samples_leaf': 1,\n",
              " 'min_samples_split': 2,\n",
              " 'min_weight_fraction_leaf': 0.0,\n",
              " 'n_estimators': 300,\n",
              " 'n_iter_no_change': None,\n",
              " 'random_state': 42,\n",
              " 'subsample': 1.0,\n",
              " 'tol': 0.0001,\n",
              " 'validation_fraction': 0.1,\n",
              " 'verbose': 0,\n",
              " 'warm_start': False}"
            ]
          },
          "metadata": {},
          "execution_count": 46
        }
      ]
    },
    {
      "cell_type": "code",
      "source": [
        "gbrt_z.get_params(deep=True)"
      ],
      "metadata": {
        "colab": {
          "base_uri": "https://localhost:8080/"
        },
        "id": "ijKfzDvPegkl",
        "outputId": "671e29b6-79c4-4871-f2fa-8fd01d35be5b"
      },
      "execution_count": null,
      "outputs": [
        {
          "output_type": "execute_result",
          "data": {
            "text/plain": [
              "{'alpha': 0.9,\n",
              " 'ccp_alpha': 0.0,\n",
              " 'criterion': 'friedman_mse',\n",
              " 'init': None,\n",
              " 'learning_rate': 0.01,\n",
              " 'loss': 'squared_error',\n",
              " 'max_depth': 10,\n",
              " 'max_features': None,\n",
              " 'max_leaf_nodes': None,\n",
              " 'min_impurity_decrease': 0.0,\n",
              " 'min_samples_leaf': 1,\n",
              " 'min_samples_split': 2,\n",
              " 'min_weight_fraction_leaf': 0.0,\n",
              " 'n_estimators': 300,\n",
              " 'n_iter_no_change': None,\n",
              " 'random_state': 42,\n",
              " 'subsample': 1.0,\n",
              " 'tol': 0.0001,\n",
              " 'validation_fraction': 0.1,\n",
              " 'verbose': 0,\n",
              " 'warm_start': False}"
            ]
          },
          "metadata": {},
          "execution_count": 130
        }
      ]
    },
    {
      "cell_type": "markdown",
      "source": [
        "## emsemble PCA regression"
      ],
      "metadata": {
        "id": "Pk0jTpqgld30"
      }
    },
    {
      "cell_type": "code",
      "source": [
        "pca = PCA(n_components=0.95)\n",
        "Components = pca.fit_transform(x_train)\n"
      ],
      "metadata": {
        "id": "N5lvt03PnF6z"
      },
      "execution_count": null,
      "outputs": []
    },
    {
      "cell_type": "code",
      "source": [],
      "metadata": {
        "id": "gW7Mj0AcywF6"
      },
      "execution_count": null,
      "outputs": []
    },
    {
      "cell_type": "code",
      "source": [
        "pca_x_train = pd.DataFrame(data=Components, columns = ['1','2','3','4','5','6','7','8','9',\n",
        " '10',\n",
        " '11',\n",
        " '12',\n",
        " '13',\n",
        " '14',\n",
        " '15',\n",
        " '16',\n",
        " '17',\n",
        " '18',\n",
        " '19',\n",
        " '20',\n",
        " '21',\n",
        " '22',\n",
        " '23',\n",
        " '24',\n",
        " '25',\n",
        " '26',\n",
        " '27',\n",
        " '28',\n",
        " '29',\n",
        " '30',\n",
        " '31',\n",
        " '32',\n",
        " '33',\n",
        " '34',\n",
        " '35',\n",
        " '36',\n",
        " '37',\n",
        " '38',\n",
        " '39',\n",
        " '40',\n",
        " '41',\n",
        " '42','43','44','45','46','47','48','49','50','51','52','53','54','55','56','57','58','59'])"
      ],
      "metadata": {
        "id": "Ynsi4WiCs-a3"
      },
      "execution_count": null,
      "outputs": []
    },
    {
      "cell_type": "code",
      "source": [
        "sum(pca.explained_variance_ratio_)"
      ],
      "metadata": {
        "colab": {
          "base_uri": "https://localhost:8080/"
        },
        "id": "JHKs20_PrrLz",
        "outputId": "57ad0027-cee6-4407-a9c5-f49482833a2f"
      },
      "execution_count": null,
      "outputs": [
        {
          "output_type": "execute_result",
          "data": {
            "text/plain": [
              "0.9506259445833715"
            ]
          },
          "metadata": {},
          "execution_count": 294
        }
      ]
    },
    {
      "cell_type": "code",
      "source": [
        "pca_x_train"
      ],
      "metadata": {
        "colab": {
          "base_uri": "https://localhost:8080/",
          "height": 488
        },
        "id": "xbFuGm59pXSr",
        "outputId": "f17079f4-11c3-4c26-933b-78d2781c393c"
      },
      "execution_count": null,
      "outputs": [
        {
          "output_type": "execute_result",
          "data": {
            "text/plain": [
              "             1          2          3          4          5          6  \\\n",
              "0    -2.217031  11.870425  -7.000703  12.486761   1.035313  -6.323726   \n",
              "1   -29.326714   9.743968  21.814081   0.869181 -10.835099  -3.440946   \n",
              "2    51.511401   4.425279  -7.775767 -37.428886 -20.585646 -13.767593   \n",
              "3   -19.052795   0.234552  15.149106  -9.903547  -3.041534  11.632326   \n",
              "4   -27.805741  -1.238146   4.523285  -8.492370   2.875643   4.513783   \n",
              "..         ...        ...        ...        ...        ...        ...   \n",
              "175 -34.912108  -2.610251  20.755751  -4.485804  -6.602064   8.029544   \n",
              "176  24.567581  25.521186  24.017155 -10.462242 -19.539596  -9.969854   \n",
              "177  71.835235  -2.705082  -2.098855   9.878712 -10.458778 -13.059061   \n",
              "178  -6.235698  29.725776  38.356385  22.848472  -9.513781 -17.087592   \n",
              "179  63.159301  30.559802  31.746492  11.853165  76.884231 -55.253397   \n",
              "\n",
              "             7          8          9         10  ...        50        51  \\\n",
              "0     9.662344  12.952606  -0.647831  -5.401561  ...  2.055694 -0.486420   \n",
              "1     5.000134  -9.532687  -0.403170   2.174945  ... -0.516739 -5.799568   \n",
              "2   -17.037001  18.153982   9.548459  -1.234318  ...  4.523734 -1.864275   \n",
              "3    13.708338  -3.484910 -10.470705   7.901778  ...  3.220309 -0.489545   \n",
              "4    10.769439  -1.009180   5.588567  -0.039981  ... -4.829697 -0.961738   \n",
              "..         ...        ...        ...        ...  ...       ...       ...   \n",
              "175   5.109532 -10.953141 -10.988244   6.540715  ...  5.908566  3.515224   \n",
              "176  16.105420  -1.244762 -20.440619  15.015758  ...  6.459744  3.279336   \n",
              "177   0.966458   3.102486  22.977395  22.877509  ...  2.722179 -2.821580   \n",
              "178   0.928342 -12.357326   8.396326  -0.236757  ... -4.269655 -2.037198   \n",
              "179  -9.899560 -21.999890 -39.017923   8.538879  ...  0.015109 -9.198396   \n",
              "\n",
              "            52         53         54         55         56         57  \\\n",
              "0     3.306033  -1.557883   0.539864  -1.941667   1.418530   1.407913   \n",
              "1    -4.091094   1.477023  -0.513025  -0.314693  -3.688437   4.309346   \n",
              "2    -0.660078 -13.905707  -3.181279  -6.727405   1.564502  -1.416404   \n",
              "3    -7.148800  -5.592855  -5.404210   0.087866   8.969543   4.084788   \n",
              "4    -9.218083  12.042407 -11.497731  14.138149  -8.321632  -4.567828   \n",
              "..         ...        ...        ...        ...        ...        ...   \n",
              "175   3.698884   4.781297  10.273014 -10.087358  11.265460  -4.089614   \n",
              "176  -8.300504   1.725646  -9.589263  -0.705971  -8.921790   0.658539   \n",
              "177   0.244889   0.721852  -2.327362  -4.523872  -2.957406  -1.804244   \n",
              "178  11.657258  -3.081283  -3.748714   0.763259   0.180948 -10.139802   \n",
              "179  -7.130087  -3.723495  -0.639052  -4.747831  -3.537715  -6.350822   \n",
              "\n",
              "           58         59  \n",
              "0   -0.863908  -2.461336  \n",
              "1    4.740656   1.261672  \n",
              "2    2.612223   1.937448  \n",
              "3   -2.532862  -1.017109  \n",
              "4   -6.462807  18.283558  \n",
              "..        ...        ...  \n",
              "175 -4.135959   2.485944  \n",
              "176  4.932847   2.403710  \n",
              "177  7.962469  -0.782231  \n",
              "178 -4.752946  -3.477521  \n",
              "179  1.231357  -1.666383  \n",
              "\n",
              "[180 rows x 59 columns]"
            ],
            "text/html": [
              "\n",
              "  <div id=\"df-0fa9590c-4868-4cf9-a98b-9600f4acbd1f\">\n",
              "    <div class=\"colab-df-container\">\n",
              "      <div>\n",
              "<style scoped>\n",
              "    .dataframe tbody tr th:only-of-type {\n",
              "        vertical-align: middle;\n",
              "    }\n",
              "\n",
              "    .dataframe tbody tr th {\n",
              "        vertical-align: top;\n",
              "    }\n",
              "\n",
              "    .dataframe thead th {\n",
              "        text-align: right;\n",
              "    }\n",
              "</style>\n",
              "<table border=\"1\" class=\"dataframe\">\n",
              "  <thead>\n",
              "    <tr style=\"text-align: right;\">\n",
              "      <th></th>\n",
              "      <th>1</th>\n",
              "      <th>2</th>\n",
              "      <th>3</th>\n",
              "      <th>4</th>\n",
              "      <th>5</th>\n",
              "      <th>6</th>\n",
              "      <th>7</th>\n",
              "      <th>8</th>\n",
              "      <th>9</th>\n",
              "      <th>10</th>\n",
              "      <th>...</th>\n",
              "      <th>50</th>\n",
              "      <th>51</th>\n",
              "      <th>52</th>\n",
              "      <th>53</th>\n",
              "      <th>54</th>\n",
              "      <th>55</th>\n",
              "      <th>56</th>\n",
              "      <th>57</th>\n",
              "      <th>58</th>\n",
              "      <th>59</th>\n",
              "    </tr>\n",
              "  </thead>\n",
              "  <tbody>\n",
              "    <tr>\n",
              "      <th>0</th>\n",
              "      <td>-2.217031</td>\n",
              "      <td>11.870425</td>\n",
              "      <td>-7.000703</td>\n",
              "      <td>12.486761</td>\n",
              "      <td>1.035313</td>\n",
              "      <td>-6.323726</td>\n",
              "      <td>9.662344</td>\n",
              "      <td>12.952606</td>\n",
              "      <td>-0.647831</td>\n",
              "      <td>-5.401561</td>\n",
              "      <td>...</td>\n",
              "      <td>2.055694</td>\n",
              "      <td>-0.486420</td>\n",
              "      <td>3.306033</td>\n",
              "      <td>-1.557883</td>\n",
              "      <td>0.539864</td>\n",
              "      <td>-1.941667</td>\n",
              "      <td>1.418530</td>\n",
              "      <td>1.407913</td>\n",
              "      <td>-0.863908</td>\n",
              "      <td>-2.461336</td>\n",
              "    </tr>\n",
              "    <tr>\n",
              "      <th>1</th>\n",
              "      <td>-29.326714</td>\n",
              "      <td>9.743968</td>\n",
              "      <td>21.814081</td>\n",
              "      <td>0.869181</td>\n",
              "      <td>-10.835099</td>\n",
              "      <td>-3.440946</td>\n",
              "      <td>5.000134</td>\n",
              "      <td>-9.532687</td>\n",
              "      <td>-0.403170</td>\n",
              "      <td>2.174945</td>\n",
              "      <td>...</td>\n",
              "      <td>-0.516739</td>\n",
              "      <td>-5.799568</td>\n",
              "      <td>-4.091094</td>\n",
              "      <td>1.477023</td>\n",
              "      <td>-0.513025</td>\n",
              "      <td>-0.314693</td>\n",
              "      <td>-3.688437</td>\n",
              "      <td>4.309346</td>\n",
              "      <td>4.740656</td>\n",
              "      <td>1.261672</td>\n",
              "    </tr>\n",
              "    <tr>\n",
              "      <th>2</th>\n",
              "      <td>51.511401</td>\n",
              "      <td>4.425279</td>\n",
              "      <td>-7.775767</td>\n",
              "      <td>-37.428886</td>\n",
              "      <td>-20.585646</td>\n",
              "      <td>-13.767593</td>\n",
              "      <td>-17.037001</td>\n",
              "      <td>18.153982</td>\n",
              "      <td>9.548459</td>\n",
              "      <td>-1.234318</td>\n",
              "      <td>...</td>\n",
              "      <td>4.523734</td>\n",
              "      <td>-1.864275</td>\n",
              "      <td>-0.660078</td>\n",
              "      <td>-13.905707</td>\n",
              "      <td>-3.181279</td>\n",
              "      <td>-6.727405</td>\n",
              "      <td>1.564502</td>\n",
              "      <td>-1.416404</td>\n",
              "      <td>2.612223</td>\n",
              "      <td>1.937448</td>\n",
              "    </tr>\n",
              "    <tr>\n",
              "      <th>3</th>\n",
              "      <td>-19.052795</td>\n",
              "      <td>0.234552</td>\n",
              "      <td>15.149106</td>\n",
              "      <td>-9.903547</td>\n",
              "      <td>-3.041534</td>\n",
              "      <td>11.632326</td>\n",
              "      <td>13.708338</td>\n",
              "      <td>-3.484910</td>\n",
              "      <td>-10.470705</td>\n",
              "      <td>7.901778</td>\n",
              "      <td>...</td>\n",
              "      <td>3.220309</td>\n",
              "      <td>-0.489545</td>\n",
              "      <td>-7.148800</td>\n",
              "      <td>-5.592855</td>\n",
              "      <td>-5.404210</td>\n",
              "      <td>0.087866</td>\n",
              "      <td>8.969543</td>\n",
              "      <td>4.084788</td>\n",
              "      <td>-2.532862</td>\n",
              "      <td>-1.017109</td>\n",
              "    </tr>\n",
              "    <tr>\n",
              "      <th>4</th>\n",
              "      <td>-27.805741</td>\n",
              "      <td>-1.238146</td>\n",
              "      <td>4.523285</td>\n",
              "      <td>-8.492370</td>\n",
              "      <td>2.875643</td>\n",
              "      <td>4.513783</td>\n",
              "      <td>10.769439</td>\n",
              "      <td>-1.009180</td>\n",
              "      <td>5.588567</td>\n",
              "      <td>-0.039981</td>\n",
              "      <td>...</td>\n",
              "      <td>-4.829697</td>\n",
              "      <td>-0.961738</td>\n",
              "      <td>-9.218083</td>\n",
              "      <td>12.042407</td>\n",
              "      <td>-11.497731</td>\n",
              "      <td>14.138149</td>\n",
              "      <td>-8.321632</td>\n",
              "      <td>-4.567828</td>\n",
              "      <td>-6.462807</td>\n",
              "      <td>18.283558</td>\n",
              "    </tr>\n",
              "    <tr>\n",
              "      <th>...</th>\n",
              "      <td>...</td>\n",
              "      <td>...</td>\n",
              "      <td>...</td>\n",
              "      <td>...</td>\n",
              "      <td>...</td>\n",
              "      <td>...</td>\n",
              "      <td>...</td>\n",
              "      <td>...</td>\n",
              "      <td>...</td>\n",
              "      <td>...</td>\n",
              "      <td>...</td>\n",
              "      <td>...</td>\n",
              "      <td>...</td>\n",
              "      <td>...</td>\n",
              "      <td>...</td>\n",
              "      <td>...</td>\n",
              "      <td>...</td>\n",
              "      <td>...</td>\n",
              "      <td>...</td>\n",
              "      <td>...</td>\n",
              "      <td>...</td>\n",
              "    </tr>\n",
              "    <tr>\n",
              "      <th>175</th>\n",
              "      <td>-34.912108</td>\n",
              "      <td>-2.610251</td>\n",
              "      <td>20.755751</td>\n",
              "      <td>-4.485804</td>\n",
              "      <td>-6.602064</td>\n",
              "      <td>8.029544</td>\n",
              "      <td>5.109532</td>\n",
              "      <td>-10.953141</td>\n",
              "      <td>-10.988244</td>\n",
              "      <td>6.540715</td>\n",
              "      <td>...</td>\n",
              "      <td>5.908566</td>\n",
              "      <td>3.515224</td>\n",
              "      <td>3.698884</td>\n",
              "      <td>4.781297</td>\n",
              "      <td>10.273014</td>\n",
              "      <td>-10.087358</td>\n",
              "      <td>11.265460</td>\n",
              "      <td>-4.089614</td>\n",
              "      <td>-4.135959</td>\n",
              "      <td>2.485944</td>\n",
              "    </tr>\n",
              "    <tr>\n",
              "      <th>176</th>\n",
              "      <td>24.567581</td>\n",
              "      <td>25.521186</td>\n",
              "      <td>24.017155</td>\n",
              "      <td>-10.462242</td>\n",
              "      <td>-19.539596</td>\n",
              "      <td>-9.969854</td>\n",
              "      <td>16.105420</td>\n",
              "      <td>-1.244762</td>\n",
              "      <td>-20.440619</td>\n",
              "      <td>15.015758</td>\n",
              "      <td>...</td>\n",
              "      <td>6.459744</td>\n",
              "      <td>3.279336</td>\n",
              "      <td>-8.300504</td>\n",
              "      <td>1.725646</td>\n",
              "      <td>-9.589263</td>\n",
              "      <td>-0.705971</td>\n",
              "      <td>-8.921790</td>\n",
              "      <td>0.658539</td>\n",
              "      <td>4.932847</td>\n",
              "      <td>2.403710</td>\n",
              "    </tr>\n",
              "    <tr>\n",
              "      <th>177</th>\n",
              "      <td>71.835235</td>\n",
              "      <td>-2.705082</td>\n",
              "      <td>-2.098855</td>\n",
              "      <td>9.878712</td>\n",
              "      <td>-10.458778</td>\n",
              "      <td>-13.059061</td>\n",
              "      <td>0.966458</td>\n",
              "      <td>3.102486</td>\n",
              "      <td>22.977395</td>\n",
              "      <td>22.877509</td>\n",
              "      <td>...</td>\n",
              "      <td>2.722179</td>\n",
              "      <td>-2.821580</td>\n",
              "      <td>0.244889</td>\n",
              "      <td>0.721852</td>\n",
              "      <td>-2.327362</td>\n",
              "      <td>-4.523872</td>\n",
              "      <td>-2.957406</td>\n",
              "      <td>-1.804244</td>\n",
              "      <td>7.962469</td>\n",
              "      <td>-0.782231</td>\n",
              "    </tr>\n",
              "    <tr>\n",
              "      <th>178</th>\n",
              "      <td>-6.235698</td>\n",
              "      <td>29.725776</td>\n",
              "      <td>38.356385</td>\n",
              "      <td>22.848472</td>\n",
              "      <td>-9.513781</td>\n",
              "      <td>-17.087592</td>\n",
              "      <td>0.928342</td>\n",
              "      <td>-12.357326</td>\n",
              "      <td>8.396326</td>\n",
              "      <td>-0.236757</td>\n",
              "      <td>...</td>\n",
              "      <td>-4.269655</td>\n",
              "      <td>-2.037198</td>\n",
              "      <td>11.657258</td>\n",
              "      <td>-3.081283</td>\n",
              "      <td>-3.748714</td>\n",
              "      <td>0.763259</td>\n",
              "      <td>0.180948</td>\n",
              "      <td>-10.139802</td>\n",
              "      <td>-4.752946</td>\n",
              "      <td>-3.477521</td>\n",
              "    </tr>\n",
              "    <tr>\n",
              "      <th>179</th>\n",
              "      <td>63.159301</td>\n",
              "      <td>30.559802</td>\n",
              "      <td>31.746492</td>\n",
              "      <td>11.853165</td>\n",
              "      <td>76.884231</td>\n",
              "      <td>-55.253397</td>\n",
              "      <td>-9.899560</td>\n",
              "      <td>-21.999890</td>\n",
              "      <td>-39.017923</td>\n",
              "      <td>8.538879</td>\n",
              "      <td>...</td>\n",
              "      <td>0.015109</td>\n",
              "      <td>-9.198396</td>\n",
              "      <td>-7.130087</td>\n",
              "      <td>-3.723495</td>\n",
              "      <td>-0.639052</td>\n",
              "      <td>-4.747831</td>\n",
              "      <td>-3.537715</td>\n",
              "      <td>-6.350822</td>\n",
              "      <td>1.231357</td>\n",
              "      <td>-1.666383</td>\n",
              "    </tr>\n",
              "  </tbody>\n",
              "</table>\n",
              "<p>180 rows × 59 columns</p>\n",
              "</div>\n",
              "      <button class=\"colab-df-convert\" onclick=\"convertToInteractive('df-0fa9590c-4868-4cf9-a98b-9600f4acbd1f')\"\n",
              "              title=\"Convert this dataframe to an interactive table.\"\n",
              "              style=\"display:none;\">\n",
              "        \n",
              "  <svg xmlns=\"http://www.w3.org/2000/svg\" height=\"24px\"viewBox=\"0 0 24 24\"\n",
              "       width=\"24px\">\n",
              "    <path d=\"M0 0h24v24H0V0z\" fill=\"none\"/>\n",
              "    <path d=\"M18.56 5.44l.94 2.06.94-2.06 2.06-.94-2.06-.94-.94-2.06-.94 2.06-2.06.94zm-11 1L8.5 8.5l.94-2.06 2.06-.94-2.06-.94L8.5 2.5l-.94 2.06-2.06.94zm10 10l.94 2.06.94-2.06 2.06-.94-2.06-.94-.94-2.06-.94 2.06-2.06.94z\"/><path d=\"M17.41 7.96l-1.37-1.37c-.4-.4-.92-.59-1.43-.59-.52 0-1.04.2-1.43.59L10.3 9.45l-7.72 7.72c-.78.78-.78 2.05 0 2.83L4 21.41c.39.39.9.59 1.41.59.51 0 1.02-.2 1.41-.59l7.78-7.78 2.81-2.81c.8-.78.8-2.07 0-2.86zM5.41 20L4 18.59l7.72-7.72 1.47 1.35L5.41 20z\"/>\n",
              "  </svg>\n",
              "      </button>\n",
              "      \n",
              "  <style>\n",
              "    .colab-df-container {\n",
              "      display:flex;\n",
              "      flex-wrap:wrap;\n",
              "      gap: 12px;\n",
              "    }\n",
              "\n",
              "    .colab-df-convert {\n",
              "      background-color: #E8F0FE;\n",
              "      border: none;\n",
              "      border-radius: 50%;\n",
              "      cursor: pointer;\n",
              "      display: none;\n",
              "      fill: #1967D2;\n",
              "      height: 32px;\n",
              "      padding: 0 0 0 0;\n",
              "      width: 32px;\n",
              "    }\n",
              "\n",
              "    .colab-df-convert:hover {\n",
              "      background-color: #E2EBFA;\n",
              "      box-shadow: 0px 1px 2px rgba(60, 64, 67, 0.3), 0px 1px 3px 1px rgba(60, 64, 67, 0.15);\n",
              "      fill: #174EA6;\n",
              "    }\n",
              "\n",
              "    [theme=dark] .colab-df-convert {\n",
              "      background-color: #3B4455;\n",
              "      fill: #D2E3FC;\n",
              "    }\n",
              "\n",
              "    [theme=dark] .colab-df-convert:hover {\n",
              "      background-color: #434B5C;\n",
              "      box-shadow: 0px 1px 3px 1px rgba(0, 0, 0, 0.15);\n",
              "      filter: drop-shadow(0px 1px 2px rgba(0, 0, 0, 0.3));\n",
              "      fill: #FFFFFF;\n",
              "    }\n",
              "  </style>\n",
              "\n",
              "      <script>\n",
              "        const buttonEl =\n",
              "          document.querySelector('#df-0fa9590c-4868-4cf9-a98b-9600f4acbd1f button.colab-df-convert');\n",
              "        buttonEl.style.display =\n",
              "          google.colab.kernel.accessAllowed ? 'block' : 'none';\n",
              "\n",
              "        async function convertToInteractive(key) {\n",
              "          const element = document.querySelector('#df-0fa9590c-4868-4cf9-a98b-9600f4acbd1f');\n",
              "          const dataTable =\n",
              "            await google.colab.kernel.invokeFunction('convertToInteractive',\n",
              "                                                     [key], {});\n",
              "          if (!dataTable) return;\n",
              "\n",
              "          const docLinkHtml = 'Like what you see? Visit the ' +\n",
              "            '<a target=\"_blank\" href=https://colab.research.google.com/notebooks/data_table.ipynb>data table notebook</a>'\n",
              "            + ' to learn more about interactive tables.';\n",
              "          element.innerHTML = '';\n",
              "          dataTable['output_type'] = 'display_data';\n",
              "          await google.colab.output.renderOutput(dataTable, element);\n",
              "          const docLink = document.createElement('div');\n",
              "          docLink.innerHTML = docLinkHtml;\n",
              "          element.appendChild(docLink);\n",
              "        }\n",
              "      </script>\n",
              "    </div>\n",
              "  </div>\n",
              "  "
            ]
          },
          "metadata": {},
          "execution_count": 295
        }
      ]
    },
    {
      "cell_type": "code",
      "source": [
        "gbrt_y_pca = GradientBoostingRegressor(max_depth=10, n_estimators=300, learning_rate=1e-2, random_state=42)\n",
        "gbrt_z_pca = GradientBoostingRegressor(max_depth=10, n_estimators=300, learning_rate=1e-2, random_state=42)\n",
        "gbrt_y_pca.fit(pca_x_train, y.values.ravel())\n",
        "gbrt_z_pca.fit(pca_x_train, z.values.ravel())\n"
      ],
      "metadata": {
        "colab": {
          "base_uri": "https://localhost:8080/"
        },
        "id": "mXrB9Y1ToN5J",
        "outputId": "9e3ff966-32e2-44de-829a-40a16a0cbcde"
      },
      "execution_count": null,
      "outputs": [
        {
          "output_type": "execute_result",
          "data": {
            "text/plain": [
              "GradientBoostingRegressor(learning_rate=0.01, max_depth=10, n_estimators=300,\n",
              "                          random_state=42)"
            ]
          },
          "metadata": {},
          "execution_count": 300
        }
      ]
    },
    {
      "cell_type": "code",
      "source": [
        "gbrt_y_pca.score(pca_x_train,y) #pca ensemble score about PSS"
      ],
      "metadata": {
        "colab": {
          "base_uri": "https://localhost:8080/"
        },
        "id": "LpZ33HvBqF09",
        "outputId": "4909d5ab-2f64-4924-d8ea-279f00026386"
      },
      "execution_count": null,
      "outputs": [
        {
          "output_type": "execute_result",
          "data": {
            "text/plain": [
              "0.9972640320461996"
            ]
          },
          "metadata": {},
          "execution_count": 282
        }
      ]
    },
    {
      "cell_type": "code",
      "source": [
        "gbrt_z_pca.score(pca_x_train,z) #pca ensemble score about 코르티솔"
      ],
      "metadata": {
        "colab": {
          "base_uri": "https://localhost:8080/"
        },
        "id": "aRY5ux7XqgPL",
        "outputId": "f0585b5d-6133-4d24-f9db-895230ae0b92"
      },
      "execution_count": null,
      "outputs": [
        {
          "output_type": "execute_result",
          "data": {
            "text/plain": [
              "0.9966233758182531"
            ]
          },
          "metadata": {},
          "execution_count": 283
        }
      ]
    },
    {
      "cell_type": "markdown",
      "source": [
        "## svm visualize"
      ],
      "metadata": {
        "id": "_N9gBg9jHyZl"
      }
    },
    {
      "cell_type": "code",
      "source": [
        "fig = plt.figure()\n",
        "fig.set_size_inches(10,6)\n",
        "plt.scatter(y, y_pred_svm,alpha=0.4,label='PSS')\n",
        "plt.title(\"svm model\")\n",
        "plt.xlabel(\"y\")\n",
        "plt.ylabel(\"y_pred\")\n",
        "plt.legend()\n",
        "plt.show()"
      ],
      "metadata": {
        "id": "jztTx1QeNclK",
        "colab": {
          "base_uri": "https://localhost:8080/",
          "height": 404
        },
        "outputId": "30d67c25-118c-4129-b351-9bee4e27017c"
      },
      "execution_count": null,
      "outputs": [
        {
          "output_type": "display_data",
          "data": {
            "text/plain": [
              "<Figure size 720x432 with 1 Axes>"
            ],
            "image/png": "[encoded data removed]"
          },
          "metadata": {
            "needs_background": "light"
          }
        }
      ]
    },
    {
      "cell_type": "code",
      "source": [
        "fig = plt.figure()\n",
        "fig.set_size_inches(10,6)\n",
        "plt.scatter(z, z_pred_svm,alpha=0.4,label='cortisol')\n",
        "plt.title(\"svm model\")\n",
        "plt.xlabel(\"Data\")\n",
        "plt.ylabel(\"z_pred\")\n",
        "plt.legend()\n",
        "plt.show()"
      ],
      "metadata": {
        "id": "B2NXYsAvPPkj",
        "colab": {
          "base_uri": "https://localhost:8080/",
          "height": 404
        },
        "outputId": "6e32bb63-858b-4b19-8cae-94aef4b3b9f8"
      },
      "execution_count": null,
      "outputs": [
        {
          "output_type": "display_data",
          "data": {
            "text/plain": [
              "<Figure size 720x432 with 1 Axes>"
            ],
            "image/png": "[encoded data removed]"
          },
          "metadata": {
            "needs_background": "light"
          }
        }
      ]
    },
    {
      "cell_type": "markdown",
      "source": [
        "## ensemble visulalize"
      ],
      "metadata": {
        "id": "HJ4SF1omI6wB"
      }
    },
    {
      "cell_type": "code",
      "source": [
        "y_pred_ensemble = gbrt_y.predict(x_train)\n",
        "z_pred_ensemble = gbrt_z.predict(x_train)\n",
        "y_pred_ensemble_pca=gbrt_y_pca.predict(pca_x_train)\n",
        "z_pred_ensemble_pca=gbrt_z_pca.predict(pca_x_train)"
      ],
      "metadata": {
        "id": "C7xk0b9ZKW5x"
      },
      "execution_count": null,
      "outputs": []
    },
    {
      "cell_type": "code",
      "source": [
        "fig = plt.figure()\n",
        "fig.set_size_inches(10,6)\n",
        "plt.scatter(y, y_pred_ensemble,alpha=0.4,label='PSS')\n",
        "plt.title(\"Gradient boosint model\")\n",
        "plt.xlabel(\"value\")\n",
        "plt.ylabel(\"predict_value\")\n",
        "plt.legend()\n",
        "plt.show()"
      ],
      "metadata": {
        "id": "cacV-361J27D",
        "colab": {
          "base_uri": "https://localhost:8080/",
          "height": 404
        },
        "outputId": "6b34edf8-d2b9-4598-8ced-8521aeb82d05"
      },
      "execution_count": null,
      "outputs": [
        {
          "output_type": "display_data",
          "data": {
            "text/plain": [
              "<Figure size 720x432 with 1 Axes>"
            ],
            "image/png": "[encoded data removed]"
          },
          "metadata": {
            "needs_background": "light"
          }
        }
      ]
    },
    {
      "cell_type": "code",
      "source": [
        "fig = plt.figure()\n",
        "fig.set_size_inches(10,6)\n",
        "plt.scatter(z, z_pred_ensemble,alpha=0.4,label='cortisol')\n",
        "plt.title(\"Gradient boosint model\")\n",
        "plt.xlabel(\"value\")\n",
        "plt.ylabel(\"predict_value\")\n",
        "plt.legend()\n",
        "plt.show()"
      ],
      "metadata": {
        "id": "xuwNmwNGNOTl",
        "colab": {
          "base_uri": "https://localhost:8080/",
          "height": 404
        },
        "outputId": "f7c749f0-7c45-4bdd-e530-006e6c0cf43d"
      },
      "execution_count": null,
      "outputs": [
        {
          "output_type": "display_data",
          "data": {
            "text/plain": [
              "<Figure size 720x432 with 1 Axes>"
            ],
            "image/png": "[encoded data removed]"
          },
          "metadata": {
            "needs_background": "light"
          }
        }
      ]
    },
    {
      "cell_type": "code",
      "source": [
        "fig = plt.figure()\n",
        "fig.set_size_inches(10,6)\n",
        "plt.scatter(y, y_pred_ensemble_pca,alpha=0.4,label='PSS')\n",
        "plt.title(\"pca gradient boosting model\")\n",
        "plt.xlabel(\"value\")\n",
        "plt.ylabel(\"predict_value\")\n",
        "plt.legend()\n",
        "plt.show()"
      ],
      "metadata": {
        "id": "K7J673ti2Jm0",
        "outputId": "2f832dad-3aac-4fe0-9839-96518e1ab618",
        "colab": {
          "base_uri": "https://localhost:8080/",
          "height": 404
        }
      },
      "execution_count": null,
      "outputs": [
        {
          "output_type": "display_data",
          "data": {
            "text/plain": [
              "<Figure size 720x432 with 1 Axes>"
            ],
            "image/png": "[encoded data removed]"
          },
          "metadata": {
            "needs_background": "light"
          }
        }
      ]
    },
    {
      "cell_type": "code",
      "source": [
        "fig = plt.figure()\n",
        "fig.set_size_inches(10,6)\n",
        "plt.scatter(z, z_pred_ensemble_pca,alpha=0.4,label='cortisol')\n",
        "plt.title(\"pca Gradient boosint model\")\n",
        "plt.xlabel(\"value\")\n",
        "plt.ylabel(\"predict_value\")\n",
        "plt.legend()\n",
        "plt.show()"
      ],
      "metadata": {
        "colab": {
          "base_uri": "https://localhost:8080/",
          "height": 404
        },
        "id": "UISAMXqt1_bU",
        "outputId": "271a8d96-a87c-48a0-89d6-22b6037746a1"
      },
      "execution_count": null,
      "outputs": [
        {
          "output_type": "display_data",
          "data": {
            "text/plain": [
              "<Figure size 720x432 with 1 Axes>"
            ],
            "image/png": "[encoded data removed]"
          },
          "metadata": {
            "needs_background": "light"
          }
        }
      ]
    },
    {
      "cell_type": "markdown",
      "source": [
        "##column별 관계"
      ],
      "metadata": {
        "id": "0rMOT9E7SAGY"
      }
    },
    {
      "cell_type": "code",
      "source": [
        "fig = plt.figure()\n",
        "fig.set_size_inches(12, 8)\n",
        "plt.scatter(df[[\"2_Cz_Low β (334)\"]],df[['PSS(지각된 스트레스 척도)']],alpha=0.6)\n",
        "plt.show()"
      ],
      "metadata": {
        "id": "oaQgKy1Wx6rH",
        "colab": {
          "base_uri": "https://localhost:8080/"
        },
        "outputId": "027c391d-e543-4767-bd29-55ec07225aa8"
      },
      "execution_count": null,
      "outputs": [
        {
          "output_type": "display_data",
          "data": {
            "text/plain": [
              "<Figure size 864x576 with 1 Axes>"
            ],
            "image/png": "[encoded data removed]"
          },
          "metadata": {
            "needs_background": "light"
          }
        }
      ]
    },
    {
      "cell_type": "code",
      "source": [
        "fig = plt.figure()\n",
        "fig.set_size_inches(12, 8)\n",
        "plt.scatter(df[[\"2_Cz_Low β (334)\"]],df[['코르티솔']],alpha=0.5)\n",
        "plt.show()"
      ],
      "metadata": {
        "id": "_si43yJkyxQJ",
        "colab": {
          "base_uri": "https://localhost:8080/"
        },
        "outputId": "03ab3d42-5328-49c5-ced0-1eb6ba70c512"
      },
      "execution_count": null,
      "outputs": [
        {
          "output_type": "display_data",
          "data": {
            "text/plain": [
              "<Figure size 864x576 with 1 Axes>"
            ],
            "image/png": "[encoded data removed]"
          },
          "metadata": {
            "needs_background": "light"
          }
        }
      ]
    },
    {
      "cell_type": "code",
      "source": [
        "fig = plt.figure()\n",
        "fig.set_size_inches(12,8)\n",
        "plt.scatter(df[['2_Cz_θ/Low β (410)']],df[[\"PSS(지각된 스트레스 척도)\"]],alpha=0.5)\n",
        "plt.show()"
      ],
      "metadata": {
        "colab": {
          "base_uri": "https://localhost:8080/"
        },
        "id": "mdH1v0WZ-sIM",
        "outputId": "f722f79b-6ac7-4e9b-b941-179753e2e7c7"
      },
      "execution_count": null,
      "outputs": [
        {
          "output_type": "display_data",
          "data": {
            "text/plain": [
              "<Figure size 864x576 with 1 Axes>"
            ],
            "image/png": "[encoded data removed]"
          },
          "metadata": {
            "needs_background": "light"
          }
        }
      ]
    },
    {
      "cell_type": "code",
      "source": [
        "fig = plt.figure()\n",
        "fig.set_size_inches(12, 8)\n",
        "plt.scatter(df[['2_Cz_θ/Low β (410)']],df[[\"코르티솔\"]],alpha=0.5)\n",
        "plt.show()"
      ],
      "metadata": {
        "colab": {
          "base_uri": "https://localhost:8080/"
        },
        "id": "78xBq9y5_E_A",
        "outputId": "09a2450e-74da-41cd-b491-73f3260dfe6e"
      },
      "execution_count": null,
      "outputs": [
        {
          "output_type": "display_data",
          "data": {
            "text/plain": [
              "<Figure size 864x576 with 1 Axes>"
            ],
            "image/png": "[encoded data removed]"
          },
          "metadata": {
            "needs_background": "light"
          }
        }
      ]
    },
    {
      "cell_type": "markdown",
      "source": [
        "## Regression score"
      ],
      "metadata": {
        "id": "9_-kGzsHc7At"
      }
    },
    {
      "cell_type": "code",
      "source": [
        "svm_regression_y.score(x_train, y) #svm preceision score about PSS"
      ],
      "metadata": {
        "colab": {
          "base_uri": "https://localhost:8080/"
        },
        "id": "D80XaVwNV88W",
        "outputId": "eeed1e4a-5c32-458c-d1da-b63dba8785f0"
      },
      "execution_count": null,
      "outputs": [
        {
          "output_type": "execute_result",
          "data": {
            "text/plain": [
              "0.9979115705286146"
            ]
          },
          "metadata": {},
          "execution_count": 126
        }
      ]
    },
    {
      "cell_type": "code",
      "source": [
        "svm_regression_z.score(x_train, z) #svm precision score about 코르티솔"
      ],
      "metadata": {
        "colab": {
          "base_uri": "https://localhost:8080/"
        },
        "id": "f6Flnn4iBMqB",
        "outputId": "7643f4da-2b6a-42e4-ebb8-6356cfb98c52"
      },
      "execution_count": null,
      "outputs": [
        {
          "output_type": "execute_result",
          "data": {
            "text/plain": [
              "0.9964574155119549"
            ]
          },
          "metadata": {},
          "execution_count": 127
        }
      ]
    },
    {
      "cell_type": "code",
      "source": [
        "gbrt_y.score(x_train,y) #gbrt score about PSS"
      ],
      "metadata": {
        "colab": {
          "base_uri": "https://localhost:8080/"
        },
        "id": "j0Jl3ML5Lfxg",
        "outputId": "bdf0dcd6-44b7-4170-8689-442ae28a7423"
      },
      "execution_count": null,
      "outputs": [
        {
          "output_type": "execute_result",
          "data": {
            "text/plain": [
              "0.9975625557304376"
            ]
          },
          "metadata": {},
          "execution_count": 302
        }
      ]
    },
    {
      "cell_type": "code",
      "source": [
        "gbrt_z.score(x_train,z)  #gbrt score about 코르티솔"
      ],
      "metadata": {
        "colab": {
          "base_uri": "https://localhost:8080/"
        },
        "id": "oQU7JZjtOSmM",
        "outputId": "1804a923-1380-4582-dce6-ddc1143b14b4"
      },
      "execution_count": null,
      "outputs": [
        {
          "output_type": "execute_result",
          "data": {
            "text/plain": [
              "0.9969003420259187"
            ]
          },
          "metadata": {},
          "execution_count": 306
        }
      ]
    },
    {
      "cell_type": "code",
      "source": [
        "gbrt_y_pca.score(pca_x_train,y) #pca gbrt score about PSS"
      ],
      "metadata": {
        "colab": {
          "base_uri": "https://localhost:8080/"
        },
        "id": "04Pdgu0n1YTp",
        "outputId": "dd10cf6c-d7a4-452b-8082-bf05c136d00b"
      },
      "execution_count": null,
      "outputs": [
        {
          "output_type": "execute_result",
          "data": {
            "text/plain": [
              "0.9972640320461996"
            ]
          },
          "metadata": {},
          "execution_count": 307
        }
      ]
    },
    {
      "cell_type": "code",
      "source": [
        "gbrt_z_pca.score(pca_x_train,z) #pca gbrt score about 코르티솔"
      ],
      "metadata": {
        "colab": {
          "base_uri": "https://localhost:8080/"
        },
        "id": "IrrBAT0e1aW6",
        "outputId": "1bcf464a-a8f7-47aa-b398-fb08f76f03e0"
      },
      "execution_count": null,
      "outputs": [
        {
          "output_type": "execute_result",
          "data": {
            "text/plain": [
              "0.9966233758182531"
            ]
          },
          "metadata": {},
          "execution_count": 308
        }
      ]
    },
    {
      "cell_type": "markdown",
      "source": [
        "## Test about 2_Cz_θ/Low β (410)"
      ],
      "metadata": {
        "id": "4APpWms7ux6Q"
      }
    },
    {
      "cell_type": "code",
      "source": [
        "x_train_2 =df[['2_Cz_θ/Low β (410)']]\n",
        "y_2=y"
      ],
      "metadata": {
        "id": "gF-BHt-nwFv2"
      },
      "execution_count": null,
      "outputs": []
    },
    {
      "cell_type": "code",
      "source": [
        "x_train_2.drop([169], axis=0, inplace=True)\n",
        "y_2.drop([169],axis=0 , inplace=True)"
      ],
      "metadata": {
        "id": "WVqANbBh8O8C",
        "outputId": "3e132dc3-0483-4fc0-bc5f-64fd8622167e",
        "colab": {
          "base_uri": "https://localhost:8080/"
        }
      },
      "execution_count": null,
      "outputs": [
        {
          "output_type": "stream",
          "name": "stderr",
          "text": [
            "/usr/local/lib/python3.8/dist-packages/pandas/core/frame.py:4906: SettingWithCopyWarning: \n",
            "A value is trying to be set on a copy of a slice from a DataFrame\n",
            "\n",
            "See the caveats in the documentation: https://pandas.pydata.org/pandas-docs/stable/user_guide/indexing.html#returning-a-view-versus-a-copy\n",
            "  return super().drop(\n"
          ]
        }
      ]
    },
    {
      "cell_type": "code",
      "source": [
        "x_train_2.max()"
      ],
      "metadata": {
        "id": "XS-xigz79Bxc",
        "outputId": "c701f5d4-7957-4c48-f58c-6b9c02b1ed78",
        "colab": {
          "base_uri": "https://localhost:8080/"
        }
      },
      "execution_count": null,
      "outputs": [
        {
          "output_type": "execute_result",
          "data": {
            "text/plain": [
              "2_Cz_θ/Low β (410)    6.455087\n",
              "dtype: float64"
            ]
          },
          "metadata": {},
          "execution_count": 153
        }
      ]
    },
    {
      "cell_type": "code",
      "source": [
        "gbrt_2 = GradientBoostingRegressor(max_depth=10, n_estimators=300, learning_rate=1e-2, random_state=42)\n",
        "gbrt_2.fit(x_train_2,y_2)"
      ],
      "metadata": {
        "colab": {
          "base_uri": "https://localhost:8080/"
        },
        "id": "1wWvk87Auw7D",
        "outputId": "09d7d118-5f90-4e25-8c73-402d66d30b3f"
      },
      "execution_count": null,
      "outputs": [
        {
          "output_type": "execute_result",
          "data": {
            "text/plain": [
              "GradientBoostingRegressor(learning_rate=0.01, max_depth=10, n_estimators=300,\n",
              "                          random_state=42)"
            ]
          },
          "metadata": {},
          "execution_count": 154
        }
      ]
    },
    {
      "cell_type": "code",
      "source": [
        "mse_2=mean_squared_error(y,gbrt_2.predict(x_train_2))\n",
        "print(\"The mean squared error (MSE) on test set: {:.4f}\".format(mse_2))"
      ],
      "metadata": {
        "colab": {
          "base_uri": "https://localhost:8080/"
        },
        "id": "Tk3mfcysvKqd",
        "outputId": "864b1d2f-b51e-444f-ec83-fd7189261bb8"
      },
      "execution_count": null,
      "outputs": [
        {
          "output_type": "stream",
          "name": "stdout",
          "text": [
            "The mean squared error (MSE) on test set: 0.0064\n"
          ]
        }
      ]
    },
    {
      "cell_type": "code",
      "source": [
        "print('y_pred_ensemble :', gbrt_2.predict(x_train_2)) #ensemble model"
      ],
      "metadata": {
        "colab": {
          "base_uri": "https://localhost:8080/"
        },
        "id": "ElMHjjDHvVqO",
        "outputId": "1fb99486-8b3e-4f50-883f-b8eeb71ae21d"
      },
      "execution_count": null,
      "outputs": [
        {
          "output_type": "stream",
          "name": "stdout",
          "text": [
            "y_pred_ensemble : [0.39239484 0.43709136 0.55974779 0.41075316 0.4085692  0.76712657\n",
            " 0.55887072 0.39697997 0.47692258 0.4585103  0.3378518  0.4573269\n",
            " 0.80471514 0.76374107 0.3382538  0.06718188 0.3929992  0.64925644\n",
            " 0.55887072 0.53710878 0.4347897  0.24719599 0.48113015 0.54649867\n",
            " 0.593889   0.23621689 0.16792038 0.27564972 0.47317406 0.51789665\n",
            " 0.51789665 0.34256132 0.43205106 0.34878817 0.72160713 0.76374107\n",
            " 0.44407344 0.43887962 0.43534288 0.43786661 0.43509964 0.2824793\n",
            " 0.28638336 0.18066002 0.23414307 0.21646541 0.16983219 0.42650169\n",
            " 0.33562092 0.49049022 0.49697662 0.42845027 0.53092188 0.33954804\n",
            " 0.37212308 0.45585763 0.39798409 0.49465659 0.51789665 0.56308267\n",
            " 0.39798409 0.41305419 0.39534158 0.46212656 0.51789665 0.44845716\n",
            " 0.51132023 0.48390152 0.71741273 0.84568921 0.5341226  0.59984479\n",
            " 0.41365799 0.48753391 0.47961139 0.44407344 0.13538736 0.32157743\n",
            " 0.16833293 0.44130701 0.54725911 0.68391202 0.75136887 0.444738\n",
            " 0.5424806  0.46212656 0.33534674 0.50081922 0.64081886 0.63468512\n",
            " 0.722767   0.6962399  0.35928821 0.19010409 0.36094322 0.36272357\n",
            " 0.48154161 0.44417106 0.36801081 0.25950113 0.40416942 0.45878787\n",
            " 0.44151411 0.39497444 0.50141663 0.3750985  0.23294432 0.46217469\n",
            " 0.45517123 0.41609588 0.39798409 0.48238595 0.59984479 0.45866642\n",
            " 0.80471514 0.63392264 0.5196738  0.92763735 0.96861142 0.43786661\n",
            " 0.35766183 0.39305605 0.3194345  0.2994369  0.08979946 0.14700946\n",
            " 0.46403618 0.51756449 0.41863413 0.44614738 0.52519025 0.47831919\n",
            " 0.46060864 0.505619   0.49856707 0.59984479 0.47692258 0.39720096\n",
            " 0.44973387 0.2700328  0.25950113 0.49923872 0.4585103  0.40802789\n",
            " 0.48753391 0.47692258 0.49301309 0.42515211 0.45956674 0.25066562\n",
            " 0.31752295 0.54689802 0.56940321 0.61266926 0.35400037 0.25532255\n",
            " 0.25066562 0.34375595 0.28758044 0.32632126 0.4158499  0.48782803\n",
            " 0.46217469 0.42233928 0.44380213 0.39534158 0.32236661 0.23230007\n",
            " 0.84568921 0.92763735 0.722767   0.45099961 0.47692258 0.64499508\n",
            " 0.6969639  0.61396655 0.23086636 0.29376178 0.26597997]\n"
          ]
        }
      ]
    },
    {
      "cell_type": "code",
      "source": [
        "y_pred_2=gbrt_2.predict(x_train_2)"
      ],
      "metadata": {
        "id": "1dgveUbQvqrG"
      },
      "execution_count": null,
      "outputs": []
    },
    {
      "cell_type": "code",
      "source": [
        "gbrt_2.score(x_train_2,y)"
      ],
      "metadata": {
        "colab": {
          "base_uri": "https://localhost:8080/"
        },
        "id": "zI7Pb4ZbxIol",
        "outputId": "3a714893-982a-4417-9e76-525ef1ffe915"
      },
      "execution_count": null,
      "outputs": [
        {
          "output_type": "execute_result",
          "data": {
            "text/plain": [
              "0.8647179961309089"
            ]
          },
          "metadata": {},
          "execution_count": 158
        }
      ]
    },
    {
      "cell_type": "code",
      "source": [
        "fig = plt.figure()\n",
        "fig.set_size_inches(6,6)\n",
        "plt.scatter(x_train_2, y,alpha=0.4)\n",
        "plt.title(\"gbrt model\")\n",
        "plt.xlabel(\"Data\")\n",
        "plt.ylabel(\"y_pred\")\n",
        "plt.show()"
      ],
      "metadata": {
        "colab": {
          "base_uri": "https://localhost:8080/",
          "height": 404
        },
        "id": "8g_MFweUvf7X",
        "outputId": "a1067db2-e702-496c-86f6-02e6b6148130"
      },
      "execution_count": null,
      "outputs": [
        {
          "output_type": "display_data",
          "data": {
            "text/plain": [
              "<Figure size 432x432 with 1 Axes>"
            ],
            "image/png": "[encoded data removed]"
          },
          "metadata": {
            "needs_background": "light"
          }
        }
      ]
    },
    {
      "cell_type": "code",
      "source": [
        "plt.figure(figsize=(8,8))\n",
        "plt.scatter(y,y_pred_2,alpha=0.4,label=\"PSS\")\n",
        "plt.legend()\n",
        "plt.show()"
      ],
      "metadata": {
        "id": "YsSB3Xrb42VL",
        "outputId": "94c080d4-08b5-4829-af87-a26e2b49b80d",
        "colab": {
          "base_uri": "https://localhost:8080/",
          "height": 483
        }
      },
      "execution_count": null,
      "outputs": [
        {
          "output_type": "display_data",
          "data": {
            "text/plain": [
              "<Figure size 576x576 with 1 Axes>"
            ],
            "image/png": "[encoded data removed]"
          },
          "metadata": {
            "needs_background": "light"
          }
        }
      ]
    },
    {
      "cell_type": "markdown",
      "source": [
        "## about 심박수 그리고 심박변이"
      ],
      "metadata": {
        "id": "jX2NaJj9Oy4T"
      }
    },
    {
      "cell_type": "code",
      "source": [
        "x_ex = x_train[['심박수','심박변이']]"
      ],
      "metadata": {
        "id": "XpzOc8ZrO7Ts"
      },
      "execution_count": null,
      "outputs": []
    },
    {
      "cell_type": "code",
      "source": [
        "x_n=x_train[['심박수']]\n",
        "x_n = (x_n -x_n.min())/(x_n.max() - x_n.min())\n",
        "x_c=x_train[['심박변이']]\n",
        "x_c=(x_c -x_c.min())/(x_c.max() - x_c.min())"
      ],
      "metadata": {
        "id": "SvGflkDNT3q-"
      },
      "execution_count": null,
      "outputs": []
    },
    {
      "cell_type": "code",
      "source": [
        "gbrt_ex_y =GradientBoostingRegressor(max_depth=10, n_estimators=300, learning_rate=1e-2, random_state=42)\n",
        "gbrt_ex_z =GradientBoostingRegressor(max_depth=10, n_estimators=800, learning_rate=1e-5, random_state=42)\n",
        "gbrt_ex_y.fit(x_ex,y)\n",
        "gbrt_ex_z.fit(x_ex,z)"
      ],
      "metadata": {
        "colab": {
          "base_uri": "https://localhost:8080/"
        },
        "id": "80SuKRGuPECL",
        "outputId": "59de7f63-7fe9-4dfe-c2a8-567a7bc94734"
      },
      "execution_count": null,
      "outputs": [
        {
          "output_type": "stream",
          "name": "stderr",
          "text": [
            "/usr/local/lib/python3.8/dist-packages/sklearn/ensemble/_gb.py:494: DataConversionWarning: A column-vector y was passed when a 1d array was expected. Please change the shape of y to (n_samples, ), for example using ravel().\n",
            "  y = column_or_1d(y, warn=True)\n"
          ]
        },
        {
          "output_type": "execute_result",
          "data": {
            "text/plain": [
              "GradientBoostingRegressor(learning_rate=1e-05, max_depth=10, n_estimators=800,\n",
              "                          random_state=42)"
            ]
          },
          "metadata": {},
          "execution_count": 87
        }
      ]
    },
    {
      "cell_type": "code",
      "source": [
        "gbrt_ex_y.get_params"
      ],
      "metadata": {
        "colab": {
          "base_uri": "https://localhost:8080/"
        },
        "id": "0rvQQHDpccmB",
        "outputId": "ce061652-cb90-474c-eba3-dcbdf925d82a"
      },
      "execution_count": null,
      "outputs": [
        {
          "output_type": "execute_result",
          "data": {
            "text/plain": [
              "<bound method BaseEstimator.get_params of GradientBoostingRegressor(learning_rate=0.01, max_depth=10, n_estimators=300,\n",
              "                          random_state=42)>"
            ]
          },
          "metadata": {},
          "execution_count": 125
        }
      ]
    },
    {
      "cell_type": "code",
      "source": [
        "mse_y_simbak=mean_squared_error(y,gbrt_ex_y.predict(x_ex))\n",
        "print(\"The mean squared error (MSE) on test set: {:.4f}\".format(mse_y_simbak))\n",
        "mse_z_simbak=mean_squared_error(y,gbrt_ex_z.predict(x_ex))\n",
        "print(\"The mean squared error (MSE) on test set: {:.4f}\".format(mse_z_simbak))"
      ],
      "metadata": {
        "colab": {
          "base_uri": "https://localhost:8080/"
        },
        "id": "2gLvOgqBQShB",
        "outputId": "de7f9179-b0eb-4ca9-8b7d-438f3ed685b1"
      },
      "execution_count": null,
      "outputs": [
        {
          "output_type": "stream",
          "name": "stdout",
          "text": [
            "The mean squared error (MSE) on test set: 0.0063\n",
            "The mean squared error (MSE) on test set: 0.1003\n"
          ]
        }
      ]
    },
    {
      "cell_type": "code",
      "source": [
        "y_pred_ex = gbrt_ex_y.predict(x_ex)\n",
        "z_pred_ex = gbrt_ex_z.predict(x_ex)"
      ],
      "metadata": {
        "id": "hN2DDtlTWjiK"
      },
      "execution_count": null,
      "outputs": []
    },
    {
      "cell_type": "code",
      "source": [
        "y_pred_ex"
      ],
      "metadata": {
        "colab": {
          "base_uri": "https://localhost:8080/"
        },
        "id": "pGFG3IA2XEZC",
        "outputId": "2d6697a6-f5c9-4a26-e840-b05b09f0f819"
      },
      "execution_count": null,
      "outputs": [
        {
          "output_type": "execute_result",
          "data": {
            "text/plain": [
              "array([0.31310214, 0.43591878, 0.76411156, 0.39494382, 0.32527402,\n",
              "       0.87497716, 0.54067346, 0.35622842, 0.48632404, 0.45812258,\n",
              "       0.41849513, 0.41794975, 0.8053264 , 0.72795874, 0.11267058,\n",
              "       0.17179787, 0.39731245, 0.65054421, 0.48289472, 0.57229427,\n",
              "       0.44230358, 0.14715444, 0.63410272, 0.57881896, 0.569403  ,\n",
              "       0.21026666, 0.0681298 , 0.20739351, 0.43591878, 0.51594671,\n",
              "       0.49739456, 0.26439607, 0.39669305, 0.36450179, 0.68399904,\n",
              "       0.63844228, 0.51219296, 0.43194805, 0.42097997, 0.41908716,\n",
              "       0.45508714, 0.27157532, 0.27847882, 0.16940949, 0.11267058,\n",
              "       0.38496511, 0.1270489 , 0.35787963, 0.26990464, 0.57560051,\n",
              "       0.58923086, 0.4498423 , 0.56959659, 0.32574551, 0.31132636,\n",
              "       0.54790106, 0.41908716, 0.55782152, 0.52915441, 0.57887234,\n",
              "       0.42297989, 0.39674581, 0.38600615, 0.48165525, 0.51672258,\n",
              "       0.5169284 , 0.49520317, 0.41849513, 0.78252444, 0.53830159,\n",
              "       0.56204839, 0.57503067, 0.41908716, 0.51493918, 0.51835492,\n",
              "       0.47518312, 0.10901618, 0.33330753, 0.16315693, 0.43347963,\n",
              "       0.63844228, 0.69481074, 0.86442366, 0.43520006, 0.51762152,\n",
              "       0.47568705, 0.30371113, 0.54768439, 0.63370635, 0.57991559,\n",
              "       0.70152287, 0.75258803, 0.36506448, 0.20766356, 0.3796585 ,\n",
              "       0.28521803, 0.3246655 , 0.48013635, 0.3154253 , 0.20069156,\n",
              "       0.35481965, 0.4498423 , 0.41145441, 0.64270362, 0.54566641,\n",
              "       0.33817715, 0.35294774, 0.46758768, 0.47753927, 0.44138792,\n",
              "       0.40164692, 0.49915935, 0.60122106, 0.47834457, 0.80189741,\n",
              "       0.66056099, 0.56679003, 0.8985847 , 0.64270362, 0.44336783,\n",
              "       0.39947332, 0.43347963, 0.32592199, 0.20523153, 0.3246655 ,\n",
              "       0.12507174, 0.39947332, 0.59967147, 0.39626708, 0.45202136,\n",
              "       0.5101268 , 0.45832996, 0.52918548, 0.54080069, 0.57400359,\n",
              "       0.59844365, 0.47269156, 0.31310214, 0.50249065, 0.19905291,\n",
              "       0.21657692, 0.60122106, 0.43490224, 0.40893799, 0.50249065,\n",
              "       0.44636115, 0.38496511, 0.43909762, 0.50108876, 0.35938739,\n",
              "       0.23077655, 0.55872224, 0.59618914, 0.76407348, 0.36139077,\n",
              "       0.2427504 , 0.24434405, 0.33330753, 0.18544394, 0.23416644,\n",
              "       0.35481965, 0.50337801, 0.45442418, 0.43752615, 0.4384623 ,\n",
              "       0.53830159, 0.24202424, 0.20244621, 0.84929735, 0.86879012,\n",
              "       0.93198945, 0.72525921, 0.55681246, 0.47838265, 0.84436912,\n",
              "       0.69524525, 0.64161824, 0.15875629, 0.31310214, 0.22313526])"
            ]
          },
          "metadata": {},
          "execution_count": 105
        }
      ]
    },
    {
      "cell_type": "code",
      "source": [
        "fig = plt.figure()\n",
        "fig.set_size_inches(8,8)\n",
        "ax=plt.axes(projection='3d')\n",
        "ax.set_xlabel(\"simbak_n\")\n",
        "ax.set_ylabel(\"simback_c\")\n",
        "ax.set_zlabel(\"PSS\")\n",
        "\n",
        "ax.scatter(x_n,x_c,y)\n",
        "plt.show()"
      ],
      "metadata": {
        "colab": {
          "base_uri": "https://localhost:8080/",
          "height": 466
        },
        "id": "MIkYoXHrRtVQ",
        "outputId": "78e03ba8-c109-4784-a231-f450d5be1e4a"
      },
      "execution_count": null,
      "outputs": [
        {
          "output_type": "display_data",
          "data": {
            "text/plain": [
              "<Figure size 576x576 with 1 Axes>"
            ],
            "image/png": "[encoded data removed]"
          },
          "metadata": {
            "needs_background": "light"
          }
        }
      ]
    },
    {
      "cell_type": "code",
      "source": [
        "fig = plt.figure()\n",
        "fig.set_size_inches(8,8)\n",
        "plt.scatter(y,y_pred_ex,alpha=0.4,label='PSS')\n",
        "plt.xlabel(\"value\",fontsize = 16)\n",
        "plt.ylabel(\"predict_value\",fontsize = 16)\n",
        "plt.legend()\n",
        "plt.show()"
      ],
      "metadata": {
        "colab": {
          "base_uri": "https://localhost:8080/",
          "height": 502
        },
        "id": "GLnxQrzxYi1n",
        "outputId": "823e17a1-5c02-47a1-f7f9-e5ca7a4f444c"
      },
      "execution_count": null,
      "outputs": [
        {
          "output_type": "display_data",
          "data": {
            "text/plain": [
              "<Figure size 576x576 with 1 Axes>"
            ],
            "image/png": "[encoded data removed]"
          },
          "metadata": {
            "needs_background": "light"
          }
        }
      ]
    },
    {
      "cell_type": "code",
      "source": [
        "fig = plt.figure()\n",
        "fig.set_size_inches(8,8)\n",
        "plt.scatter(z,z_pred_ex,alpha=0.4,label='cortisol')\n",
        "plt.xlabel(\"value\",fontsize = 16)\n",
        "plt.ylabel(\"predict_value\",fontsize = 16)\n",
        "plt.legend()\n",
        "plt.show()"
      ],
      "metadata": {
        "colab": {
          "base_uri": "https://localhost:8080/",
          "height": 504
        },
        "id": "EZTlUEZ5fs0k",
        "outputId": "8fc8bef3-c872-4fb4-b69d-3e6a690c3df3"
      },
      "execution_count": null,
      "outputs": [
        {
          "output_type": "display_data",
          "data": {
            "text/plain": [
              "<Figure size 576x576 with 1 Axes>"
            ],
            "image/png": "[encoded data removed]"
          },
          "metadata": {
            "needs_background": "light"
          }
        }
      ]
    },
    {
      "cell_type": "code",
      "source": [
        "print(\"PSS에 대한 심박 학습 스코어: \" , gbrt_ex_y.score(x_ex,y))\n",
        "print(\"코르티솔에 대한 심박 학습 스코어: \" , gbrt_ex_z.score(x_ex,z))"
      ],
      "metadata": {
        "colab": {
          "base_uri": "https://localhost:8080/"
        },
        "id": "HjsX_dU4X85d",
        "outputId": "69d620c3-28a1-4f8d-e8e1-dcbd2f19c919"
      },
      "execution_count": null,
      "outputs": [
        {
          "output_type": "stream",
          "name": "stdout",
          "text": [
            "PSS에 대한 심박 학습 스코어:  0.8689468279352973\n",
            "코르티솔에 대한 심박 학습 스코어:  0.013894340516359627\n"
          ]
        }
      ]
    },
    {
      "cell_type": "code",
      "source": [
        "gbrt_ex_y.get_params(deep=True)"
      ],
      "metadata": {
        "colab": {
          "base_uri": "https://localhost:8080/"
        },
        "id": "hQ7-jCdWj7SL",
        "outputId": "2313c000-6e1c-42c9-dec6-67ffa82914da"
      },
      "execution_count": null,
      "outputs": [
        {
          "output_type": "execute_result",
          "data": {
            "text/plain": [
              "{'alpha': 0.9,\n",
              " 'ccp_alpha': 0.0,\n",
              " 'criterion': 'friedman_mse',\n",
              " 'init': None,\n",
              " 'learning_rate': 0.01,\n",
              " 'loss': 'squared_error',\n",
              " 'max_depth': 10,\n",
              " 'max_features': None,\n",
              " 'max_leaf_nodes': None,\n",
              " 'min_impurity_decrease': 0.0,\n",
              " 'min_samples_leaf': 1,\n",
              " 'min_samples_split': 2,\n",
              " 'min_weight_fraction_leaf': 0.0,\n",
              " 'n_estimators': 300,\n",
              " 'n_iter_no_change': None,\n",
              " 'random_state': 42,\n",
              " 'subsample': 1.0,\n",
              " 'tol': 0.0001,\n",
              " 'validation_fraction': 0.1,\n",
              " 'verbose': 0,\n",
              " 'warm_start': False}"
            ]
          },
          "metadata": {},
          "execution_count": 189
        }
      ]
    },
    {
      "cell_type": "code",
      "source": [
        "gbrt_ex_z.get_params(deep=True)"
      ],
      "metadata": {
        "colab": {
          "base_uri": "https://localhost:8080/"
        },
        "id": "MbZ5s-FOj-k4",
        "outputId": "4b2ef771-0a06-4d29-b1a2-73e6e6a445c4"
      },
      "execution_count": null,
      "outputs": [
        {
          "output_type": "execute_result",
          "data": {
            "text/plain": [
              "{'alpha': 0.9,\n",
              " 'ccp_alpha': 0.0,\n",
              " 'criterion': 'friedman_mse',\n",
              " 'init': None,\n",
              " 'learning_rate': 1e-05,\n",
              " 'loss': 'squared_error',\n",
              " 'max_depth': 10,\n",
              " 'max_features': None,\n",
              " 'max_leaf_nodes': None,\n",
              " 'min_impurity_decrease': 0.0,\n",
              " 'min_samples_leaf': 1,\n",
              " 'min_samples_split': 2,\n",
              " 'min_weight_fraction_leaf': 0.0,\n",
              " 'n_estimators': 800,\n",
              " 'n_iter_no_change': None,\n",
              " 'random_state': 42,\n",
              " 'subsample': 1.0,\n",
              " 'tol': 0.0001,\n",
              " 'validation_fraction': 0.1,\n",
              " 'verbose': 0,\n",
              " 'warm_start': False}"
            ]
          },
          "metadata": {},
          "execution_count": 190
        }
      ]
    }
  ]
}